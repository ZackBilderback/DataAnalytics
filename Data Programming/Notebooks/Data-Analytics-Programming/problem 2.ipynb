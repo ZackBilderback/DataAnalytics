{
 "cells": [
  {
   "cell_type": "code",
   "execution_count": 3,
   "metadata": {
    "collapsed": false
   },
   "outputs": [],
   "source": [
    "import re\n",
    "\n",
    "def getLists(fileName):\n",
    "    f = open(fileName, 'r')\n",
    "    raw = f.read()\n",
    "    \n",
    "    pattern = re.findall(\"<td>\\w+.? ?[A-Z]+</td>..<td>[0-9]+,?[0-9]+,?[0-9]+?</td>..<td>[0-9]+,?[0-9]+,?[0-9]+?</td>\", raw, re.DOTALL | re.IGNORECASE)\n",
    "    \n",
    "    cities = re.findall(\"<td>\\w+.? ?[A-Z]+</td>\", str(pattern), re.DOTALL | re.IGNORECASE)\n",
    "    \n",
    "    cities = re.sub(\"<td>\", \"\", str(cities))\n",
    "    cities = re.sub(\"</td>\", \"\", cities)\n",
    "    cities = re.sub(\"'\", \"\", cities)\n",
    "    cities = re.sub(\"\\[\", \"\", cities)\n",
    "    cities = re.sub(\"\\]\", \"\", cities)\n",
    "    cities = re.split(\", \", cities)\n",
    "    \n",
    "    numbers = re.findall(\"[0-9]+,?[0-9]+,?[0-9]+\", str(pattern))\n",
    "    \n",
    "    repVotes = []\n",
    "    demVotes = []\n",
    "    for n in numbers:\n",
    "        if numbers.index(n) % 2 == 0:\n",
    "            repVotes.append(n)\n",
    "        elif numbers.index(n) % 2 == 1:\n",
    "            demVotes.append(n)\n",
    "    \n",
    "    f.close()\n",
    "    return cities, repVotes, demVotes\n",
    "\n",
    "def getOrdering(demVotes):\n",
    "    for i in demVotes:\n",
    "        demVotes[demVotes.index(i)] = int(i.replace(',', ''))\n",
    "    \n",
    "    s = sorted(demVotes)\n",
    "    \n",
    "    ordering = []\n",
    "    for i in s:\n",
    "        ordering.append(demVotes.index(i))\n",
    "        \n",
    "    return ordering\n",
    "\n",
    "def orderByDem(cities, repVotes, demVotes, ordering):\n",
    "    for i in ordering:\n",
    "        repVotes[i] = repVotes[i].replace(',', '')\n",
    "        print cities[i], repVotes[i], demVotes[i]\n",
    "\n",
    "cities, repVotes, demVotes = getLists('FloridaVoters.html')\n",
    "ordering = getOrdering(demVotes)\n",
    "orderByDem(cities, repVotes, demVotes, ordering)"
   ]
  },
  {
   "cell_type": "code",
   "execution_count": null,
   "metadata": {
    "collapsed": true
   },
   "outputs": [],
   "source": []
  },
  {
   "cell_type": "code",
   "execution_count": null,
   "metadata": {
    "collapsed": true
   },
   "outputs": [],
   "source": []
  }
 ],
 "metadata": {
  "anaconda-cloud": {},
  "kernelspec": {
   "display_name": "Python 2",
   "language": "python",
   "name": "python2"
  },
  "language_info": {
   "codemirror_mode": {
    "name": "ipython",
    "version": 2
   },
   "file_extension": ".py",
   "mimetype": "text/x-python",
   "name": "python",
   "nbconvert_exporter": "python",
   "pygments_lexer": "ipython2",
   "version": "2.7.11"
  }
 },
 "nbformat": 4,
 "nbformat_minor": 0
}

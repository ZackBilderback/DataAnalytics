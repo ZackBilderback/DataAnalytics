{
 "cells": [
  {
   "cell_type": "markdown",
   "metadata": {},
   "source": [
    "# Homework 3\n",
    "### By: Zack Bilderback"
   ]
  },
  {
   "cell_type": "markdown",
   "metadata": {},
   "source": [
    "### Question 1"
   ]
  },
  {
   "cell_type": "markdown",
   "metadata": {},
   "source": [
    "Approach: I first import the necessary modules. I then use the read function to read in the two files. Both of the files separate data by tabs so I have to use the \\t delimiter when reading in the data. I then use set the columns of each dataframe to the specified names. "
   ]
  },
  {
   "cell_type": "code",
   "execution_count": 1,
   "metadata": {
    "collapsed": false
   },
   "outputs": [
    {
     "name": "stdout",
     "output_type": "stream",
     "text": [
      "Populating the interactive namespace from numpy and matplotlib\n",
      "Top 5 from gold dataframe:\n",
      "                                      url category\n",
      "0               http://0800-horoscope.com        G\n",
      "1                      http://18games.net        X\n",
      "2                    http://1pixelout.net        G\n",
      "3  http://1porno.com/004/teens/index.html        X\n",
      "4   http://1stpussy.com/005/16/index.html        X\n",
      "\n",
      "Top 5 from labels dataframe\n",
      "             turk            url category\n",
      "0  A1OT3A29R9N1DG  http://000.cc        P\n",
      "1  A1PXXEOGQ76RNJ  http://000.cc        G\n",
      "2  A1PXXEOGQ76RNJ  http://000.cc        G\n",
      "3  A21US576U8SCO4  http://000.cc        G\n",
      "4  A2LGX47NN7C5D3  http://000.cc        G\n"
     ]
    }
   ],
   "source": [
    "from pandas import Series, DataFrame\n",
    "import pandas as pd\n",
    "import math\n",
    "%pylab inline\n",
    "\n",
    "goldDF = pd.read_csv('gold.txt', sep = \"\\t\", header = None, dtype = unicode)\n",
    "goldDF.columns = [\"url\", \"category\"]\n",
    "labelsDF = pd.read_csv('labels.txt', sep = \"\\t\", header = None, dtype = unicode)\n",
    "labelsDF.columns = [\"turk\", \"url\", \"category\"]\n",
    "print \"Top 5 from gold dataframe:\"\n",
    "print goldDF[:5]\n",
    "print \n",
    "print \"Top 5 from labels dataframe\"\n",
    "print labelsDF[:5]"
   ]
  },
  {
   "cell_type": "markdown",
   "metadata": {},
   "source": [
    "### Question 2"
   ]
  },
  {
   "cell_type": "markdown",
   "metadata": {},
   "source": [
    "Approach: I first merge the two dataframes together so the indexes are the same which make applying a mask easier. I then make two masks on the category_y column to determine if the url is present. If the value in the category_y column is Nan then that url was not present in the gold dataframe. The same logic can be applied to that column if the value is present. I use those two masks to split the labels dataframe into the specified values. The column category_x are the ratings from the labels dataframe and category_y represents the ratings from the gold dataframe. "
   ]
  },
  {
   "cell_type": "code",
   "execution_count": 2,
   "metadata": {
    "collapsed": false
   },
   "outputs": [
    {
     "name": "stdout",
     "output_type": "stream",
     "text": [
      "First 5 from labels_on_gold:\n",
      "               turk                        url category_x category_y\n",
      "245  A1253FXHCZ9CWM  http://0800-horoscope.com          G          G\n",
      "246  A153PKAL7OAY36  http://0800-horoscope.com          G          G\n",
      "247  A1FV9SAPL5C6KY  http://0800-horoscope.com          G          G\n",
      "248  A1JTOT0DWM6QGL  http://0800-horoscope.com          G          G\n",
      "249  A1PXXEOGQ76RNJ  http://0800-horoscope.com          G          G\n",
      "\n",
      "First 5 from labels_unknown\n",
      "             turk            url category_x category_y\n",
      "0  A1OT3A29R9N1DG  http://000.cc          P        NaN\n",
      "1  A1PXXEOGQ76RNJ  http://000.cc          G        NaN\n",
      "2  A1PXXEOGQ76RNJ  http://000.cc          G        NaN\n",
      "3  A21US576U8SCO4  http://000.cc          G        NaN\n",
      "4  A2LGX47NN7C5D3  http://000.cc          G        NaN\n"
     ]
    }
   ],
   "source": [
    "merged = pd.merge(labelsDF, goldDF, on = \"url\", how = \"left\")\n",
    "notNullUrls = merged['category_y'].notnull()\n",
    "nullUrls = merged['category_y'].isnull()\n",
    "labels_on_gold = merged[notNullUrls]\n",
    "labels_unknown = merged[nullUrls]\n",
    "print \"First 5 from labels_on_gold:\"\n",
    "print labels_on_gold[:5]\n",
    "print \n",
    "print \"First 5 from labels_unknown\"\n",
    "print labels_unknown[:5]"
   ]
  },
  {
   "cell_type": "markdown",
   "metadata": {},
   "source": [
    "### Question 3"
   ]
  },
  {
   "cell_type": "markdown",
   "metadata": {},
   "source": [
    "Approach: I first create a table by calling crosstab on the turk and category_y(gold rating) columns from the labels_on_gold dataframe. I am then able to sum by turk or the index which gives me the total number of ratings for each turk. I then create the new dataframe called rater_goodness with the number of ratings per turk as the column and the index as turk. I then change the column name for the problem to be \"Num of Ratings\". I think make a mask using the labels_on_gold dataframe to check if the ratings are correct for each url. I do a value count on the turk column to count how many times each turk provided the correct rating. This tells me how many times a turk was correct. I then drop duplicate indicies from my rater_goodness dataframe to avoid mulitple row division errors. I then sort the new dataframe by index to align it properly for the average correctness division performed with the two newly created series. "
   ]
  },
  {
   "cell_type": "code",
   "execution_count": 3,
   "metadata": {
    "collapsed": false
   },
   "outputs": [
    {
     "name": "stdout",
     "output_type": "stream",
     "text": [
      "First 5 from rater_goodness dataframe:\n"
     ]
    },
    {
     "data": {
      "text/html": [
       "<div>\n",
       "<table border=\"1\" class=\"dataframe\">\n",
       "  <thead>\n",
       "    <tr style=\"text-align: right;\">\n",
       "      <th></th>\n",
       "      <th>Num of Ratings</th>\n",
       "      <th>Avg Correctness</th>\n",
       "    </tr>\n",
       "    <tr>\n",
       "      <th>turk</th>\n",
       "      <th></th>\n",
       "      <th></th>\n",
       "    </tr>\n",
       "  </thead>\n",
       "  <tbody>\n",
       "    <tr>\n",
       "      <th>A112DVP1KG4QZU</th>\n",
       "      <td>1</td>\n",
       "      <td>1.000000</td>\n",
       "    </tr>\n",
       "    <tr>\n",
       "      <th>A1253FXHCZ9CWM</th>\n",
       "      <td>29</td>\n",
       "      <td>0.517241</td>\n",
       "    </tr>\n",
       "    <tr>\n",
       "      <th>A12CY1Q7XKJJDE</th>\n",
       "      <td>1</td>\n",
       "      <td>1.000000</td>\n",
       "    </tr>\n",
       "    <tr>\n",
       "      <th>A12RE8G66WTO8B</th>\n",
       "      <td>20</td>\n",
       "      <td>0.750000</td>\n",
       "    </tr>\n",
       "    <tr>\n",
       "      <th>A12Y1GTGIQDGRA</th>\n",
       "      <td>3</td>\n",
       "      <td>0.333333</td>\n",
       "    </tr>\n",
       "  </tbody>\n",
       "</table>\n",
       "</div>"
      ],
      "text/plain": [
       "                Num of Ratings  Avg Correctness\n",
       "turk                                           \n",
       "A112DVP1KG4QZU               1         1.000000\n",
       "A1253FXHCZ9CWM              29         0.517241\n",
       "A12CY1Q7XKJJDE               1         1.000000\n",
       "A12RE8G66WTO8B              20         0.750000\n",
       "A12Y1GTGIQDGRA               3         0.333333"
      ]
     },
     "execution_count": 3,
     "metadata": {},
     "output_type": "execute_result"
    }
   ],
   "source": [
    "table = pd.crosstab(labels_on_gold['turk'], labels_on_gold['category_y'])\n",
    "turkTotals = table.sum(axis = 1)\n",
    "rater_goodness = DataFrame(data = turkTotals, index = labels_on_gold['turk'])\n",
    "rater_goodness.columns = [\"Num of Ratings\"]\n",
    "correctMask = merged['category_x'] == merged['category_y']\n",
    "correctRatings = merged[correctMask]\n",
    "counts = correctRatings['turk'].value_counts()\n",
    "rater_goodness = rater_goodness.reset_index().drop_duplicates(subset='turk', keep='last').set_index('turk')\n",
    "rater_goodness = rater_goodness.sort_index()\n",
    "rater_goodness['Avg Correctness'] = counts / rater_goodness[\"Num of Ratings\"]\n",
    "print \"First 5 from rater_goodness dataframe:\"\n",
    "rater_goodness[:5]"
   ]
  },
  {
   "cell_type": "markdown",
   "metadata": {
    "collapsed": true
   },
   "source": [
    "### Question 4"
   ]
  },
  {
   "cell_type": "markdown",
   "metadata": {},
   "source": [
    "Approach: I take the average correctness column and store the series as the variable p. I then create a new column called 'odds' which is the formula p / (1.001-p) and print the first 5 rows. I use 1.001 to get rid of infinite values. "
   ]
  },
  {
   "cell_type": "code",
   "execution_count": 4,
   "metadata": {
    "collapsed": false
   },
   "outputs": [
    {
     "name": "stdout",
     "output_type": "stream",
     "text": [
      "First 5 rows:\n"
     ]
    },
    {
     "data": {
      "text/html": [
       "<div>\n",
       "<table border=\"1\" class=\"dataframe\">\n",
       "  <thead>\n",
       "    <tr style=\"text-align: right;\">\n",
       "      <th></th>\n",
       "      <th>Num of Ratings</th>\n",
       "      <th>Avg Correctness</th>\n",
       "      <th>odds</th>\n",
       "    </tr>\n",
       "    <tr>\n",
       "      <th>turk</th>\n",
       "      <th></th>\n",
       "      <th></th>\n",
       "      <th></th>\n",
       "    </tr>\n",
       "  </thead>\n",
       "  <tbody>\n",
       "    <tr>\n",
       "      <th>A112DVP1KG4QZU</th>\n",
       "      <td>1</td>\n",
       "      <td>1.000000</td>\n",
       "      <td>1000.000000</td>\n",
       "    </tr>\n",
       "    <tr>\n",
       "      <th>A1253FXHCZ9CWM</th>\n",
       "      <td>29</td>\n",
       "      <td>0.517241</td>\n",
       "      <td>1.069214</td>\n",
       "    </tr>\n",
       "    <tr>\n",
       "      <th>A12CY1Q7XKJJDE</th>\n",
       "      <td>1</td>\n",
       "      <td>1.000000</td>\n",
       "      <td>1000.000000</td>\n",
       "    </tr>\n",
       "    <tr>\n",
       "      <th>A12RE8G66WTO8B</th>\n",
       "      <td>20</td>\n",
       "      <td>0.750000</td>\n",
       "      <td>2.988048</td>\n",
       "    </tr>\n",
       "    <tr>\n",
       "      <th>A12Y1GTGIQDGRA</th>\n",
       "      <td>3</td>\n",
       "      <td>0.333333</td>\n",
       "      <td>0.499251</td>\n",
       "    </tr>\n",
       "  </tbody>\n",
       "</table>\n",
       "</div>"
      ],
      "text/plain": [
       "                Num of Ratings  Avg Correctness         odds\n",
       "turk                                                        \n",
       "A112DVP1KG4QZU               1         1.000000  1000.000000\n",
       "A1253FXHCZ9CWM              29         0.517241     1.069214\n",
       "A12CY1Q7XKJJDE               1         1.000000  1000.000000\n",
       "A12RE8G66WTO8B              20         0.750000     2.988048\n",
       "A12Y1GTGIQDGRA               3         0.333333     0.499251"
      ]
     },
     "execution_count": 4,
     "metadata": {},
     "output_type": "execute_result"
    }
   ],
   "source": [
    "p = rater_goodness['Avg Correctness']\n",
    "rater_goodness['odds'] = p / (1.001 - p)\n",
    "print \"First 5 rows:\"\n",
    "rater_goodness[:5]"
   ]
  },
  {
   "cell_type": "markdown",
   "metadata": {},
   "source": [
    "### Question 5"
   ]
  },
  {
   "cell_type": "markdown",
   "metadata": {},
   "source": [
    "Approach: I create a mask using the 'Num of Ratings' column and check if the value is greater than or equal to 20. I then apply the mask and sort the dataframe by the values in the average correctness column. I then print the top 10. "
   ]
  },
  {
   "cell_type": "code",
   "execution_count": 5,
   "metadata": {
    "collapsed": false
   },
   "outputs": [
    {
     "name": "stdout",
     "output_type": "stream",
     "text": [
      "The top 10 most accurate turks:\n"
     ]
    },
    {
     "data": {
      "text/html": [
       "<div>\n",
       "<table border=\"1\" class=\"dataframe\">\n",
       "  <thead>\n",
       "    <tr style=\"text-align: right;\">\n",
       "      <th></th>\n",
       "      <th>Num of Ratings</th>\n",
       "      <th>Avg Correctness</th>\n",
       "      <th>odds</th>\n",
       "    </tr>\n",
       "    <tr>\n",
       "      <th>turk</th>\n",
       "      <th></th>\n",
       "      <th></th>\n",
       "      <th></th>\n",
       "    </tr>\n",
       "  </thead>\n",
       "  <tbody>\n",
       "    <tr>\n",
       "      <th>A2U0R4X38GUKZE</th>\n",
       "      <td>20</td>\n",
       "      <td>0.950000</td>\n",
       "      <td>18.627451</td>\n",
       "    </tr>\n",
       "    <tr>\n",
       "      <th>A22C0PJUBFJTI0</th>\n",
       "      <td>36</td>\n",
       "      <td>0.916667</td>\n",
       "      <td>10.869565</td>\n",
       "    </tr>\n",
       "    <tr>\n",
       "      <th>A23YQUBXZPKILZ</th>\n",
       "      <td>24</td>\n",
       "      <td>0.875000</td>\n",
       "      <td>6.944444</td>\n",
       "    </tr>\n",
       "    <tr>\n",
       "      <th>ATVALOQVDCMZW</th>\n",
       "      <td>103</td>\n",
       "      <td>0.854369</td>\n",
       "      <td>5.826657</td>\n",
       "    </tr>\n",
       "    <tr>\n",
       "      <th>A1HIXWH4OXT8S4</th>\n",
       "      <td>40</td>\n",
       "      <td>0.825000</td>\n",
       "      <td>4.687500</td>\n",
       "    </tr>\n",
       "    <tr>\n",
       "      <th>A3220HG1O83HQ4</th>\n",
       "      <td>22</td>\n",
       "      <td>0.818182</td>\n",
       "      <td>4.475385</td>\n",
       "    </tr>\n",
       "    <tr>\n",
       "      <th>A32W20KGQXS0LL</th>\n",
       "      <td>25</td>\n",
       "      <td>0.800000</td>\n",
       "      <td>3.980100</td>\n",
       "    </tr>\n",
       "    <tr>\n",
       "      <th>A20PWAB7G3HDHU</th>\n",
       "      <td>20</td>\n",
       "      <td>0.800000</td>\n",
       "      <td>3.980100</td>\n",
       "    </tr>\n",
       "    <tr>\n",
       "      <th>AJSJVK40F5HM6</th>\n",
       "      <td>28</td>\n",
       "      <td>0.785714</td>\n",
       "      <td>3.649635</td>\n",
       "    </tr>\n",
       "    <tr>\n",
       "      <th>A31OCN4MNHUQ6W</th>\n",
       "      <td>184</td>\n",
       "      <td>0.777174</td>\n",
       "      <td>3.472222</td>\n",
       "    </tr>\n",
       "  </tbody>\n",
       "</table>\n",
       "</div>"
      ],
      "text/plain": [
       "                Num of Ratings  Avg Correctness       odds\n",
       "turk                                                      \n",
       "A2U0R4X38GUKZE              20         0.950000  18.627451\n",
       "A22C0PJUBFJTI0              36         0.916667  10.869565\n",
       "A23YQUBXZPKILZ              24         0.875000   6.944444\n",
       "ATVALOQVDCMZW              103         0.854369   5.826657\n",
       "A1HIXWH4OXT8S4              40         0.825000   4.687500\n",
       "A3220HG1O83HQ4              22         0.818182   4.475385\n",
       "A32W20KGQXS0LL              25         0.800000   3.980100\n",
       "A20PWAB7G3HDHU              20         0.800000   3.980100\n",
       "AJSJVK40F5HM6               28         0.785714   3.649635\n",
       "A31OCN4MNHUQ6W             184         0.777174   3.472222"
      ]
     },
     "execution_count": 5,
     "metadata": {},
     "output_type": "execute_result"
    }
   ],
   "source": [
    "atLeast20mask = (rater_goodness['Num of Ratings'] >= 20)\n",
    "topTurks = rater_goodness[atLeast20mask]\n",
    "topTurks = topTurks.sort_values(by = 'Avg Correctness', ascending = False)\n",
    "print \"The top 10 most accurate turks:\"\n",
    "topTurks[:10]"
   ]
  },
  {
   "cell_type": "markdown",
   "metadata": {},
   "source": [
    "### Quesiton 6"
   ]
  },
  {
   "cell_type": "markdown",
   "metadata": {},
   "source": [
    "Approach: There seems to be evidence suggesting that even turks who rate lots of urls are not anymore accurate than turks who rate few urls. Most turks rate less than 60 urls and their accuracies are equal or better to the turks who rate more urls than that. I used to plot function to look at the relationship between number of ratings and average correctness of each turk. "
   ]
  },
  {
   "cell_type": "code",
   "execution_count": 6,
   "metadata": {
    "collapsed": false
   },
   "outputs": [
    {
     "data": {
      "text/plain": [
       "[<matplotlib.lines.Line2D at 0x95d62b0>]"
      ]
     },
     "execution_count": 6,
     "metadata": {},
     "output_type": "execute_result"
    },
    {
     "data": {
      "image/png": "[encoded data removed]",
      "text/plain": [
       "<matplotlib.figure.Figure at 0x40d24a8>"
      ]
     },
     "metadata": {},
     "output_type": "display_data"
    }
   ],
   "source": [
    "plot(topTurks['Num of Ratings'], topTurks['Avg Correctness'], marker='o', linestyle='')"
   ]
  },
  {
   "cell_type": "markdown",
   "metadata": {},
   "source": [
    "### Question 7"
   ]
  },
  {
   "cell_type": "markdown",
   "metadata": {},
   "source": [
    "Approach: I first sort the rater_goodness dataframe by the number of ratings in ascending order. This allows me to divide the total length into 4 distinct quarters and I take the top quarter because that is the 75th percentile. I then merge the labels_unknown and newly sorted dataframe by the turk column and drop duplicates. I delete the newly created index column so the turks are the index. I did part (b) first and printed the first 5 results of the 75th percentile. "
   ]
  },
  {
   "cell_type": "code",
   "execution_count": 7,
   "metadata": {
    "collapsed": false
   },
   "outputs": [
    {
     "name": "stdout",
     "output_type": "stream",
     "text": [
      "First 5 results of 75th percentile:\n"
     ]
    },
    {
     "data": {
      "text/html": [
       "<div>\n",
       "<table border=\"1\" class=\"dataframe\">\n",
       "  <thead>\n",
       "    <tr style=\"text-align: right;\">\n",
       "      <th></th>\n",
       "      <th>turk</th>\n",
       "      <th>url</th>\n",
       "      <th>category_x</th>\n",
       "      <th>category_y</th>\n",
       "      <th>Num of Ratings</th>\n",
       "      <th>Avg Correctness</th>\n",
       "      <th>odds</th>\n",
       "    </tr>\n",
       "  </thead>\n",
       "  <tbody>\n",
       "    <tr>\n",
       "      <th>0</th>\n",
       "      <td>A1PXXEOGQ76RNJ</td>\n",
       "      <td>http://000.cc</td>\n",
       "      <td>G</td>\n",
       "      <td>NaN</td>\n",
       "      <td>41</td>\n",
       "      <td>0.512195</td>\n",
       "      <td>1.047852</td>\n",
       "    </tr>\n",
       "    <tr>\n",
       "      <th>1</th>\n",
       "      <td>A1PXXEOGQ76RNJ</td>\n",
       "      <td>http://0000.jp</td>\n",
       "      <td>G</td>\n",
       "      <td>NaN</td>\n",
       "      <td>41</td>\n",
       "      <td>0.512195</td>\n",
       "      <td>1.047852</td>\n",
       "    </tr>\n",
       "    <tr>\n",
       "      <th>2</th>\n",
       "      <td>A1PXXEOGQ76RNJ</td>\n",
       "      <td>http://000relationships.com</td>\n",
       "      <td>G</td>\n",
       "      <td>NaN</td>\n",
       "      <td>41</td>\n",
       "      <td>0.512195</td>\n",
       "      <td>1.047852</td>\n",
       "    </tr>\n",
       "    <tr>\n",
       "      <th>3</th>\n",
       "      <td>A1PXXEOGQ76RNJ</td>\n",
       "      <td>http://007swz.cn</td>\n",
       "      <td>G</td>\n",
       "      <td>NaN</td>\n",
       "      <td>41</td>\n",
       "      <td>0.512195</td>\n",
       "      <td>1.047852</td>\n",
       "    </tr>\n",
       "    <tr>\n",
       "      <th>4</th>\n",
       "      <td>A1PXXEOGQ76RNJ</td>\n",
       "      <td>http://01768.com</td>\n",
       "      <td>G</td>\n",
       "      <td>NaN</td>\n",
       "      <td>41</td>\n",
       "      <td>0.512195</td>\n",
       "      <td>1.047852</td>\n",
       "    </tr>\n",
       "  </tbody>\n",
       "</table>\n",
       "</div>"
      ],
      "text/plain": [
       "             turk                          url category_x category_y  \\\n",
       "0  A1PXXEOGQ76RNJ                http://000.cc          G        NaN   \n",
       "1  A1PXXEOGQ76RNJ               http://0000.jp          G        NaN   \n",
       "2  A1PXXEOGQ76RNJ  http://000relationships.com          G        NaN   \n",
       "3  A1PXXEOGQ76RNJ             http://007swz.cn          G        NaN   \n",
       "4  A1PXXEOGQ76RNJ             http://01768.com          G        NaN   \n",
       "\n",
       "   Num of Ratings  Avg Correctness      odds  \n",
       "0              41         0.512195  1.047852  \n",
       "1              41         0.512195  1.047852  \n",
       "2              41         0.512195  1.047852  \n",
       "3              41         0.512195  1.047852  \n",
       "4              41         0.512195  1.047852  "
      ]
     },
     "execution_count": 7,
     "metadata": {},
     "output_type": "execute_result"
    }
   ],
   "source": [
    "sortedTurks = rater_goodness.sort_values('Num of Ratings', ascending = False)[:len(rater_goodness)/4]\n",
    "mergedTurks = pd.merge(labels_unknown, sortedTurks, left_on = 'turk', right_index = True).drop_duplicates().reset_index()\n",
    "del mergedTurks['index']\n",
    "print \"First 5 results of 75th percentile:\"\n",
    "mergedTurks[:5]"
   ]
  },
  {
   "cell_type": "markdown",
   "metadata": {},
   "source": [
    "Part (a): To calculate the product of odds, I groupby the url and category_x columns from the dataframe in part b. Then call the prod function to multiply the odds together and rename the new column 'Overall Odds'."
   ]
  },
  {
   "cell_type": "code",
   "execution_count": 8,
   "metadata": {
    "collapsed": false
   },
   "outputs": [
    {
     "name": "stdout",
     "output_type": "stream",
     "text": [
      "First 5 results of Overall Odds:\n"
     ]
    },
    {
     "data": {
      "text/html": [
       "<div>\n",
       "<table border=\"1\" class=\"dataframe\">\n",
       "  <thead>\n",
       "    <tr style=\"text-align: right;\">\n",
       "      <th></th>\n",
       "      <th></th>\n",
       "      <th>Overall Odds</th>\n",
       "    </tr>\n",
       "    <tr>\n",
       "      <th>url</th>\n",
       "      <th>category_x</th>\n",
       "      <th></th>\n",
       "    </tr>\n",
       "  </thead>\n",
       "  <tbody>\n",
       "    <tr>\n",
       "      <th>http://0-101.net</th>\n",
       "      <th>G</th>\n",
       "      <td>2.155963</td>\n",
       "    </tr>\n",
       "    <tr>\n",
       "      <th>http://000.cc</th>\n",
       "      <th>G</th>\n",
       "      <td>1.393883</td>\n",
       "    </tr>\n",
       "    <tr>\n",
       "      <th>http://0000.jp</th>\n",
       "      <th>G</th>\n",
       "      <td>14.488244</td>\n",
       "    </tr>\n",
       "    <tr>\n",
       "      <th rowspan=\"2\" valign=\"top\">http://000relationships.com</th>\n",
       "      <th>G</th>\n",
       "      <td>3.881884</td>\n",
       "    </tr>\n",
       "    <tr>\n",
       "      <th>P</th>\n",
       "      <td>1.851852</td>\n",
       "    </tr>\n",
       "  </tbody>\n",
       "</table>\n",
       "</div>"
      ],
      "text/plain": [
       "                                        Overall Odds\n",
       "url                         category_x              \n",
       "http://0-101.net            G               2.155963\n",
       "http://000.cc               G               1.393883\n",
       "http://0000.jp              G              14.488244\n",
       "http://000relationships.com G               3.881884\n",
       "                            P               1.851852"
      ]
     },
     "execution_count": 8,
     "metadata": {},
     "output_type": "execute_result"
    }
   ],
   "source": [
    "overallOdds = mergedTurks.groupby(['url', 'category_x'])[['odds']].prod()\n",
    "overallOdds.columns = ['Overall Odds']\n",
    "print \"First 5 results of Overall Odds:\"\n",
    "overallOdds[:5]"
   ]
  },
  {
   "cell_type": "markdown",
   "metadata": {},
   "source": [
    "### Question 8"
   ]
  },
  {
   "cell_type": "markdown",
   "metadata": {},
   "source": [
    "Approach: I first undstack the category_x column so each row is an url and category rating and overall odds for that rating so there can be multiple rows with the same url. I then fill the na values in the overall odds column with 0 and then tranpose it so I can call idxmax and get the topCategories for each url. I then use the max function on the overall odds column and specify the axis to be 1 so it uses the column and not rows. I store this result in topOdds which is the top odds for each url. I then clean up the dataframe and print the first 5 rows. "
   ]
  },
  {
   "cell_type": "code",
   "execution_count": 9,
   "metadata": {
    "collapsed": false
   },
   "outputs": [
    {
     "name": "stdout",
     "output_type": "stream",
     "text": [
      "First 5 rows of result_75:\n"
     ]
    },
    {
     "data": {
      "text/html": [
       "<div>\n",
       "<table border=\"1\" class=\"dataframe\">\n",
       "  <thead>\n",
       "    <tr>\n",
       "      <th></th>\n",
       "      <th>top category</th>\n",
       "      <th>top odds</th>\n",
       "    </tr>\n",
       "    <tr>\n",
       "      <th>category_x</th>\n",
       "      <th></th>\n",
       "      <th></th>\n",
       "    </tr>\n",
       "    <tr>\n",
       "      <th>url</th>\n",
       "      <th></th>\n",
       "      <th></th>\n",
       "    </tr>\n",
       "  </thead>\n",
       "  <tbody>\n",
       "    <tr>\n",
       "      <th>http://0-101.net</th>\n",
       "      <td>G</td>\n",
       "      <td>2.155963</td>\n",
       "    </tr>\n",
       "    <tr>\n",
       "      <th>http://000.cc</th>\n",
       "      <td>G</td>\n",
       "      <td>1.393883</td>\n",
       "    </tr>\n",
       "    <tr>\n",
       "      <th>http://0000.jp</th>\n",
       "      <td>G</td>\n",
       "      <td>14.488244</td>\n",
       "    </tr>\n",
       "    <tr>\n",
       "      <th>http://000relationships.com</th>\n",
       "      <td>G</td>\n",
       "      <td>3.881884</td>\n",
       "    </tr>\n",
       "    <tr>\n",
       "      <th>http://000vitamins.com</th>\n",
       "      <td>G</td>\n",
       "      <td>3.784982</td>\n",
       "    </tr>\n",
       "  </tbody>\n",
       "</table>\n",
       "</div>"
      ],
      "text/plain": [
       "                            top category   top odds\n",
       "category_x                                         \n",
       "url                                                \n",
       "http://0-101.net                       G   2.155963\n",
       "http://000.cc                          G   1.393883\n",
       "http://0000.jp                         G  14.488244\n",
       "http://000relationships.com            G   3.881884\n",
       "http://000vitamins.com                 G   3.784982"
      ]
     },
     "execution_count": 9,
     "metadata": {},
     "output_type": "execute_result"
    }
   ],
   "source": [
    "result_75 = overallOdds.unstack('category_x')\n",
    "topCategories = result_75['Overall Odds'].fillna(0).T.idxmax()\n",
    "result_75['top category'] = topCategories\n",
    "topOdds = result_75['Overall Odds'].max(axis = 1)\n",
    "result_75['top odds'] = topOdds\n",
    "del result_75['Overall Odds']\n",
    "print \"First 5 rows of result_75:\"\n",
    "result_75[:5]"
   ]
  },
  {
   "cell_type": "markdown",
   "metadata": {},
   "source": [
    "### Question 9"
   ]
  },
  {
   "cell_type": "markdown",
   "metadata": {},
   "source": [
    "Approach: I just copy the code from question 7 but when I divide the length of rater_goodness by 4, I then multiply by 3 to get the top 75% or 25th percentile. The rest of the code is similiar to question 7. "
   ]
  },
  {
   "cell_type": "code",
   "execution_count": 10,
   "metadata": {
    "collapsed": false
   },
   "outputs": [
    {
     "name": "stdout",
     "output_type": "stream",
     "text": [
      "First 5 results of 25 percentile:\n"
     ]
    },
    {
     "data": {
      "text/html": [
       "<div>\n",
       "<table border=\"1\" class=\"dataframe\">\n",
       "  <thead>\n",
       "    <tr style=\"text-align: right;\">\n",
       "      <th></th>\n",
       "      <th>turk</th>\n",
       "      <th>url</th>\n",
       "      <th>category_x</th>\n",
       "      <th>category_y</th>\n",
       "      <th>Num of Ratings</th>\n",
       "      <th>Avg Correctness</th>\n",
       "      <th>odds</th>\n",
       "    </tr>\n",
       "  </thead>\n",
       "  <tbody>\n",
       "    <tr>\n",
       "      <th>0</th>\n",
       "      <td>A1OT3A29R9N1DG</td>\n",
       "      <td>http://000.cc</td>\n",
       "      <td>P</td>\n",
       "      <td>NaN</td>\n",
       "      <td>8</td>\n",
       "      <td>0.5</td>\n",
       "      <td>0.998004</td>\n",
       "    </tr>\n",
       "    <tr>\n",
       "      <th>1</th>\n",
       "      <td>A1OT3A29R9N1DG</td>\n",
       "      <td>http://1centemails.com</td>\n",
       "      <td>G</td>\n",
       "      <td>NaN</td>\n",
       "      <td>8</td>\n",
       "      <td>0.5</td>\n",
       "      <td>0.998004</td>\n",
       "    </tr>\n",
       "    <tr>\n",
       "      <th>2</th>\n",
       "      <td>A1OT3A29R9N1DG</td>\n",
       "      <td>http://24hfx.com</td>\n",
       "      <td>P</td>\n",
       "      <td>NaN</td>\n",
       "      <td>8</td>\n",
       "      <td>0.5</td>\n",
       "      <td>0.998004</td>\n",
       "    </tr>\n",
       "    <tr>\n",
       "      <th>3</th>\n",
       "      <td>A1OT3A29R9N1DG</td>\n",
       "      <td>http://265e.com</td>\n",
       "      <td>P</td>\n",
       "      <td>NaN</td>\n",
       "      <td>8</td>\n",
       "      <td>0.5</td>\n",
       "      <td>0.998004</td>\n",
       "    </tr>\n",
       "    <tr>\n",
       "      <th>4</th>\n",
       "      <td>A1OT3A29R9N1DG</td>\n",
       "      <td>http://30gh.com</td>\n",
       "      <td>G</td>\n",
       "      <td>NaN</td>\n",
       "      <td>8</td>\n",
       "      <td>0.5</td>\n",
       "      <td>0.998004</td>\n",
       "    </tr>\n",
       "  </tbody>\n",
       "</table>\n",
       "</div>"
      ],
      "text/plain": [
       "             turk                     url category_x category_y  \\\n",
       "0  A1OT3A29R9N1DG           http://000.cc          P        NaN   \n",
       "1  A1OT3A29R9N1DG  http://1centemails.com          G        NaN   \n",
       "2  A1OT3A29R9N1DG        http://24hfx.com          P        NaN   \n",
       "3  A1OT3A29R9N1DG         http://265e.com          P        NaN   \n",
       "4  A1OT3A29R9N1DG         http://30gh.com          G        NaN   \n",
       "\n",
       "   Num of Ratings  Avg Correctness      odds  \n",
       "0               8              0.5  0.998004  \n",
       "1               8              0.5  0.998004  \n",
       "2               8              0.5  0.998004  \n",
       "3               8              0.5  0.998004  \n",
       "4               8              0.5  0.998004  "
      ]
     },
     "execution_count": 10,
     "metadata": {},
     "output_type": "execute_result"
    }
   ],
   "source": [
    "sortedTurks = rater_goodness.sort_values('Num of Ratings', ascending = False)[:3*(len(rater_goodness)/4)]\n",
    "mergedTurks = pd.merge(labels_unknown, sortedTurks, left_on = 'turk', right_index = True).drop_duplicates().reset_index()\n",
    "del mergedTurks['index']\n",
    "print \"First 5 results of 25 percentile:\"\n",
    "mergedTurks[:5]"
   ]
  },
  {
   "cell_type": "code",
   "execution_count": 11,
   "metadata": {
    "collapsed": false
   },
   "outputs": [
    {
     "name": "stdout",
     "output_type": "stream",
     "text": [
      "First 5 results of Overall Odds:\n"
     ]
    },
    {
     "data": {
      "text/html": [
       "<div>\n",
       "<table border=\"1\" class=\"dataframe\">\n",
       "  <thead>\n",
       "    <tr style=\"text-align: right;\">\n",
       "      <th></th>\n",
       "      <th></th>\n",
       "      <th>Overall Odds</th>\n",
       "    </tr>\n",
       "    <tr>\n",
       "      <th>url</th>\n",
       "      <th>category_x</th>\n",
       "      <th></th>\n",
       "    </tr>\n",
       "  </thead>\n",
       "  <tbody>\n",
       "    <tr>\n",
       "      <th>http://0-101.net</th>\n",
       "      <th>G</th>\n",
       "      <td>2.155963e+00</td>\n",
       "    </tr>\n",
       "    <tr>\n",
       "      <th rowspan=\"2\" valign=\"top\">http://000.cc</th>\n",
       "      <th>G</th>\n",
       "      <td>2.081448e+03</td>\n",
       "    </tr>\n",
       "    <tr>\n",
       "      <th>P</th>\n",
       "      <td>9.980040e-01</td>\n",
       "    </tr>\n",
       "    <tr>\n",
       "      <th>http://0000.jp</th>\n",
       "      <th>G</th>\n",
       "      <td>2.877556e+07</td>\n",
       "    </tr>\n",
       "    <tr>\n",
       "      <th>http://000relationships.com</th>\n",
       "      <th>G</th>\n",
       "      <td>1.871855e+07</td>\n",
       "    </tr>\n",
       "  </tbody>\n",
       "</table>\n",
       "</div>"
      ],
      "text/plain": [
       "                                        Overall Odds\n",
       "url                         category_x              \n",
       "http://0-101.net            G           2.155963e+00\n",
       "http://000.cc               G           2.081448e+03\n",
       "                            P           9.980040e-01\n",
       "http://0000.jp              G           2.877556e+07\n",
       "http://000relationships.com G           1.871855e+07"
      ]
     },
     "execution_count": 11,
     "metadata": {},
     "output_type": "execute_result"
    }
   ],
   "source": [
    "overallOdds = mergedTurks.groupby(['url', 'category_x'])[['odds']].prod()\n",
    "overallOdds.columns = ['Overall Odds']\n",
    "print \"First 5 results of Overall Odds:\"\n",
    "overallOdds[:5]"
   ]
  },
  {
   "cell_type": "markdown",
   "metadata": {},
   "source": [
    "Approach: This piece of code is the same as question 8 but i rename the dataframe to be result_25. "
   ]
  },
  {
   "cell_type": "code",
   "execution_count": 12,
   "metadata": {
    "collapsed": false
   },
   "outputs": [
    {
     "name": "stdout",
     "output_type": "stream",
     "text": [
      "First 5 rows of result_25:\n"
     ]
    },
    {
     "data": {
      "text/html": [
       "<div>\n",
       "<table border=\"1\" class=\"dataframe\">\n",
       "  <thead>\n",
       "    <tr>\n",
       "      <th></th>\n",
       "      <th>top category</th>\n",
       "      <th>top odds</th>\n",
       "    </tr>\n",
       "    <tr>\n",
       "      <th>category_x</th>\n",
       "      <th></th>\n",
       "      <th></th>\n",
       "    </tr>\n",
       "    <tr>\n",
       "      <th>url</th>\n",
       "      <th></th>\n",
       "      <th></th>\n",
       "    </tr>\n",
       "  </thead>\n",
       "  <tbody>\n",
       "    <tr>\n",
       "      <th>http://0-101.net</th>\n",
       "      <td>G</td>\n",
       "      <td>2.155963e+00</td>\n",
       "    </tr>\n",
       "    <tr>\n",
       "      <th>http://000.cc</th>\n",
       "      <td>G</td>\n",
       "      <td>2.081448e+03</td>\n",
       "    </tr>\n",
       "    <tr>\n",
       "      <th>http://0000.jp</th>\n",
       "      <td>G</td>\n",
       "      <td>2.877556e+07</td>\n",
       "    </tr>\n",
       "    <tr>\n",
       "      <th>http://000relationships.com</th>\n",
       "      <td>G</td>\n",
       "      <td>1.871855e+07</td>\n",
       "    </tr>\n",
       "    <tr>\n",
       "      <th>http://000vitamins.com</th>\n",
       "      <td>G</td>\n",
       "      <td>5.014149e+00</td>\n",
       "    </tr>\n",
       "  </tbody>\n",
       "</table>\n",
       "</div>"
      ],
      "text/plain": [
       "                            top category      top odds\n",
       "category_x                                            \n",
       "url                                                   \n",
       "http://0-101.net                       G  2.155963e+00\n",
       "http://000.cc                          G  2.081448e+03\n",
       "http://0000.jp                         G  2.877556e+07\n",
       "http://000relationships.com            G  1.871855e+07\n",
       "http://000vitamins.com                 G  5.014149e+00"
      ]
     },
     "execution_count": 12,
     "metadata": {},
     "output_type": "execute_result"
    }
   ],
   "source": [
    "result_25 = overallOdds.unstack('category_x')\n",
    "topCategories = result_25['Overall Odds'].fillna(0).T.idxmax()\n",
    "result_25['top category'] = topCategories\n",
    "topOdds = result_25['Overall Odds'].max(axis = 1)\n",
    "result_25['top odds'] = topOdds\n",
    "del result_25['Overall Odds']\n",
    "print \"First 5 rows of result_25:\"\n",
    "result_25[:5]"
   ]
  },
  {
   "cell_type": "markdown",
   "metadata": {},
   "source": [
    "Approach:"
   ]
  },
  {
   "cell_type": "code",
   "execution_count": 13,
   "metadata": {
    "collapsed": false
   },
   "outputs": [
    {
     "name": "stdout",
     "output_type": "stream",
     "text": [
      "Table showing predictions:\n"
     ]
    },
    {
     "data": {
      "text/html": [
       "<div>\n",
       "<table border=\"1\" class=\"dataframe\">\n",
       "  <thead>\n",
       "    <tr style=\"text-align: right;\">\n",
       "      <th>result_25 prediction</th>\n",
       "      <th>G</th>\n",
       "      <th>P</th>\n",
       "      <th>R</th>\n",
       "      <th>X</th>\n",
       "    </tr>\n",
       "    <tr>\n",
       "      <th>result_75 prediction</th>\n",
       "      <th></th>\n",
       "      <th></th>\n",
       "      <th></th>\n",
       "      <th></th>\n",
       "    </tr>\n",
       "  </thead>\n",
       "  <tbody>\n",
       "    <tr>\n",
       "      <th>G</th>\n",
       "      <td>8216</td>\n",
       "      <td>620</td>\n",
       "      <td>175</td>\n",
       "      <td>258</td>\n",
       "    </tr>\n",
       "    <tr>\n",
       "      <th>P</th>\n",
       "      <td>190</td>\n",
       "      <td>345</td>\n",
       "      <td>48</td>\n",
       "      <td>21</td>\n",
       "    </tr>\n",
       "    <tr>\n",
       "      <th>R</th>\n",
       "      <td>23</td>\n",
       "      <td>37</td>\n",
       "      <td>127</td>\n",
       "      <td>26</td>\n",
       "    </tr>\n",
       "    <tr>\n",
       "      <th>X</th>\n",
       "      <td>19</td>\n",
       "      <td>6</td>\n",
       "      <td>29</td>\n",
       "      <td>470</td>\n",
       "    </tr>\n",
       "  </tbody>\n",
       "</table>\n",
       "</div>"
      ],
      "text/plain": [
       "result_25 prediction     G    P    R    X\n",
       "result_75 prediction                     \n",
       "G                     8216  620  175  258\n",
       "P                      190  345   48   21\n",
       "R                       23   37  127   26\n",
       "X                       19    6   29  470"
      ]
     },
     "execution_count": 13,
     "metadata": {},
     "output_type": "execute_result"
    }
   ],
   "source": [
    "resultsDF = pd.merge(result_75, result_25, left_index = True, right_index = True)\n",
    "del resultsDF['top odds_x']\n",
    "del resultsDF['top odds_y']\n",
    "resultsDF.columns = ['result_75 prediction', 'result_25 prediction']\n",
    "table = pd.crosstab(resultsDF['result_75 prediction'], resultsDF['result_25 prediction'])\n",
    "print \"Table showing predictions:\"\n",
    "table"
   ]
  },
  {
   "cell_type": "markdown",
   "metadata": {
    "collapsed": true
   },
   "source": [
    "The most errors occur on row category=G and the column category=P which has a value of 620. "
   ]
  }
 ],
 "metadata": {
  "kernelspec": {
   "display_name": "Python 2",
   "language": "python",
   "name": "python2"
  },
  "language_info": {
   "codemirror_mode": {
    "name": "ipython",
    "version": 2
   },
   "file_extension": ".py",
   "mimetype": "text/x-python",
   "name": "python",
   "nbconvert_exporter": "python",
   "pygments_lexer": "ipython2",
   "version": "2.7.12"
  }
 },
 "nbformat": 4,
 "nbformat_minor": 0
}

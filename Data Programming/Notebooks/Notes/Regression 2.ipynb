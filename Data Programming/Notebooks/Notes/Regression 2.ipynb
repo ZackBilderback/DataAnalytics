{
 "cells": [
  {
   "cell_type": "markdown",
   "metadata": {
    "slideshow": {
     "slide_type": "slide"
    }
   },
   "source": [
    "# Regression 2"
   ]
  },
  {
   "cell_type": "code",
   "execution_count": 1,
   "metadata": {
    "collapsed": false,
    "slideshow": {
     "slide_type": "slide"
    }
   },
   "outputs": [
    {
     "name": "stdout",
     "output_type": "stream",
     "text": [
      "Populating the interactive namespace from numpy and matplotlib\n"
     ]
    }
   ],
   "source": [
    "from pandas import Series, DataFrame\n",
    "import pandas as pd\n",
    "%pylab inline"
   ]
  },
  {
   "cell_type": "code",
   "execution_count": 2,
   "metadata": {
    "collapsed": false,
    "slideshow": {
     "slide_type": "-"
    }
   },
   "outputs": [],
   "source": [
    "# Special packages\n",
    "import statsmodels.api as sm\n",
    "from patsy import dmatrices"
   ]
  },
  {
   "cell_type": "markdown",
   "metadata": {
    "slideshow": {
     "slide_type": "-"
    }
   },
   "source": [
    "We will need to install three packages:\n",
    "\n",
    "* statsmodels  (both Anaconda and Canopy have this)\n",
    "* pandas-datareader (we used this for time series too)\n",
    "* patsy\n",
    "\n",
    "Both Anaconda and Canopy have them. You can install via the GUI, or via terminal commands.\n",
    "For example:\n",
    "\n",
    "> conda install pandas-datareader   (or)    \n",
    "> pip install pandas-datareader"
   ]
  },
  {
   "cell_type": "code",
   "execution_count": 3,
   "metadata": {
    "collapsed": false,
    "slideshow": {
     "slide_type": "slide"
    }
   },
   "outputs": [
    {
     "data": {
      "text/html": [
       "<div>\n",
       "<table border=\"1\" class=\"dataframe\">\n",
       "  <thead>\n",
       "    <tr style=\"text-align: right;\">\n",
       "      <th></th>\n",
       "      <th>dept</th>\n",
       "      <th>Region</th>\n",
       "      <th>Department</th>\n",
       "      <th>Crime_pers</th>\n",
       "      <th>Crime_prop</th>\n",
       "      <th>Literacy</th>\n",
       "      <th>Donations</th>\n",
       "      <th>Infants</th>\n",
       "      <th>Suicides</th>\n",
       "      <th>MainCity</th>\n",
       "      <th>...</th>\n",
       "      <th>Crime_parents</th>\n",
       "      <th>Infanticide</th>\n",
       "      <th>Donation_clergy</th>\n",
       "      <th>Lottery</th>\n",
       "      <th>Desertion</th>\n",
       "      <th>Instruction</th>\n",
       "      <th>Prostitutes</th>\n",
       "      <th>Distance</th>\n",
       "      <th>Area</th>\n",
       "      <th>Pop1831</th>\n",
       "    </tr>\n",
       "  </thead>\n",
       "  <tbody>\n",
       "    <tr>\n",
       "      <th>1</th>\n",
       "      <td>1</td>\n",
       "      <td>E</td>\n",
       "      <td>Ain</td>\n",
       "      <td>28870</td>\n",
       "      <td>15890</td>\n",
       "      <td>37</td>\n",
       "      <td>5098</td>\n",
       "      <td>33120</td>\n",
       "      <td>35039</td>\n",
       "      <td>2:Med</td>\n",
       "      <td>...</td>\n",
       "      <td>71</td>\n",
       "      <td>60</td>\n",
       "      <td>69</td>\n",
       "      <td>41</td>\n",
       "      <td>55</td>\n",
       "      <td>46</td>\n",
       "      <td>13</td>\n",
       "      <td>218.372</td>\n",
       "      <td>5762</td>\n",
       "      <td>346.03</td>\n",
       "    </tr>\n",
       "    <tr>\n",
       "      <th>2</th>\n",
       "      <td>2</td>\n",
       "      <td>N</td>\n",
       "      <td>Aisne</td>\n",
       "      <td>26226</td>\n",
       "      <td>5521</td>\n",
       "      <td>51</td>\n",
       "      <td>8901</td>\n",
       "      <td>14572</td>\n",
       "      <td>12831</td>\n",
       "      <td>2:Med</td>\n",
       "      <td>...</td>\n",
       "      <td>4</td>\n",
       "      <td>82</td>\n",
       "      <td>36</td>\n",
       "      <td>38</td>\n",
       "      <td>82</td>\n",
       "      <td>24</td>\n",
       "      <td>327</td>\n",
       "      <td>65.945</td>\n",
       "      <td>7369</td>\n",
       "      <td>513.00</td>\n",
       "    </tr>\n",
       "    <tr>\n",
       "      <th>3</th>\n",
       "      <td>3</td>\n",
       "      <td>C</td>\n",
       "      <td>Allier</td>\n",
       "      <td>26747</td>\n",
       "      <td>7925</td>\n",
       "      <td>13</td>\n",
       "      <td>10973</td>\n",
       "      <td>17044</td>\n",
       "      <td>114121</td>\n",
       "      <td>2:Med</td>\n",
       "      <td>...</td>\n",
       "      <td>46</td>\n",
       "      <td>42</td>\n",
       "      <td>76</td>\n",
       "      <td>66</td>\n",
       "      <td>16</td>\n",
       "      <td>85</td>\n",
       "      <td>34</td>\n",
       "      <td>161.927</td>\n",
       "      <td>7340</td>\n",
       "      <td>298.26</td>\n",
       "    </tr>\n",
       "    <tr>\n",
       "      <th>4</th>\n",
       "      <td>4</td>\n",
       "      <td>E</td>\n",
       "      <td>Basses-Alpes</td>\n",
       "      <td>12935</td>\n",
       "      <td>7289</td>\n",
       "      <td>46</td>\n",
       "      <td>2733</td>\n",
       "      <td>23018</td>\n",
       "      <td>14238</td>\n",
       "      <td>1:Sm</td>\n",
       "      <td>...</td>\n",
       "      <td>70</td>\n",
       "      <td>12</td>\n",
       "      <td>37</td>\n",
       "      <td>80</td>\n",
       "      <td>32</td>\n",
       "      <td>29</td>\n",
       "      <td>2</td>\n",
       "      <td>351.399</td>\n",
       "      <td>6925</td>\n",
       "      <td>155.90</td>\n",
       "    </tr>\n",
       "    <tr>\n",
       "      <th>5</th>\n",
       "      <td>5</td>\n",
       "      <td>E</td>\n",
       "      <td>Hautes-Alpes</td>\n",
       "      <td>17488</td>\n",
       "      <td>8174</td>\n",
       "      <td>69</td>\n",
       "      <td>6962</td>\n",
       "      <td>23076</td>\n",
       "      <td>16171</td>\n",
       "      <td>1:Sm</td>\n",
       "      <td>...</td>\n",
       "      <td>22</td>\n",
       "      <td>23</td>\n",
       "      <td>64</td>\n",
       "      <td>79</td>\n",
       "      <td>35</td>\n",
       "      <td>7</td>\n",
       "      <td>1</td>\n",
       "      <td>320.280</td>\n",
       "      <td>5549</td>\n",
       "      <td>129.10</td>\n",
       "    </tr>\n",
       "  </tbody>\n",
       "</table>\n",
       "<p>5 rows × 23 columns</p>\n",
       "</div>"
      ],
      "text/plain": [
       "   dept Region    Department  Crime_pers  Crime_prop  Literacy  Donations  \\\n",
       "1     1      E           Ain       28870       15890        37       5098   \n",
       "2     2      N         Aisne       26226        5521        51       8901   \n",
       "3     3      C        Allier       26747        7925        13      10973   \n",
       "4     4      E  Basses-Alpes       12935        7289        46       2733   \n",
       "5     5      E  Hautes-Alpes       17488        8174        69       6962   \n",
       "\n",
       "   Infants  Suicides MainCity   ...     Crime_parents  Infanticide  \\\n",
       "1    33120     35039    2:Med   ...                71           60   \n",
       "2    14572     12831    2:Med   ...                 4           82   \n",
       "3    17044    114121    2:Med   ...                46           42   \n",
       "4    23018     14238     1:Sm   ...                70           12   \n",
       "5    23076     16171     1:Sm   ...                22           23   \n",
       "\n",
       "   Donation_clergy  Lottery  Desertion  Instruction  Prostitutes  Distance  \\\n",
       "1               69       41         55           46           13   218.372   \n",
       "2               36       38         82           24          327    65.945   \n",
       "3               76       66         16           85           34   161.927   \n",
       "4               37       80         32           29            2   351.399   \n",
       "5               64       79         35            7            1   320.280   \n",
       "\n",
       "   Area  Pop1831  \n",
       "1  5762   346.03  \n",
       "2  7369   513.00  \n",
       "3  7340   298.26  \n",
       "4  6925   155.90  \n",
       "5  5549   129.10  \n",
       "\n",
       "[5 rows x 23 columns]"
      ]
     },
     "execution_count": 3,
     "metadata": {},
     "output_type": "execute_result"
    }
   ],
   "source": [
    "guerry = pd.read_csv('Regression_2_data/Guerry.csv', index_col=0).dropna()\n",
    "guerry[:5]"
   ]
  },
  {
   "cell_type": "markdown",
   "metadata": {},
   "source": [
    "This is the [Guerry dataset](http://vincentarelbundock.github.io/Rdatasets/doc/HistData/Guerry.html).\n",
    "\n",
    "Andre-Michel Guerry (1833) was the first to systematically collect and analyze social data on such things as crime, literacy and suicide with the view to determining social laws and the relations among these variables.\n",
    "\n",
    "The Guerry data frame comprises a collection of 'moral variables' on the 86 departments of France around 1830. "
   ]
  },
  {
   "cell_type": "markdown",
   "metadata": {
    "slideshow": {
     "slide_type": "slide"
    }
   },
   "source": [
    "We will work with a subset of this."
   ]
  },
  {
   "cell_type": "code",
   "execution_count": 4,
   "metadata": {
    "collapsed": false
   },
   "outputs": [
    {
     "data": {
      "text/html": [
       "<div>\n",
       "<table border=\"1\" class=\"dataframe\">\n",
       "  <thead>\n",
       "    <tr style=\"text-align: right;\">\n",
       "      <th></th>\n",
       "      <th>Department</th>\n",
       "      <th>Lottery</th>\n",
       "      <th>Literacy</th>\n",
       "      <th>Wealth</th>\n",
       "      <th>Region</th>\n",
       "    </tr>\n",
       "  </thead>\n",
       "  <tbody>\n",
       "    <tr>\n",
       "      <th>1</th>\n",
       "      <td>Ain</td>\n",
       "      <td>41</td>\n",
       "      <td>37</td>\n",
       "      <td>73</td>\n",
       "      <td>E</td>\n",
       "    </tr>\n",
       "    <tr>\n",
       "      <th>2</th>\n",
       "      <td>Aisne</td>\n",
       "      <td>38</td>\n",
       "      <td>51</td>\n",
       "      <td>22</td>\n",
       "      <td>N</td>\n",
       "    </tr>\n",
       "    <tr>\n",
       "      <th>3</th>\n",
       "      <td>Allier</td>\n",
       "      <td>66</td>\n",
       "      <td>13</td>\n",
       "      <td>61</td>\n",
       "      <td>C</td>\n",
       "    </tr>\n",
       "    <tr>\n",
       "      <th>4</th>\n",
       "      <td>Basses-Alpes</td>\n",
       "      <td>80</td>\n",
       "      <td>46</td>\n",
       "      <td>76</td>\n",
       "      <td>E</td>\n",
       "    </tr>\n",
       "    <tr>\n",
       "      <th>5</th>\n",
       "      <td>Hautes-Alpes</td>\n",
       "      <td>79</td>\n",
       "      <td>69</td>\n",
       "      <td>83</td>\n",
       "      <td>E</td>\n",
       "    </tr>\n",
       "  </tbody>\n",
       "</table>\n",
       "</div>"
      ],
      "text/plain": [
       "     Department  Lottery  Literacy  Wealth Region\n",
       "1           Ain       41        37      73      E\n",
       "2         Aisne       38        51      22      N\n",
       "3        Allier       66        13      61      C\n",
       "4  Basses-Alpes       80        46      76      E\n",
       "5  Hautes-Alpes       79        69      83      E"
      ]
     },
     "execution_count": 4,
     "metadata": {},
     "output_type": "execute_result"
    }
   ],
   "source": [
    "guerry = guerry[['Department', 'Lottery', 'Literacy', 'Wealth', 'Region']]\n",
    "guerry[:5]"
   ]
  },
  {
   "cell_type": "markdown",
   "metadata": {},
   "source": [
    "* Department is approximately province\n",
    "* Lottery is per capita wager on Royal Lottery\n",
    "* Literacy is percentage of military conscripts who can read and write\n",
    "* Wealth is per capita tax on personal property\n",
    "* Region is 'N'='North', 'S'='South', 'E'='East', 'W'='West', 'C'='Central'"
   ]
  },
  {
   "cell_type": "markdown",
   "metadata": {
    "slideshow": {
     "slide_type": "slide"
    }
   },
   "source": [
    "For multiple regression, we take two steps:\n",
    "\n",
    "* Create the _design_ matrices, i.e., the DataFrames which say\n",
    "    * which variable we want to predict (called _y_), and \n",
    "    * which variable(s) we will use to predict _y_ (called _X_)\n",
    " \n",
    " \n",
    "* Run the linear regression, and inspect the results"
   ]
  },
  {
   "cell_type": "markdown",
   "metadata": {
    "slideshow": {
     "slide_type": "slide"
    }
   },
   "source": [
    "### Step 1: Create design matrices"
   ]
  },
  {
   "cell_type": "markdown",
   "metadata": {
    "slideshow": {
     "slide_type": "fragment"
    }
   },
   "source": [
    "Let us say we want to predict Lottery using Literacy."
   ]
  },
  {
   "cell_type": "code",
   "execution_count": 5,
   "metadata": {
    "collapsed": false,
    "slideshow": {
     "slide_type": "fragment"
    }
   },
   "outputs": [],
   "source": [
    "y, X = dmatrices('Lottery ~ Literacy', data=guerry, return_type='dataframe')"
   ]
  },
  {
   "cell_type": "markdown",
   "metadata": {
    "slideshow": {
     "slide_type": "fragment"
    }
   },
   "source": [
    "The interesting part is\n",
    "\n",
    "> Lottery ~ Literacy\n",
    "\n",
    "which says, fit the Lottery values using the Literacy values and an intercept."
   ]
  },
  {
   "cell_type": "code",
   "execution_count": 6,
   "metadata": {
    "collapsed": false,
    "slideshow": {
     "slide_type": "fragment"
    }
   },
   "outputs": [
    {
     "data": {
      "text/html": [
       "<div>\n",
       "<table border=\"1\" class=\"dataframe\">\n",
       "  <thead>\n",
       "    <tr style=\"text-align: right;\">\n",
       "      <th></th>\n",
       "      <th>Lottery</th>\n",
       "    </tr>\n",
       "  </thead>\n",
       "  <tbody>\n",
       "    <tr>\n",
       "      <th>1</th>\n",
       "      <td>41.0</td>\n",
       "    </tr>\n",
       "    <tr>\n",
       "      <th>2</th>\n",
       "      <td>38.0</td>\n",
       "    </tr>\n",
       "    <tr>\n",
       "      <th>3</th>\n",
       "      <td>66.0</td>\n",
       "    </tr>\n",
       "  </tbody>\n",
       "</table>\n",
       "</div>"
      ],
      "text/plain": [
       "   Lottery\n",
       "1     41.0\n",
       "2     38.0\n",
       "3     66.0"
      ]
     },
     "execution_count": 6,
     "metadata": {},
     "output_type": "execute_result"
    }
   ],
   "source": [
    "y[:3]"
   ]
  },
  {
   "cell_type": "code",
   "execution_count": 7,
   "metadata": {
    "collapsed": false,
    "slideshow": {
     "slide_type": "fragment"
    }
   },
   "outputs": [
    {
     "data": {
      "text/html": [
       "<div>\n",
       "<table border=\"1\" class=\"dataframe\">\n",
       "  <thead>\n",
       "    <tr style=\"text-align: right;\">\n",
       "      <th></th>\n",
       "      <th>Intercept</th>\n",
       "      <th>Literacy</th>\n",
       "    </tr>\n",
       "  </thead>\n",
       "  <tbody>\n",
       "    <tr>\n",
       "      <th>1</th>\n",
       "      <td>1.0</td>\n",
       "      <td>37.0</td>\n",
       "    </tr>\n",
       "    <tr>\n",
       "      <th>2</th>\n",
       "      <td>1.0</td>\n",
       "      <td>51.0</td>\n",
       "    </tr>\n",
       "    <tr>\n",
       "      <th>3</th>\n",
       "      <td>1.0</td>\n",
       "      <td>13.0</td>\n",
       "    </tr>\n",
       "  </tbody>\n",
       "</table>\n",
       "</div>"
      ],
      "text/plain": [
       "   Intercept  Literacy\n",
       "1        1.0      37.0\n",
       "2        1.0      51.0\n",
       "3        1.0      13.0"
      ]
     },
     "execution_count": 7,
     "metadata": {},
     "output_type": "execute_result"
    }
   ],
   "source": [
    "X[:3]"
   ]
  },
  {
   "cell_type": "markdown",
   "metadata": {
    "slideshow": {
     "slide_type": "slide"
    }
   },
   "source": [
    "### Step 2: Run the linear regression"
   ]
  },
  {
   "cell_type": "code",
   "execution_count": 8,
   "metadata": {
    "collapsed": false,
    "slideshow": {
     "slide_type": "fragment"
    }
   },
   "outputs": [
    {
     "name": "stdout",
     "output_type": "stream",
     "text": [
      "                            OLS Regression Results                            \n",
      "==============================================================================\n",
      "Dep. Variable:                Lottery   R-squared:                       0.146\n",
      "Model:                            OLS   Adj. R-squared:                  0.135\n",
      "Method:                 Least Squares   F-statistic:                     14.16\n",
      "Date:                Wed, 27 Jul 2016   Prob (F-statistic):           0.000312\n",
      "Time:                        15:17:06   Log-Likelihood:                -386.13\n",
      "No. Observations:                  85   AIC:                             776.3\n",
      "Df Residuals:                      83   BIC:                             781.2\n",
      "Df Model:                           1                                         \n",
      "Covariance Type:            nonrobust                                         \n",
      "==============================================================================\n",
      "                 coef    std err          t      P>|t|      [95.0% Conf. Int.]\n",
      "------------------------------------------------------------------------------\n",
      "Intercept     64.2389      6.163     10.423      0.000        51.981    76.497\n",
      "Literacy      -0.5417      0.144     -3.763      0.000        -0.828    -0.255\n",
      "==============================================================================\n",
      "Omnibus:                        7.455   Durbin-Watson:                   2.010\n",
      "Prob(Omnibus):                  0.024   Jarque-Bera (JB):                2.936\n",
      "Skew:                           0.061   Prob(JB):                        0.230\n",
      "Kurtosis:                       2.098   Cond. No.                         106.\n",
      "==============================================================================\n",
      "\n",
      "Warnings:\n",
      "[1] Standard Errors assume that the covariance matrix of the errors is correctly specified.\n"
     ]
    }
   ],
   "source": [
    "model = sm.OLS(y, X)       # Set up the model\n",
    "result = model.fit()       # Fit model (find the intercept and slopes)\n",
    "print result.summary()"
   ]
  },
  {
   "cell_type": "markdown",
   "metadata": {
    "slideshow": {
     "slide_type": "slide"
    }
   },
   "source": [
    "We can also access the important statistics individually."
   ]
  },
  {
   "cell_type": "code",
   "execution_count": 9,
   "metadata": {
    "collapsed": false
   },
   "outputs": [
    {
     "data": {
      "text/plain": [
       "Intercept    64.238948\n",
       "Literacy     -0.541722\n",
       "dtype: float64"
      ]
     },
     "execution_count": 9,
     "metadata": {},
     "output_type": "execute_result"
    }
   ],
   "source": [
    "result.params"
   ]
  },
  {
   "cell_type": "markdown",
   "metadata": {},
   "source": [
    "This means that the regression line is:\n",
    "\n",
    "> Lottery = 64.24 - 0.54 * Literacy"
   ]
  },
  {
   "cell_type": "code",
   "execution_count": 10,
   "metadata": {
    "collapsed": false,
    "slideshow": {
     "slide_type": "fragment"
    }
   },
   "outputs": [
    {
     "data": {
      "text/plain": [
       "0.14572061293737237"
      ]
     },
     "execution_count": 10,
     "metadata": {},
     "output_type": "execute_result"
    }
   ],
   "source": [
    "result.rsquared"
   ]
  },
  {
   "cell_type": "markdown",
   "metadata": {
    "slideshow": {
     "slide_type": "fragment"
    }
   },
   "source": [
    "Sadly, a poor fit; this regression \"explains\" only 14% of the data variability."
   ]
  },
  {
   "cell_type": "code",
   "execution_count": 11,
   "metadata": {
    "collapsed": false,
    "slideshow": {
     "slide_type": "fragment"
    }
   },
   "outputs": [
    {
     "data": {
      "text/plain": [
       "Intercept    9.514472e-17\n",
       "Literacy     3.123617e-04\n",
       "dtype: float64"
      ]
     },
     "execution_count": 11,
     "metadata": {},
     "output_type": "execute_result"
    }
   ],
   "source": [
    "result.pvalues"
   ]
  },
  {
   "cell_type": "markdown",
   "metadata": {
    "slideshow": {
     "slide_type": "fragment"
    }
   },
   "source": [
    "We are pretty sure about the negative association between Literacy and Lottery"
   ]
  },
  {
   "cell_type": "code",
   "execution_count": 12,
   "metadata": {
    "collapsed": false,
    "slideshow": {
     "slide_type": "slide"
    }
   },
   "outputs": [
    {
     "data": {
      "text/plain": [
       "<matplotlib.legend.Legend at 0xa34b6d8>"
      ]
     },
     "execution_count": 12,
     "metadata": {},
     "output_type": "execute_result"
    },
    {
     "data": {
      "image/png": "[encoded data removed]",
      "text/plain": [
       "<matplotlib.figure.Figure at 0xa21bba8>"
      ]
     },
     "metadata": {},
     "output_type": "display_data"
    }
   ],
   "source": [
    "x = guerry['Literacy']\n",
    "y_actual = guerry['Lottery']\n",
    "y_expected = result.params['Intercept'] + result.params['Literacy'] * x\n",
    "\n",
    "scatter(x=x, y=y_actual, label='Lottery versus Literacy')\n",
    "plot(x, y_expected, color='red', linewidth=2, label='Regression')\n",
    "xlabel('Literacy')\n",
    "ylabel('Lottery')\n",
    "legend(loc='best')"
   ]
  },
  {
   "cell_type": "markdown",
   "metadata": {
    "slideshow": {
     "slide_type": "slide"
    }
   },
   "source": [
    "Separately, let us regress Lottery on Wealth (and not Literacy). So, we will use:\n",
    "\n",
    "> Lottery ~ Wealth"
   ]
  },
  {
   "cell_type": "code",
   "execution_count": 13,
   "metadata": {
    "collapsed": false
   },
   "outputs": [
    {
     "name": "stdout",
     "output_type": "stream",
     "text": [
      "Params\n",
      "Intercept    21.860207\n",
      "Wealth        0.485929\n",
      "dtype: float64\n",
      "\n",
      "R-squared = 0.243180384656\n",
      "\n",
      "p-values\n",
      "Intercept    0.000014\n",
      "Wealth       0.000002\n",
      "dtype: float64\n"
     ]
    }
   ],
   "source": [
    "y, X = dmatrices('Lottery ~ Wealth', data=guerry, return_type='dataframe')\n",
    "model = sm.OLS(y, X) \n",
    "result = model.fit()\n",
    "print 'Params'\n",
    "print result.params\n",
    "print\n",
    "print 'R-squared =', result.rsquared\n",
    "print\n",
    "print 'p-values'\n",
    "print result.pvalues"
   ]
  },
  {
   "cell_type": "markdown",
   "metadata": {
    "slideshow": {
     "slide_type": "fragment"
    }
   },
   "source": [
    "Lottery is positively associated with Wealth, but even this explains only 24% of the data variability."
   ]
  },
  {
   "cell_type": "code",
   "execution_count": 14,
   "metadata": {
    "collapsed": false,
    "slideshow": {
     "slide_type": "slide"
    }
   },
   "outputs": [
    {
     "data": {
      "text/plain": [
       "<matplotlib.legend.Legend at 0xb57afd0>"
      ]
     },
     "execution_count": 14,
     "metadata": {},
     "output_type": "execute_result"
    },
    {
     "data": {
      "image/png": "[encoded data removed]",
      "text/plain": [
       "<matplotlib.figure.Figure at 0xa21beb8>"
      ]
     },
     "metadata": {},
     "output_type": "display_data"
    }
   ],
   "source": [
    "x = guerry['Wealth']\n",
    "y_actual = guerry['Lottery']\n",
    "y_expected = result.params['Intercept'] + result.params['Wealth'] * x\n",
    "\n",
    "scatter(x=x, y=y_actual, label='Lottery versus Wealth')\n",
    "plot(x, y_expected, color='red', linewidth=2, label='Regression')\n",
    "xlabel('Wealth')\n",
    "ylabel('Lottery')\n",
    "legend(loc='best')"
   ]
  },
  {
   "cell_type": "markdown",
   "metadata": {
    "slideshow": {
     "slide_type": "slide"
    }
   },
   "source": [
    "## Regressing on multiple variables"
   ]
  },
  {
   "cell_type": "markdown",
   "metadata": {},
   "source": [
    "Predicting Lottery using either Literacy or Wealth only 14% and 24% of the data variability respectively. Perhaps we can do better using Literacy and Wealth both?"
   ]
  },
  {
   "cell_type": "markdown",
   "metadata": {
    "slideshow": {
     "slide_type": "fragment"
    }
   },
   "source": [
    "**Step 1:** Again we will build the design matrices, but we will specify the model as\n",
    "\n",
    "> Lottery ~ Literacy + Wealth\n",
    "\n",
    "This says: we want Lottery to be predicted as a linear combination (i.e., weighted sum) of Literacy and Wealth and an intercept."
   ]
  },
  {
   "cell_type": "code",
   "execution_count": 15,
   "metadata": {
    "collapsed": false,
    "slideshow": {
     "slide_type": "fragment"
    }
   },
   "outputs": [
    {
     "data": {
      "text/html": [
       "<div>\n",
       "<table border=\"1\" class=\"dataframe\">\n",
       "  <thead>\n",
       "    <tr style=\"text-align: right;\">\n",
       "      <th></th>\n",
       "      <th>Lottery</th>\n",
       "    </tr>\n",
       "  </thead>\n",
       "  <tbody>\n",
       "    <tr>\n",
       "      <th>1</th>\n",
       "      <td>41.0</td>\n",
       "    </tr>\n",
       "    <tr>\n",
       "      <th>2</th>\n",
       "      <td>38.0</td>\n",
       "    </tr>\n",
       "    <tr>\n",
       "      <th>3</th>\n",
       "      <td>66.0</td>\n",
       "    </tr>\n",
       "  </tbody>\n",
       "</table>\n",
       "</div>"
      ],
      "text/plain": [
       "   Lottery\n",
       "1     41.0\n",
       "2     38.0\n",
       "3     66.0"
      ]
     },
     "execution_count": 15,
     "metadata": {},
     "output_type": "execute_result"
    }
   ],
   "source": [
    "# Step 1: Create design matrices\n",
    "y, X = dmatrices('Lottery ~ Literacy + Wealth', data=guerry, return_type='dataframe')\n",
    "y[:3]"
   ]
  },
  {
   "cell_type": "code",
   "execution_count": 16,
   "metadata": {
    "collapsed": false,
    "slideshow": {
     "slide_type": "fragment"
    }
   },
   "outputs": [
    {
     "data": {
      "text/html": [
       "<div>\n",
       "<table border=\"1\" class=\"dataframe\">\n",
       "  <thead>\n",
       "    <tr style=\"text-align: right;\">\n",
       "      <th></th>\n",
       "      <th>Intercept</th>\n",
       "      <th>Literacy</th>\n",
       "      <th>Wealth</th>\n",
       "    </tr>\n",
       "  </thead>\n",
       "  <tbody>\n",
       "    <tr>\n",
       "      <th>1</th>\n",
       "      <td>1.0</td>\n",
       "      <td>37.0</td>\n",
       "      <td>73.0</td>\n",
       "    </tr>\n",
       "    <tr>\n",
       "      <th>2</th>\n",
       "      <td>1.0</td>\n",
       "      <td>51.0</td>\n",
       "      <td>22.0</td>\n",
       "    </tr>\n",
       "    <tr>\n",
       "      <th>3</th>\n",
       "      <td>1.0</td>\n",
       "      <td>13.0</td>\n",
       "      <td>61.0</td>\n",
       "    </tr>\n",
       "  </tbody>\n",
       "</table>\n",
       "</div>"
      ],
      "text/plain": [
       "   Intercept  Literacy  Wealth\n",
       "1        1.0      37.0    73.0\n",
       "2        1.0      51.0    22.0\n",
       "3        1.0      13.0    61.0"
      ]
     },
     "execution_count": 16,
     "metadata": {},
     "output_type": "execute_result"
    }
   ],
   "source": [
    "X[:3]"
   ]
  },
  {
   "cell_type": "markdown",
   "metadata": {
    "slideshow": {
     "slide_type": "slide"
    }
   },
   "source": [
    "**Step 2:** Run the regression."
   ]
  },
  {
   "cell_type": "code",
   "execution_count": 17,
   "metadata": {
    "collapsed": false
   },
   "outputs": [
    {
     "name": "stdout",
     "output_type": "stream",
     "text": [
      "                            OLS Regression Results                            \n",
      "==============================================================================\n",
      "Dep. Variable:                Lottery   R-squared:                       0.309\n",
      "Model:                            OLS   Adj. R-squared:                  0.292\n",
      "Method:                 Least Squares   F-statistic:                     18.32\n",
      "Date:                Wed, 27 Jul 2016   Prob (F-statistic):           2.66e-07\n",
      "Time:                        15:19:54   Log-Likelihood:                -377.13\n",
      "No. Observations:                  85   AIC:                             760.3\n",
      "Df Residuals:                      82   BIC:                             767.6\n",
      "Df Model:                           2                                         \n",
      "Covariance Type:            nonrobust                                         \n",
      "==============================================================================\n",
      "                 coef    std err          t      P>|t|      [95.0% Conf. Int.]\n",
      "------------------------------------------------------------------------------\n",
      "Intercept     39.7979      7.873      5.055      0.000        24.135    55.460\n",
      "Literacy      -0.3780      0.136     -2.790      0.007        -0.648    -0.108\n",
      "Wealth         0.4138      0.094      4.398      0.000         0.227     0.601\n",
      "==============================================================================\n",
      "Omnibus:                        4.586   Durbin-Watson:                   1.951\n",
      "Prob(Omnibus):                  0.101   Jarque-Bera (JB):                3.294\n",
      "Skew:                          -0.335   Prob(JB):                        0.193\n",
      "Kurtosis:                       2.307   Cond. No.                         215.\n",
      "==============================================================================\n",
      "\n",
      "Warnings:\n",
      "[1] Standard Errors assume that the covariance matrix of the errors is correctly specified.\n"
     ]
    }
   ],
   "source": [
    "model = sm.OLS(y, X)       # Set up the model\n",
    "result = model.fit()       # Fit model (find the intercept and slopes)\n",
    "print result.summary()"
   ]
  },
  {
   "cell_type": "code",
   "execution_count": 18,
   "metadata": {
    "collapsed": false,
    "slideshow": {
     "slide_type": "slide"
    }
   },
   "outputs": [
    {
     "data": {
      "text/plain": [
       "Intercept    39.797879\n",
       "Literacy     -0.378007\n",
       "Wealth        0.413826\n",
       "dtype: float64"
      ]
     },
     "execution_count": 18,
     "metadata": {},
     "output_type": "execute_result"
    }
   ],
   "source": [
    "result.params"
   ]
  },
  {
   "cell_type": "markdown",
   "metadata": {
    "slideshow": {
     "slide_type": "fragment"
    }
   },
   "source": [
    "So the regression model is:\n",
    "\n",
    "> Lottery = 39.80 - 0.37 \\* Literacy + 0.41 \\* Wealth"
   ]
  },
  {
   "cell_type": "markdown",
   "metadata": {
    "slideshow": {
     "slide_type": "fragment"
    }
   },
   "source": [
    "Lottery is associated negatively with Literacy (as before), but positively with Wealth (again, as before).\n",
    "\n",
    "Model | Literacy | Wealth | R-squared\n",
    "----- | -------- | ------ | ---------\n",
    "Lottery ~ Literacy | -0.54 | | 14%\n",
    "Lottery ~ Wealth | | 0.48 | 24%\n",
    "Lottery ~ Literacy + Wealth | -0.38 | 0.41 | 31%\n"
   ]
  },
  {
   "cell_type": "markdown",
   "metadata": {
    "slideshow": {
     "slide_type": "fragment"
    }
   },
   "source": [
    "Including more regressors (i.e., variables we can use for prediction) helped increase goodness of fit (R-squared)."
   ]
  },
  {
   "cell_type": "code",
   "execution_count": 19,
   "metadata": {
    "collapsed": false,
    "slideshow": {
     "slide_type": "fragment"
    }
   },
   "outputs": [
    {
     "data": {
      "text/plain": [
       "Intercept    0.000003\n",
       "Literacy     0.006560\n",
       "Wealth       0.000033\n",
       "dtype: float64"
      ]
     },
     "execution_count": 19,
     "metadata": {},
     "output_type": "execute_result"
    }
   ],
   "source": [
    "result.pvalues"
   ]
  },
  {
   "cell_type": "markdown",
   "metadata": {
    "slideshow": {
     "slide_type": "fragment"
    }
   },
   "source": [
    "The negative association with Literacy and the positive association with Wealth are both significant."
   ]
  },
  {
   "cell_type": "markdown",
   "metadata": {
    "slideshow": {
     "slide_type": "slide"
    }
   },
   "source": [
    "What do the predictions look like?\n",
    "\n",
    "Recall that, with regression using just Literacy, we got\n",
    "\n",
    "> Lottery = 64.24 - 0.54 * Literacy\n",
    "\n",
    "and we have seen that this is the equation of a _line_."
   ]
  },
  {
   "cell_type": "markdown",
   "metadata": {
    "slideshow": {
     "slide_type": "fragment"
    }
   },
   "source": [
    "Now, instead, we have\n",
    "\n",
    "> Lottery = 39.80 - 0.37 \\* Literacy + 0.41 \\* Wealth\n",
    "\n",
    "which is the equation of a _plane_."
   ]
  },
  {
   "cell_type": "code",
   "execution_count": 20,
   "metadata": {
    "collapsed": false,
    "slideshow": {
     "slide_type": "slide"
    }
   },
   "outputs": [
    {
     "data": {
      "text/plain": [
       "<matplotlib.text.Text at 0xb9137b8>"
      ]
     },
     "execution_count": 20,
     "metadata": {},
     "output_type": "execute_result"
    },
    {
     "data": {
      "image/png": "[encoded data removed]",
      "text/plain": [
       "<matplotlib.figure.Figure at 0xa1c6630>"
      ]
     },
     "metadata": {},
     "output_type": "display_data"
    }
   ],
   "source": [
    "from mpl_toolkits.mplot3d import Axes3D\n",
    "\n",
    "x = np.linspace(guerry['Literacy'].min(), guerry['Literacy'].max(), 100)\n",
    "y = np.linspace(guerry['Wealth'].min(), guerry['Wealth'].max(), 100)\n",
    "X, Y = np.meshgrid(x, y)\n",
    "Z_expected = result.params['Intercept'] + result.params['Literacy'] * X + result.params['Wealth'] * Y\n",
    "\n",
    "\n",
    "fig = plt.figure(figsize(8,6))\n",
    "ax = fig.add_subplot(111, projection='3d')\n",
    "ax.scatter(guerry['Literacy'], guerry['Wealth'], guerry['Lottery'])\n",
    "ax.plot_surface(X, Y, Z_expected, rstride=1, cstride=1, cmap=cm.coolwarm,\n",
    "        linewidth=0, antialiased=False, alpha=0.2)\n",
    "ax.set_xlabel('Literacy')\n",
    "ax.set_ylabel('Wealth')\n",
    "ax.set_zlabel('Lottery')"
   ]
  },
  {
   "cell_type": "markdown",
   "metadata": {
    "slideshow": {
     "slide_type": "slide"
    }
   },
   "source": [
    "Why a plane?"
   ]
  },
  {
   "cell_type": "markdown",
   "metadata": {},
   "source": [
    "Suppose you are told the value of Literacy, say, Literacy = 5. Then,\n",
    "\n",
    "    Lottery = 39.80 - 0.37 * Literacy + 0.41 * Wealth\n",
    "            = 39.80 - 0.37 * 5 + 0.41 * Wealth\n",
    "            = 37.95 + 0.41 * Wealth \n",
    "\n",
    "which we recognize as the equation of a line."
   ]
  },
  {
   "cell_type": "markdown",
   "metadata": {
    "slideshow": {
     "slide_type": "fragment"
    }
   },
   "source": [
    "Suppose, instead, I told you that Literacy = 5.1 (instead of 5). We will find:\n",
    "\n",
    "    Lottery = 37.91 + 0.41 * Wealth"
   ]
  },
  {
   "cell_type": "markdown",
   "metadata": {
    "slideshow": {
     "slide_type": "fragment"
    }
   },
   "source": [
    "With Literacy = 5.2, we get:\n",
    "\n",
    "    Lottery = 37.87 + 0.41 * Wealth"
   ]
  },
  {
   "cell_type": "markdown",
   "metadata": {
    "slideshow": {
     "slide_type": "fragment"
    }
   },
   "source": [
    "So:\n",
    "\n",
    "* We get a line for each possible value of Literacy\n",
    "* All these lines have the _same_ slope for Wealth\n",
    "* The only change is in the _intercept_\n",
    "    * If Literacy changes only a little, the _intercept_ changes only a little\n",
    "    * Change in intercept =  -0.37 \\* change in Literacy"
   ]
  },
  {
   "cell_type": "markdown",
   "metadata": {
    "slideshow": {
     "slide_type": "fragment"
    }
   },
   "source": [
    "Let's plot a bunch of these lines and see."
   ]
  },
  {
   "cell_type": "code",
   "execution_count": 21,
   "metadata": {
    "collapsed": false,
    "slideshow": {
     "slide_type": "slide"
    }
   },
   "outputs": [
    {
     "data": {
      "text/plain": [
       "<matplotlib.legend.Legend at 0xb5d21d0>"
      ]
     },
     "execution_count": 21,
     "metadata": {},
     "output_type": "execute_result"
    },
    {
     "data": {
      "image/png": "[encoded data removed]",
      "text/plain": [
       "<matplotlib.figure.Figure at 0xb61dc18>"
      ]
     },
     "metadata": {},
     "output_type": "display_data"
    }
   ],
   "source": [
    "fig = plt.figure(figsize=(12,8))\n",
    "ax = fig.add_subplot(111, projection='3d')\n",
    "\n",
    "ax.scatter(guerry['Literacy'], guerry['Wealth'], guerry['Lottery'], alpha=0.3)\n",
    "ax.set_xlabel('Literacy')\n",
    "ax.set_ylabel('Wealth')\n",
    "ax.set_zlabel('Lottery')\n",
    "\n",
    "wealth = np.linspace(guerry['Wealth'].min(), guerry['Wealth'].max(), 100) \n",
    "for val in range(40,80,2):\n",
    "    literacy = np.ones(len(wealth)) * val\n",
    "    lottery =  39.80 - 0.37 * literacy + 0.41 * wealth\n",
    "    ax.plot(literacy, wealth, lottery, label='Literacy = {}'.format(val))\n",
    "ax.legend(loc='best')\n"
   ]
  },
  {
   "cell_type": "markdown",
   "metadata": {},
   "source": [
    "If we \"stitch\" these lines together, we'll end up with a plane."
   ]
  },
  {
   "cell_type": "markdown",
   "metadata": {
    "slideshow": {
     "slide_type": "slide"
    }
   },
   "source": [
    "## Regression using categorical variables"
   ]
  },
  {
   "cell_type": "markdown",
   "metadata": {},
   "source": [
    "Until now, all variables were numbers (Lottery, Literacy, and Wealth). Suppose we believe the Region of France where a province is located can also help us predict interest in the lottery."
   ]
  },
  {
   "cell_type": "markdown",
   "metadata": {
    "slideshow": {
     "slide_type": "-"
    }
   },
   "source": [
    "But Region is 'N', 'S', 'E', 'W', or 'C'. What does _slope_ of the Region variable mean?"
   ]
  },
  {
   "cell_type": "markdown",
   "metadata": {
    "slideshow": {
     "slide_type": "fragment"
    }
   },
   "source": [
    "Answer: one _dummy_ variable for each Region.\n",
    "\n",
    "Python does this automatically for us when we specify\n",
    "\n",
    "> Lottery ~ Literacy + Wealth + Region"
   ]
  },
  {
   "cell_type": "code",
   "execution_count": 22,
   "metadata": {
    "collapsed": false,
    "slideshow": {
     "slide_type": "slide"
    }
   },
   "outputs": [
    {
     "data": {
      "text/html": [
       "<div>\n",
       "<table border=\"1\" class=\"dataframe\">\n",
       "  <thead>\n",
       "    <tr style=\"text-align: right;\">\n",
       "      <th></th>\n",
       "      <th>Intercept</th>\n",
       "      <th>Region[T.E]</th>\n",
       "      <th>Region[T.N]</th>\n",
       "      <th>Region[T.S]</th>\n",
       "      <th>Region[T.W]</th>\n",
       "      <th>Literacy</th>\n",
       "      <th>Wealth</th>\n",
       "    </tr>\n",
       "  </thead>\n",
       "  <tbody>\n",
       "    <tr>\n",
       "      <th>1</th>\n",
       "      <td>1.0</td>\n",
       "      <td>1.0</td>\n",
       "      <td>0.0</td>\n",
       "      <td>0.0</td>\n",
       "      <td>0.0</td>\n",
       "      <td>37.0</td>\n",
       "      <td>73.0</td>\n",
       "    </tr>\n",
       "    <tr>\n",
       "      <th>2</th>\n",
       "      <td>1.0</td>\n",
       "      <td>0.0</td>\n",
       "      <td>1.0</td>\n",
       "      <td>0.0</td>\n",
       "      <td>0.0</td>\n",
       "      <td>51.0</td>\n",
       "      <td>22.0</td>\n",
       "    </tr>\n",
       "    <tr>\n",
       "      <th>3</th>\n",
       "      <td>1.0</td>\n",
       "      <td>0.0</td>\n",
       "      <td>0.0</td>\n",
       "      <td>0.0</td>\n",
       "      <td>0.0</td>\n",
       "      <td>13.0</td>\n",
       "      <td>61.0</td>\n",
       "    </tr>\n",
       "  </tbody>\n",
       "</table>\n",
       "</div>"
      ],
      "text/plain": [
       "   Intercept  Region[T.E]  Region[T.N]  Region[T.S]  Region[T.W]  Literacy  \\\n",
       "1        1.0          1.0          0.0          0.0          0.0      37.0   \n",
       "2        1.0          0.0          1.0          0.0          0.0      51.0   \n",
       "3        1.0          0.0          0.0          0.0          0.0      13.0   \n",
       "\n",
       "   Wealth  \n",
       "1    73.0  \n",
       "2    22.0  \n",
       "3    61.0  "
      ]
     },
     "execution_count": 22,
     "metadata": {},
     "output_type": "execute_result"
    }
   ],
   "source": [
    "y, X = dmatrices('Lottery ~ Literacy + Wealth + Region', data=guerry, return_type='dataframe')\n",
    "X[:3]"
   ]
  },
  {
   "cell_type": "markdown",
   "metadata": {},
   "source": [
    "**Observations**\n",
    "\n",
    "* We have a column for each region (minus 'C')\n",
    "    * If a province is from the North, the Region[T.N] column has a '1', while all other Region columns have a '0'.\n",
    "* Why don't we have a dummy variable for Region='C'?"
   ]
  },
  {
   "cell_type": "markdown",
   "metadata": {
    "slideshow": {
     "slide_type": "slide"
    }
   },
   "source": [
    "### Why don't we have a dummy variable for Region='C'?"
   ]
  },
  {
   "cell_type": "markdown",
   "metadata": {
    "slideshow": {
     "slide_type": "fragment"
    }
   },
   "source": [
    "Let's do a thought experiment. Suppose 'C' was the _only_ region. If we make a dummy variable Region[C], what will the model look like?\n",
    "\n",
    "> Lottery = intercept + slope * Region[C]"
   ]
  },
  {
   "cell_type": "markdown",
   "metadata": {
    "slideshow": {
     "slide_type": "fragment"
    }
   },
   "source": [
    "But the dummy variable Region[C] is _always 1_. Hence, this model is essentially saying:\n",
    "\n",
    "> Lottery = intercept + slope"
   ]
  },
  {
   "cell_type": "markdown",
   "metadata": {
    "slideshow": {
     "slide_type": "fragment"
    }
   },
   "source": [
    "But _intercept_ and _slope_ are both constants, so intercept + slope is some other constant.\n",
    "\n",
    "> Lottery = constant"
   ]
  },
  {
   "cell_type": "markdown",
   "metadata": {
    "slideshow": {
     "slide_type": "fragment"
    }
   },
   "source": [
    "This is indistinguishable from\n",
    "\n",
    "> Lottery = intercept"
   ]
  },
  {
   "cell_type": "markdown",
   "metadata": {
    "slideshow": {
     "slide_type": "slide"
    }
   },
   "source": [
    "### Why don't we have a dummy variable for Region='C'?\n",
    "\n",
    "So, if 'C' was the only Region, the model\n",
    "\n",
    "> Lottery = intercept + slope * Region[C]\n",
    "\n",
    "is the same as\n",
    "\n",
    "> Lottery = intercept\n",
    "\n",
    "as there is no way to tease apart intercept and slope."
   ]
  },
  {
   "cell_type": "markdown",
   "metadata": {
    "slideshow": {
     "slide_type": "slide"
    }
   },
   "source": [
    "### Why don't we have a dummy variable for Region='C'?\n",
    "\n",
    "Now suppose there are only two Regions: 'N' and 'C'. Then, the model is:\n",
    "\n",
    "> Lottery = intercept + slope_N \\* Region[N] + slope_C \\* Region[C]"
   ]
  },
  {
   "cell_type": "markdown",
   "metadata": {
    "slideshow": {
     "slide_type": "fragment"
    }
   },
   "source": [
    "But each province is either 'N' or 'C', which means\n",
    "\n",
    "> Region[N] + Region[C] = 1, so\n",
    "\n",
    "> Region[N] = 1 - Region[C]"
   ]
  },
  {
   "cell_type": "markdown",
   "metadata": {
    "slideshow": {
     "slide_type": "fragment"
    }
   },
   "source": [
    "Then the model becomes:\n",
    "\n",
    "> Lottery = intercept + slope_N \\* (1 - Region[C]) + slope_C \\* Region[C]"
   ]
  },
  {
   "cell_type": "markdown",
   "metadata": {
    "slideshow": {
     "slide_type": "fragment"
    }
   },
   "source": [
    "or\n",
    "\n",
    "> Lottery = (intercept + slope_N) + (slope_C - slope_N) * Region[C]"
   ]
  },
  {
   "cell_type": "markdown",
   "metadata": {
    "slideshow": {
     "slide_type": "fragment"
    }
   },
   "source": [
    "which cannot be distinguished from\n",
    "\n",
    "> Lottery = intercept + slope * Region[C]"
   ]
  },
  {
   "cell_type": "markdown",
   "metadata": {
    "slideshow": {
     "slide_type": "slide"
    }
   },
   "source": [
    "By a similar reasoning\n",
    "\n",
    "* If we have five regions 'N', 'E', 'W', 'S', and 'C', then\n",
    "* we only need four dummy variables"
   ]
  },
  {
   "cell_type": "code",
   "execution_count": 23,
   "metadata": {
    "collapsed": false
   },
   "outputs": [
    {
     "data": {
      "text/html": [
       "<div>\n",
       "<table border=\"1\" class=\"dataframe\">\n",
       "  <thead>\n",
       "    <tr style=\"text-align: right;\">\n",
       "      <th></th>\n",
       "      <th>Intercept</th>\n",
       "      <th>Region[T.E]</th>\n",
       "      <th>Region[T.N]</th>\n",
       "      <th>Region[T.S]</th>\n",
       "      <th>Region[T.W]</th>\n",
       "      <th>Literacy</th>\n",
       "      <th>Wealth</th>\n",
       "    </tr>\n",
       "  </thead>\n",
       "  <tbody>\n",
       "    <tr>\n",
       "      <th>1</th>\n",
       "      <td>1.0</td>\n",
       "      <td>1.0</td>\n",
       "      <td>0.0</td>\n",
       "      <td>0.0</td>\n",
       "      <td>0.0</td>\n",
       "      <td>37.0</td>\n",
       "      <td>73.0</td>\n",
       "    </tr>\n",
       "    <tr>\n",
       "      <th>2</th>\n",
       "      <td>1.0</td>\n",
       "      <td>0.0</td>\n",
       "      <td>1.0</td>\n",
       "      <td>0.0</td>\n",
       "      <td>0.0</td>\n",
       "      <td>51.0</td>\n",
       "      <td>22.0</td>\n",
       "    </tr>\n",
       "    <tr>\n",
       "      <th>3</th>\n",
       "      <td>1.0</td>\n",
       "      <td>0.0</td>\n",
       "      <td>0.0</td>\n",
       "      <td>0.0</td>\n",
       "      <td>0.0</td>\n",
       "      <td>13.0</td>\n",
       "      <td>61.0</td>\n",
       "    </tr>\n",
       "  </tbody>\n",
       "</table>\n",
       "</div>"
      ],
      "text/plain": [
       "   Intercept  Region[T.E]  Region[T.N]  Region[T.S]  Region[T.W]  Literacy  \\\n",
       "1        1.0          1.0          0.0          0.0          0.0      37.0   \n",
       "2        1.0          0.0          1.0          0.0          0.0      51.0   \n",
       "3        1.0          0.0          0.0          0.0          0.0      13.0   \n",
       "\n",
       "   Wealth  \n",
       "1    73.0  \n",
       "2    22.0  \n",
       "3    61.0  "
      ]
     },
     "execution_count": 23,
     "metadata": {},
     "output_type": "execute_result"
    }
   ],
   "source": [
    "X[:3]"
   ]
  },
  {
   "cell_type": "markdown",
   "metadata": {
    "slideshow": {
     "slide_type": "slide"
    }
   },
   "source": [
    "Now let us run the regression."
   ]
  },
  {
   "cell_type": "code",
   "execution_count": 24,
   "metadata": {
    "collapsed": false
   },
   "outputs": [
    {
     "name": "stdout",
     "output_type": "stream",
     "text": [
      "                            OLS Regression Results                            \n",
      "==============================================================================\n",
      "Dep. Variable:                Lottery   R-squared:                       0.338\n",
      "Model:                            OLS   Adj. R-squared:                  0.287\n",
      "Method:                 Least Squares   F-statistic:                     6.636\n",
      "Date:                Wed, 27 Jul 2016   Prob (F-statistic):           1.07e-05\n",
      "Time:                        15:28:19   Log-Likelihood:                -375.30\n",
      "No. Observations:                  85   AIC:                             764.6\n",
      "Df Residuals:                      78   BIC:                             781.7\n",
      "Df Model:                           6                                         \n",
      "Covariance Type:            nonrobust                                         \n",
      "===============================================================================\n",
      "                  coef    std err          t      P>|t|      [95.0% Conf. Int.]\n",
      "-------------------------------------------------------------------------------\n",
      "Intercept      38.6517      9.456      4.087      0.000        19.826    57.478\n",
      "Region[T.E]   -15.4278      9.727     -1.586      0.117       -34.793     3.938\n",
      "Region[T.N]   -10.0170      9.260     -1.082      0.283       -28.453     8.419\n",
      "Region[T.S]    -4.5483      7.279     -0.625      0.534       -19.039     9.943\n",
      "Region[T.W]   -10.0913      7.196     -1.402      0.165       -24.418     4.235\n",
      "Literacy       -0.1858      0.210     -0.886      0.378        -0.603     0.232\n",
      "Wealth          0.4515      0.103      4.390      0.000         0.247     0.656\n",
      "==============================================================================\n",
      "Omnibus:                        3.049   Durbin-Watson:                   1.785\n",
      "Prob(Omnibus):                  0.218   Jarque-Bera (JB):                2.694\n",
      "Skew:                          -0.340   Prob(JB):                        0.260\n",
      "Kurtosis:                       2.454   Cond. No.                         371.\n",
      "==============================================================================\n",
      "\n",
      "Warnings:\n",
      "[1] Standard Errors assume that the covariance matrix of the errors is correctly specified.\n"
     ]
    }
   ],
   "source": [
    "model = sm.OLS(y, X)       # Set up the model\n",
    "result = model.fit()       # Fit model (find the intercept and slopes)\n",
    "print result.summary()"
   ]
  },
  {
   "cell_type": "code",
   "execution_count": 25,
   "metadata": {
    "collapsed": false
   },
   "outputs": [
    {
     "data": {
      "text/plain": [
       "0.33795086919288198"
      ]
     },
     "execution_count": 25,
     "metadata": {},
     "output_type": "execute_result"
    }
   ],
   "source": [
    "result.rsquared"
   ]
  },
  {
   "cell_type": "markdown",
   "metadata": {
    "slideshow": {
     "slide_type": "fragment"
    }
   },
   "source": [
    "Without Region in the model, we had R-squared of 31%; now it is 33%.\n",
    "\n",
    "Worth it?"
   ]
  },
  {
   "cell_type": "code",
   "execution_count": 26,
   "metadata": {
    "collapsed": false,
    "slideshow": {
     "slide_type": "slide"
    }
   },
   "outputs": [
    {
     "data": {
      "text/plain": [
       "Intercept      0.000105\n",
       "Region[T.E]    0.116779\n",
       "Region[T.N]    0.282713\n",
       "Region[T.S]    0.533889\n",
       "Region[T.W]    0.164786\n",
       "Literacy       0.378495\n",
       "Wealth         0.000035\n",
       "dtype: float64"
      ]
     },
     "execution_count": 26,
     "metadata": {},
     "output_type": "execute_result"
    }
   ],
   "source": [
    "result.pvalues"
   ]
  },
  {
   "cell_type": "markdown",
   "metadata": {
    "slideshow": {
     "slide_type": "fragment"
    }
   },
   "source": [
    "Notice something curious?"
   ]
  },
  {
   "cell_type": "markdown",
   "metadata": {
    "slideshow": {
     "slide_type": "fragment"
    }
   },
   "source": [
    "* The p-value of Literacy has suffered a lot\n",
    "* The p-values of the various Regions are also quite poor"
   ]
  },
  {
   "cell_type": "markdown",
   "metadata": {
    "slideshow": {
     "slide_type": "fragment"
    }
   },
   "source": [
    "Essentially, we're hitting the limits of what we can infer from the data"
   ]
  },
  {
   "cell_type": "code",
   "execution_count": 27,
   "metadata": {
    "collapsed": false,
    "slideshow": {
     "slide_type": "fragment"
    }
   },
   "outputs": [
    {
     "data": {
      "text/plain": [
       "85"
      ]
     },
     "execution_count": 27,
     "metadata": {},
     "output_type": "execute_result"
    }
   ],
   "source": [
    "len(guerry)"
   ]
  },
  {
   "cell_type": "markdown",
   "metadata": {
    "slideshow": {
     "slide_type": "slide"
    }
   },
   "source": [
    "## What is important in advertising?\n",
    "\n",
    "Data [here](http://www-bcf.usc.edu/~gareth/ISL/data.html)."
   ]
  },
  {
   "cell_type": "code",
   "execution_count": 28,
   "metadata": {
    "collapsed": false
   },
   "outputs": [
    {
     "data": {
      "text/html": [
       "<div>\n",
       "<table border=\"1\" class=\"dataframe\">\n",
       "  <thead>\n",
       "    <tr style=\"text-align: right;\">\n",
       "      <th></th>\n",
       "      <th>TV</th>\n",
       "      <th>Radio</th>\n",
       "      <th>Newspaper</th>\n",
       "      <th>Sales</th>\n",
       "    </tr>\n",
       "  </thead>\n",
       "  <tbody>\n",
       "    <tr>\n",
       "      <th>1</th>\n",
       "      <td>230.1</td>\n",
       "      <td>37.8</td>\n",
       "      <td>69.2</td>\n",
       "      <td>22.1</td>\n",
       "    </tr>\n",
       "    <tr>\n",
       "      <th>2</th>\n",
       "      <td>44.5</td>\n",
       "      <td>39.3</td>\n",
       "      <td>45.1</td>\n",
       "      <td>10.4</td>\n",
       "    </tr>\n",
       "    <tr>\n",
       "      <th>3</th>\n",
       "      <td>17.2</td>\n",
       "      <td>45.9</td>\n",
       "      <td>69.3</td>\n",
       "      <td>9.3</td>\n",
       "    </tr>\n",
       "    <tr>\n",
       "      <th>4</th>\n",
       "      <td>151.5</td>\n",
       "      <td>41.3</td>\n",
       "      <td>58.5</td>\n",
       "      <td>18.5</td>\n",
       "    </tr>\n",
       "    <tr>\n",
       "      <th>5</th>\n",
       "      <td>180.8</td>\n",
       "      <td>10.8</td>\n",
       "      <td>58.4</td>\n",
       "      <td>12.9</td>\n",
       "    </tr>\n",
       "  </tbody>\n",
       "</table>\n",
       "</div>"
      ],
      "text/plain": [
       "      TV  Radio  Newspaper  Sales\n",
       "1  230.1   37.8       69.2   22.1\n",
       "2   44.5   39.3       45.1   10.4\n",
       "3   17.2   45.9       69.3    9.3\n",
       "4  151.5   41.3       58.5   18.5\n",
       "5  180.8   10.8       58.4   12.9"
      ]
     },
     "execution_count": 28,
     "metadata": {},
     "output_type": "execute_result"
    }
   ],
   "source": [
    "advertising = pd.read_csv('http://www-bcf.usc.edu/~gareth/ISL/Advertising.csv', index_col=0)\n",
    "advertising[:5]"
   ]
  },
  {
   "cell_type": "markdown",
   "metadata": {
    "slideshow": {
     "slide_type": "slide"
    }
   },
   "source": [
    "We want to regress Sales on TV, Radio, and Newspaper."
   ]
  },
  {
   "cell_type": "code",
   "execution_count": 29,
   "metadata": {
    "collapsed": false
   },
   "outputs": [
    {
     "name": "stdout",
     "output_type": "stream",
     "text": [
      "Params\n",
      "Intercept    2.938889\n",
      "TV           0.045765\n",
      "Radio        0.188530\n",
      "Newspaper   -0.001037\n",
      "dtype: float64\n",
      "\n",
      "R-squared = 0.897210638179\n",
      "P-values\n",
      "Intercept    1.267295e-17\n",
      "TV           1.509960e-81\n",
      "Radio        1.505339e-54\n",
      "Newspaper    8.599151e-01\n",
      "dtype: float64\n"
     ]
    }
   ],
   "source": [
    "y, X = dmatrices('Sales ~ TV + Radio + Newspaper', data=advertising, return_type='dataframe')\n",
    "model = sm.OLS(y, X)       # Set up the model\n",
    "result = model.fit()       # Fit model\n",
    "\n",
    "print 'Params'\n",
    "print result.params\n",
    "print\n",
    "print 'R-squared =', result.rsquared\n",
    "print 'P-values'\n",
    "print result.pvalues"
   ]
  },
  {
   "cell_type": "markdown",
   "metadata": {
    "slideshow": {
     "slide_type": "fragment"
    }
   },
   "source": [
    "Observe that:\n",
    "\n",
    "* R-squared is pretty good!\n",
    "* All p-values are tiny (good fit!), except for Newspaper\n",
    "* Newspaper has a slope of -0.001 with large p-value\n",
    "    * Do we really need it?"
   ]
  },
  {
   "cell_type": "markdown",
   "metadata": {
    "slideshow": {
     "slide_type": "slide"
    }
   },
   "source": [
    "Newspaper seems to make the results messy without adding much, so let's regress without it.\n",
    "\n",
    "* The fewer the model parameters, the more understandable the model."
   ]
  },
  {
   "cell_type": "code",
   "execution_count": 30,
   "metadata": {
    "collapsed": false
   },
   "outputs": [
    {
     "name": "stdout",
     "output_type": "stream",
     "text": [
      "Params\n",
      "Intercept    2.921100\n",
      "TV           0.045755\n",
      "Radio        0.187994\n",
      "dtype: float64\n",
      "\n",
      "R-squared = 0.897194261083\n",
      "P-values\n",
      "Intercept    4.565557e-19\n",
      "TV           5.436980e-82\n",
      "Radio        9.776972e-59\n",
      "dtype: float64\n"
     ]
    }
   ],
   "source": [
    "y, X = dmatrices('Sales ~ TV + Radio', data=advertising, return_type='dataframe')\n",
    "model = sm.OLS(y, X)\n",
    "result = model.fit()\n",
    "\n",
    "print 'Params'\n",
    "print result.params\n",
    "print\n",
    "print 'R-squared =', result.rsquared\n",
    "print 'P-values'\n",
    "print result.pvalues"
   ]
  },
  {
   "cell_type": "markdown",
   "metadata": {},
   "source": [
    "**Observations:**\n",
    "\n",
    "* Advertising on radio is more positively associated that advertising on TV (!)\n",
    "* R-squared is just as high as before, as expected. Newspaper wasn't adding much."
   ]
  },
  {
   "cell_type": "code",
   "execution_count": 31,
   "metadata": {
    "collapsed": false,
    "slideshow": {
     "slide_type": "slide"
    }
   },
   "outputs": [
    {
     "data": {
      "text/plain": [
       "<matplotlib.text.Text at 0xc6777b8>"
      ]
     },
     "execution_count": 31,
     "metadata": {},
     "output_type": "execute_result"
    },
    {
     "data": {
      "image/png": "[encoded data removed]",
      "text/plain": [
       "<matplotlib.figure.Figure at 0xc2a2fd0>"
      ]
     },
     "metadata": {},
     "output_type": "display_data"
    }
   ],
   "source": [
    "tv = advertising['TV']\n",
    "radio = advertising['Radio']\n",
    "sales = advertising['Sales']\n",
    "\n",
    "x = np.linspace(tv.min(), tv.max(), 100)\n",
    "y = np.linspace(radio.min(), radio.max(), 100)\n",
    "X, Y = np.meshgrid(x, y)\n",
    "Z_expected = result.params['Intercept'] + result.params['TV'] * X + result.params['Radio'] * Y\n",
    "\n",
    "\n",
    "fig = plt.figure(figsize(8,6))\n",
    "ax = fig.add_subplot(111, projection='3d')\n",
    "ax.scatter(tv, radio, sales)\n",
    "ax.plot_surface(X, Y, Z_expected, rstride=1, cstride=1, cmap=cm.coolwarm,\n",
    "        linewidth=0, antialiased=False, alpha=0.2)\n",
    "ax.set_xlabel('TV')\n",
    "ax.set_ylabel('Radio')\n",
    "ax.set_zlabel('Sales')"
   ]
  },
  {
   "cell_type": "markdown",
   "metadata": {
    "slideshow": {
     "slide_type": "slide"
    }
   },
   "source": [
    "## Factors affecting heart disease\n",
    "\n",
    "Data may be found [here](http://statweb.stanford.edu/~tibs/ElemStatLearn/datasets/SAheart.data)."
   ]
  },
  {
   "cell_type": "code",
   "execution_count": 32,
   "metadata": {
    "collapsed": false
   },
   "outputs": [
    {
     "data": {
      "text/html": [
       "<div>\n",
       "<table border=\"1\" class=\"dataframe\">\n",
       "  <thead>\n",
       "    <tr style=\"text-align: right;\">\n",
       "      <th></th>\n",
       "      <th>sbp</th>\n",
       "      <th>tobacco</th>\n",
       "      <th>ldl</th>\n",
       "      <th>adiposity</th>\n",
       "      <th>famhist</th>\n",
       "      <th>typea</th>\n",
       "      <th>obesity</th>\n",
       "      <th>alcohol</th>\n",
       "      <th>age</th>\n",
       "      <th>chd</th>\n",
       "    </tr>\n",
       "    <tr>\n",
       "      <th>row.names</th>\n",
       "      <th></th>\n",
       "      <th></th>\n",
       "      <th></th>\n",
       "      <th></th>\n",
       "      <th></th>\n",
       "      <th></th>\n",
       "      <th></th>\n",
       "      <th></th>\n",
       "      <th></th>\n",
       "      <th></th>\n",
       "    </tr>\n",
       "  </thead>\n",
       "  <tbody>\n",
       "    <tr>\n",
       "      <th>1</th>\n",
       "      <td>160</td>\n",
       "      <td>12.00</td>\n",
       "      <td>5.73</td>\n",
       "      <td>23.11</td>\n",
       "      <td>Present</td>\n",
       "      <td>49</td>\n",
       "      <td>25.30</td>\n",
       "      <td>97.20</td>\n",
       "      <td>52</td>\n",
       "      <td>1</td>\n",
       "    </tr>\n",
       "    <tr>\n",
       "      <th>2</th>\n",
       "      <td>144</td>\n",
       "      <td>0.01</td>\n",
       "      <td>4.41</td>\n",
       "      <td>28.61</td>\n",
       "      <td>Absent</td>\n",
       "      <td>55</td>\n",
       "      <td>28.87</td>\n",
       "      <td>2.06</td>\n",
       "      <td>63</td>\n",
       "      <td>1</td>\n",
       "    </tr>\n",
       "    <tr>\n",
       "      <th>3</th>\n",
       "      <td>118</td>\n",
       "      <td>0.08</td>\n",
       "      <td>3.48</td>\n",
       "      <td>32.28</td>\n",
       "      <td>Present</td>\n",
       "      <td>52</td>\n",
       "      <td>29.14</td>\n",
       "      <td>3.81</td>\n",
       "      <td>46</td>\n",
       "      <td>0</td>\n",
       "    </tr>\n",
       "    <tr>\n",
       "      <th>4</th>\n",
       "      <td>170</td>\n",
       "      <td>7.50</td>\n",
       "      <td>6.41</td>\n",
       "      <td>38.03</td>\n",
       "      <td>Present</td>\n",
       "      <td>51</td>\n",
       "      <td>31.99</td>\n",
       "      <td>24.26</td>\n",
       "      <td>58</td>\n",
       "      <td>1</td>\n",
       "    </tr>\n",
       "    <tr>\n",
       "      <th>5</th>\n",
       "      <td>134</td>\n",
       "      <td>13.60</td>\n",
       "      <td>3.50</td>\n",
       "      <td>27.78</td>\n",
       "      <td>Present</td>\n",
       "      <td>60</td>\n",
       "      <td>25.99</td>\n",
       "      <td>57.34</td>\n",
       "      <td>49</td>\n",
       "      <td>1</td>\n",
       "    </tr>\n",
       "  </tbody>\n",
       "</table>\n",
       "</div>"
      ],
      "text/plain": [
       "           sbp  tobacco   ldl  adiposity  famhist  typea  obesity  alcohol  \\\n",
       "row.names                                                                    \n",
       "1          160    12.00  5.73      23.11  Present     49    25.30    97.20   \n",
       "2          144     0.01  4.41      28.61   Absent     55    28.87     2.06   \n",
       "3          118     0.08  3.48      32.28  Present     52    29.14     3.81   \n",
       "4          170     7.50  6.41      38.03  Present     51    31.99    24.26   \n",
       "5          134    13.60  3.50      27.78  Present     60    25.99    57.34   \n",
       "\n",
       "           age  chd  \n",
       "row.names            \n",
       "1           52    1  \n",
       "2           63    1  \n",
       "3           46    0  \n",
       "4           58    1  \n",
       "5           49    1  "
      ]
     },
     "execution_count": 32,
     "metadata": {},
     "output_type": "execute_result"
    }
   ],
   "source": [
    "heart = pd.read_csv('Regression_2_data/SAheart.data.txt', index_col=0)\n",
    "heart[:5]"
   ]
  },
  {
   "cell_type": "markdown",
   "metadata": {},
   "source": [
    "The variable we want to predict (the _\"response variable\"_) is \"chd\", which stands for chronic heart disease. The predictors include:\n",
    "\n",
    "* medical circumstances: Systolic Blood Pressure (sbp), Cholesterol (ldl)\n",
    "* tobacco: cumulative tobacco, in kg (!)\n",
    "* alcohol: current consumption\n",
    "* age: age on onset of disease"
   ]
  },
  {
   "cell_type": "markdown",
   "metadata": {},
   "source": [
    "**Note:** The response variable (chd) is zero/one, which actually violates some of the theoretical conditions for linear regression, but still..."
   ]
  },
  {
   "cell_type": "markdown",
   "metadata": {
    "slideshow": {
     "slide_type": "slide"
    }
   },
   "source": [
    "### Let's regress heart disease on some medical variables"
   ]
  },
  {
   "cell_type": "code",
   "execution_count": 33,
   "metadata": {
    "collapsed": false
   },
   "outputs": [
    {
     "name": "stdout",
     "output_type": "stream",
     "text": [
      "Params\n",
      "Intercept   -0.434205\n",
      "sbp          0.002703\n",
      "ldl          0.043083\n",
      "adiposity    0.007968\n",
      "dtype: float64\n",
      "\n",
      "R-squared = 0.104721381837\n",
      "P-values\n",
      "Intercept    0.003158\n",
      "sbp          0.014355\n",
      "ldl          0.000162\n",
      "adiposity    0.012735\n",
      "dtype: float64\n"
     ]
    }
   ],
   "source": [
    "y, X = dmatrices('chd ~ sbp + ldl + adiposity', data=heart, return_type='dataframe')\n",
    "model = sm.OLS(y, X)       # Set up the model\n",
    "result = model.fit()       # Fit model\n",
    "\n",
    "print 'Params'\n",
    "print result.params\n",
    "print\n",
    "print 'R-squared =', result.rsquared\n",
    "print 'P-values'\n",
    "print result.pvalues"
   ]
  },
  {
   "cell_type": "markdown",
   "metadata": {
    "slideshow": {
     "slide_type": "fragment"
    }
   },
   "source": [
    "What's important?"
   ]
  },
  {
   "cell_type": "markdown",
   "metadata": {
    "slideshow": {
     "slide_type": "fragment"
    }
   },
   "source": [
    "* ldl, perhaps"
   ]
  },
  {
   "cell_type": "markdown",
   "metadata": {
    "slideshow": {
     "slide_type": "slide"
    }
   },
   "source": [
    "### Heart disease regressed on family history"
   ]
  },
  {
   "cell_type": "markdown",
   "metadata": {},
   "source": [
    "Family history (famhist) is either Absent or Present. What do we do for such categorical variables?"
   ]
  },
  {
   "cell_type": "markdown",
   "metadata": {
    "slideshow": {
     "slide_type": "fragment"
    }
   },
   "source": [
    "* We create dummy variables.\n",
    "\n",
    "How many dummy variables?"
   ]
  },
  {
   "cell_type": "markdown",
   "metadata": {
    "slideshow": {
     "slide_type": "fragment"
    }
   },
   "source": [
    "* Two levels (Absent or Present), so one dummy variable"
   ]
  },
  {
   "cell_type": "code",
   "execution_count": 34,
   "metadata": {
    "collapsed": false,
    "slideshow": {
     "slide_type": "fragment"
    }
   },
   "outputs": [
    {
     "data": {
      "text/html": [
       "<div>\n",
       "<table border=\"1\" class=\"dataframe\">\n",
       "  <thead>\n",
       "    <tr style=\"text-align: right;\">\n",
       "      <th></th>\n",
       "      <th>Intercept</th>\n",
       "      <th>famhist[T.Present]</th>\n",
       "    </tr>\n",
       "    <tr>\n",
       "      <th>row.names</th>\n",
       "      <th></th>\n",
       "      <th></th>\n",
       "    </tr>\n",
       "  </thead>\n",
       "  <tbody>\n",
       "    <tr>\n",
       "      <th>1</th>\n",
       "      <td>1.0</td>\n",
       "      <td>1.0</td>\n",
       "    </tr>\n",
       "    <tr>\n",
       "      <th>2</th>\n",
       "      <td>1.0</td>\n",
       "      <td>0.0</td>\n",
       "    </tr>\n",
       "    <tr>\n",
       "      <th>3</th>\n",
       "      <td>1.0</td>\n",
       "      <td>1.0</td>\n",
       "    </tr>\n",
       "  </tbody>\n",
       "</table>\n",
       "</div>"
      ],
      "text/plain": [
       "           Intercept  famhist[T.Present]\n",
       "row.names                               \n",
       "1                1.0                 1.0\n",
       "2                1.0                 0.0\n",
       "3                1.0                 1.0"
      ]
     },
     "execution_count": 34,
     "metadata": {},
     "output_type": "execute_result"
    }
   ],
   "source": [
    "y, X = dmatrices('chd ~ famhist', data=heart, return_type='dataframe')\n",
    "X[:3]"
   ]
  },
  {
   "cell_type": "code",
   "execution_count": 35,
   "metadata": {
    "collapsed": false,
    "slideshow": {
     "slide_type": "slide"
    }
   },
   "outputs": [
    {
     "name": "stdout",
     "output_type": "stream",
     "text": [
      "Params\n",
      "Intercept             0.237037\n",
      "famhist[T.Present]    0.262963\n",
      "dtype: float64\n",
      "\n",
      "R-squared = 0.0741869021339\n",
      "P-values\n",
      "Intercept             2.886599e-16\n",
      "famhist[T.Present]    2.657629e-09\n",
      "dtype: float64\n"
     ]
    }
   ],
   "source": [
    "model = sm.OLS(y, X)       # Set up the model\n",
    "result = model.fit()       # Fit model\n",
    "\n",
    "print 'Params'\n",
    "print result.params\n",
    "print\n",
    "print 'R-squared =', result.rsquared\n",
    "print 'P-values'\n",
    "print result.pvalues"
   ]
  },
  {
   "cell_type": "markdown",
   "metadata": {
    "slideshow": {
     "slide_type": "fragment"
    }
   },
   "source": [
    "So the regression is\n",
    "\n",
    "    prediction = intercept + famhist[T.Present] * T.Present"
   ]
  },
  {
   "cell_type": "markdown",
   "metadata": {
    "slideshow": {
     "slide_type": "fragment"
    }
   },
   "source": [
    "What is the prediction when heart disease is present in the family history?\n",
    "\n",
    "    prediction = intercept + famhist[T.Present] = 0.24 + 0.26 = 0.5"
   ]
  },
  {
   "cell_type": "markdown",
   "metadata": {
    "slideshow": {
     "slide_type": "fragment"
    }
   },
   "source": [
    "What is the prediction when heart disease is **not** present?\n",
    "\n",
    "    prediction = intercept = 0.24"
   ]
  },
  {
   "cell_type": "markdown",
   "metadata": {
    "slideshow": {
     "slide_type": "slide"
    }
   },
   "source": [
    "### Regress heart disease against consumption levels and obesity"
   ]
  },
  {
   "cell_type": "code",
   "execution_count": 36,
   "metadata": {
    "collapsed": false
   },
   "outputs": [
    {
     "name": "stdout",
     "output_type": "stream",
     "text": [
      "Params\n",
      "Intercept    0.048481\n",
      "tobacco      0.030245\n",
      "alcohol      0.000013\n",
      "obesity      0.007205\n",
      "dtype: float64\n",
      "\n",
      "R-squared = 0.0938333565564\n",
      "P-values\n",
      "Intercept    7.154281e-01\n",
      "tobacco      4.359995e-10\n",
      "alcohol      9.881632e-01\n",
      "obesity      1.558989e-01\n",
      "dtype: float64\n"
     ]
    }
   ],
   "source": [
    "y, X = dmatrices('chd ~ tobacco + alcohol + obesity', data=heart, return_type='dataframe')\n",
    "model = sm.OLS(y, X)       # Set up the model\n",
    "result = model.fit()       # Fit model\n",
    "\n",
    "print 'Params'\n",
    "print result.params\n",
    "print\n",
    "print 'R-squared =', result.rsquared\n",
    "print 'P-values'\n",
    "print result.pvalues"
   ]
  },
  {
   "cell_type": "markdown",
   "metadata": {
    "slideshow": {
     "slide_type": "fragment"
    }
   },
   "source": [
    "What's important?"
   ]
  },
  {
   "cell_type": "markdown",
   "metadata": {
    "slideshow": {
     "slide_type": "fragment"
    }
   },
   "source": [
    "* tobacco, perhaps"
   ]
  },
  {
   "cell_type": "markdown",
   "metadata": {
    "slideshow": {
     "slide_type": "slide"
    }
   },
   "source": [
    "### What if we regressed on everything considered important until now?"
   ]
  },
  {
   "cell_type": "code",
   "execution_count": 37,
   "metadata": {
    "collapsed": false
   },
   "outputs": [
    {
     "name": "stdout",
     "output_type": "stream",
     "text": [
      "Params\n",
      "Intercept            -0.237407\n",
      "famhist[T.Present]    0.178173\n",
      "ldl                   0.032533\n",
      "tobacco               0.017263\n",
      "age                   0.006836\n",
      "dtype: float64\n",
      "\n",
      "R-squared = 0.215570024016\n",
      "P-values\n",
      "Intercept             0.000585\n",
      "famhist[T.Present]    0.000021\n",
      "ldl                   0.001334\n",
      "tobacco               0.000373\n",
      "age                   0.000024\n",
      "dtype: float64\n"
     ]
    }
   ],
   "source": [
    "y, X = dmatrices('chd ~ ldl + tobacco + age + famhist', data=heart, return_type='dataframe')\n",
    "model = sm.OLS(y, X)       # Set up the model\n",
    "result = model.fit()       # Fit model\n",
    "\n",
    "print 'Params'\n",
    "print result.params\n",
    "print\n",
    "print 'R-squared =', result.rsquared\n",
    "print 'P-values'\n",
    "print result.pvalues"
   ]
  },
  {
   "cell_type": "markdown",
   "metadata": {},
   "source": [
    "Notice R-squared is 21% now, while p-values are all pretty low.\n",
    "\n",
    "* Combining the various factors helped."
   ]
  },
  {
   "cell_type": "markdown",
   "metadata": {
    "slideshow": {
     "slide_type": "slide"
    }
   },
   "source": [
    "While this gave some useful insights, linear regression is problematic here.\n",
    "\n",
    "* Here, our response variable (i.e., the variable we are trying to predict) is _chd_\n",
    "* _chd_ is either 0 and 1 (doesn't have chronic heart disease, or does)."
   ]
  },
  {
   "cell_type": "markdown",
   "metadata": {
    "slideshow": {
     "slide_type": "fragment"
    }
   },
   "source": [
    "* But our predictions are some real number\n",
    "* Need not even be between 0 and 1\n",
    "    * so we can't even interpret it as percentage chance of chronic heart disease."
   ]
  },
  {
   "cell_type": "markdown",
   "metadata": {
    "slideshow": {
     "slide_type": "slide"
    }
   },
   "source": [
    "Linear regression works best when the response variable is **continuous**.\n",
    "\n",
    "* Sales\n",
    "* Lottery levels\n",
    "* Car Miles-per-gallon"
   ]
  },
  {
   "cell_type": "markdown",
   "metadata": {
    "slideshow": {
     "slide_type": "fragment"
    }
   },
   "source": [
    "How do we deal with the cases when the response variable is **categorical**?\n",
    "\n",
    "* Heart disease or not\n",
    "* Survey responses\n",
    "    * _\"Did you evacuate your home when the hurricane hit?\"_\n",
    "        * Yes\n",
    "        * No\n",
    "        * Don't know\n",
    "        * Refused to answer"
   ]
  },
  {
   "cell_type": "markdown",
   "metadata": {
    "slideshow": {
     "slide_type": "slide"
    }
   },
   "source": [
    "## Logistic Regression"
   ]
  },
  {
   "cell_type": "markdown",
   "metadata": {
    "slideshow": {
     "slide_type": "slide"
    }
   },
   "source": [
    "The problem is:\n",
    "\n",
    "> The response variable y is 0 or 1. So \n",
    "    \n",
    "    y = intercept + slope * regressor\n",
    "\n",
    "has a mismatch between\n",
    "\n",
    "* the prediction (real numbers), and\n",
    "* the predicted (0 or 1)."
   ]
  },
  {
   "cell_type": "markdown",
   "metadata": {
    "slideshow": {
     "slide_type": "slide"
    }
   },
   "source": [
    "Logistic regression says:\n",
    "\n",
    "$\\qquad\\log\\dfrac{p}{1-p}$ = intercept + slope * regressor\n",
    "\n",
    "where\n",
    "\n",
    "* $p$ is the _probability_ that the response variable y is 1\n",
    "    * the _chance_ of chronic heart disease\n",
    "    * the chance that the Cowboys win a game"
   ]
  },
  {
   "cell_type": "markdown",
   "metadata": {
    "slideshow": {
     "slide_type": "fragment"
    }
   },
   "source": [
    "* $\\dfrac{p}{1-p}$ is the _odds ratio_\n",
    "    * the chance of heads to tails\n",
    "    * the chance that the Cowboys win over the chance that they lose\n",
    "    * how likely is the presence of heart disease to its absence"
   ]
  },
  {
   "cell_type": "markdown",
   "metadata": {
    "slideshow": {
     "slide_type": "fragment"
    }
   },
   "source": [
    "* $\\log\\frac{p}{1-p}$ is called the _log odds_"
   ]
  },
  {
   "cell_type": "markdown",
   "metadata": {
    "slideshow": {
     "slide_type": "slide"
    }
   },
   "source": [
    "Why is the formula:\n",
    "\n",
    "$\\qquad\\log\\dfrac{p}{1-p}$ = intercept + slope * regressor\n",
    "\n",
    "better than\n",
    "\n",
    "$\\qquad y$ = intercept + slope * regressor?"
   ]
  },
  {
   "cell_type": "markdown",
   "metadata": {
    "slideshow": {
     "slide_type": "fragment"
    }
   },
   "source": [
    "* The probability p is between 0 and 1, so"
   ]
  },
  {
   "cell_type": "markdown",
   "metadata": {
    "slideshow": {
     "slide_type": "fragment"
    }
   },
   "source": [
    "* the _odds_ $\\dfrac{p}{1-p}$ can be any number >= 0"
   ]
  },
  {
   "cell_type": "markdown",
   "metadata": {
    "slideshow": {
     "slide_type": "fragment"
    }
   },
   "source": [
    "* the _log odds_ can be any number, whether positive or negative\n",
    "\n",
    "p | odds | log odds\n",
    "-:| ----:| --------:\n",
    "0 | 0 | $-\\infty$\n",
    "0.25 | 0.33 | -1.1\n",
    "0.5 | 1 | 0\n",
    "0.75 | 3 | 1.1\n",
    "0.9 | 9 | 2.2\n",
    "0.999 | 999 | 6.9\n",
    "1.0 | $\\infty$ | $\\infty$"
   ]
  },
  {
   "cell_type": "markdown",
   "metadata": {
    "slideshow": {
     "slide_type": "slide"
    }
   },
   "source": [
    "For the chronic heart disease case:\n",
    "\n",
    "$\\qquad\\log\\dfrac{p}{1-p}$ = intercept + slope * regressor\n",
    "\n",
    "* If intercept + slope * regressor = 0\n",
    "    * probability of heart disease = 0.5\n",
    "    * 50-50 odds of heart disease"
   ]
  },
  {
   "cell_type": "markdown",
   "metadata": {
    "slideshow": {
     "slide_type": "fragment"
    }
   },
   "source": [
    "* If intercept + slope * regressor is really large\n",
    "    * probability of heart disease approaches 1.0"
   ]
  },
  {
   "cell_type": "markdown",
   "metadata": {
    "slideshow": {
     "slide_type": "fragment"
    }
   },
   "source": [
    "* If intercept + slope * regressor is really small (say, -1000)\n",
    "    * probability of heart disease approaches 0.0"
   ]
  },
  {
   "cell_type": "markdown",
   "metadata": {
    "slideshow": {
     "slide_type": "slide"
    }
   },
   "source": [
    "So, in the formula\n",
    "\n",
    "$\\qquad\\log\\dfrac{p}{1-p}$ = intercept + slope * regressor\n",
    "\n",
    "* the prediction (right-hand side) can be any real number\n",
    "* but so can the left-hand side"
   ]
  },
  {
   "cell_type": "markdown",
   "metadata": {
    "slideshow": {
     "slide_type": "fragment"
    }
   },
   "source": [
    "whereas for\n",
    "\n",
    "$\\qquad heart\\_disease\\_or\\_not$ = intercept + slope * regressor\n",
    "\n",
    "* the left-hand side had to be just 0 or 1"
   ]
  },
  {
   "cell_type": "markdown",
   "metadata": {
    "slideshow": {
     "slide_type": "slide"
    }
   },
   "source": [
    "How do we run logistic regression?"
   ]
  },
  {
   "cell_type": "code",
   "execution_count": 38,
   "metadata": {
    "collapsed": false,
    "slideshow": {
     "slide_type": "fragment"
    }
   },
   "outputs": [],
   "source": [
    "y, X = dmatrices('chd ~ ldl + tobacco + age + famhist', data=heart, return_type='dataframe')"
   ]
  },
  {
   "cell_type": "code",
   "execution_count": 39,
   "metadata": {
    "collapsed": false,
    "slideshow": {
     "slide_type": "fragment"
    }
   },
   "outputs": [],
   "source": [
    "model = sm.Logit(y, X)\n",
    "\n",
    "# instead of\n",
    "# model = sm.OLS(y, X)"
   ]
  },
  {
   "cell_type": "code",
   "execution_count": 40,
   "metadata": {
    "collapsed": false,
    "slideshow": {
     "slide_type": "fragment"
    }
   },
   "outputs": [
    {
     "name": "stdout",
     "output_type": "stream",
     "text": [
      "Optimization terminated successfully.\n",
      "         Current function value: 0.525372\n",
      "         Iterations 6\n",
      "                           Logit Regression Results                           \n",
      "==============================================================================\n",
      "Dep. Variable:                    chd   No. Observations:                  462\n",
      "Model:                          Logit   Df Residuals:                      457\n",
      "Method:                           MLE   Df Model:                            4\n",
      "Date:                Wed, 27 Jul 2016   Pseudo R-squ.:                  0.1856\n",
      "Time:                        15:39:04   Log-Likelihood:                -242.72\n",
      "converged:                       True   LL-Null:                       -298.05\n",
      "                                        LLR p-value:                 5.251e-23\n",
      "======================================================================================\n",
      "                         coef    std err          z      P>|z|      [95.0% Conf. Int.]\n",
      "--------------------------------------------------------------------------------------\n",
      "Intercept             -4.2043      0.498     -8.436      0.000        -5.181    -3.228\n",
      "famhist[T.Present]     0.9241      0.223      4.141      0.000         0.487     1.362\n",
      "ldl                    0.1676      0.054      3.093      0.002         0.061     0.274\n",
      "tobacco                0.0807      0.026      3.163      0.002         0.031     0.131\n",
      "age                    0.0440      0.010      4.520      0.000         0.025     0.063\n",
      "======================================================================================\n"
     ]
    }
   ],
   "source": [
    "result = model.fit()\n",
    "print result.summary()"
   ]
  },
  {
   "cell_type": "code",
   "execution_count": 41,
   "metadata": {
    "collapsed": false,
    "slideshow": {
     "slide_type": "slide"
    }
   },
   "outputs": [
    {
     "data": {
      "text/plain": [
       "Intercept            -4.204275\n",
       "famhist[T.Present]    0.924117\n",
       "ldl                   0.167584\n",
       "tobacco               0.080701\n",
       "age                   0.044042\n",
       "dtype: float64"
      ]
     },
     "execution_count": 41,
     "metadata": {},
     "output_type": "execute_result"
    }
   ],
   "source": [
    "result.params"
   ]
  },
  {
   "cell_type": "markdown",
   "metadata": {},
   "source": [
    "Again, we find that all of these factors are positively associated with chronic heart disease."
   ]
  },
  {
   "cell_type": "code",
   "execution_count": 42,
   "metadata": {
    "collapsed": false,
    "slideshow": {
     "slide_type": "fragment"
    }
   },
   "outputs": [
    {
     "data": {
      "text/plain": [
       "Intercept             3.271921e-17\n",
       "famhist[T.Present]    3.463622e-05\n",
       "ldl                   1.984506e-03\n",
       "tobacco               1.562079e-03\n",
       "age                   6.174437e-06\n",
       "dtype: float64"
      ]
     },
     "execution_count": 42,
     "metadata": {},
     "output_type": "execute_result"
    }
   ],
   "source": [
    "result.pvalues"
   ]
  },
  {
   "cell_type": "markdown",
   "metadata": {
    "slideshow": {
     "slide_type": "fragment"
    }
   },
   "source": [
    "So we are pretty sure about the positive associations."
   ]
  },
  {
   "cell_type": "markdown",
   "metadata": {
    "slideshow": {
     "slide_type": "slide"
    }
   },
   "source": [
    "### What factors affect admissions to college?\n",
    "\n",
    "Data from [here](http://www.ats.ucla.edu/stat/data/binary.csv)."
   ]
  },
  {
   "cell_type": "code",
   "execution_count": 43,
   "metadata": {
    "collapsed": false
   },
   "outputs": [
    {
     "data": {
      "text/html": [
       "<div>\n",
       "<table border=\"1\" class=\"dataframe\">\n",
       "  <thead>\n",
       "    <tr style=\"text-align: right;\">\n",
       "      <th></th>\n",
       "      <th>admit</th>\n",
       "      <th>gre</th>\n",
       "      <th>gpa</th>\n",
       "      <th>rank</th>\n",
       "    </tr>\n",
       "  </thead>\n",
       "  <tbody>\n",
       "    <tr>\n",
       "      <th>0</th>\n",
       "      <td>0</td>\n",
       "      <td>380</td>\n",
       "      <td>3.61</td>\n",
       "      <td>3</td>\n",
       "    </tr>\n",
       "    <tr>\n",
       "      <th>1</th>\n",
       "      <td>1</td>\n",
       "      <td>660</td>\n",
       "      <td>3.67</td>\n",
       "      <td>3</td>\n",
       "    </tr>\n",
       "    <tr>\n",
       "      <th>2</th>\n",
       "      <td>1</td>\n",
       "      <td>800</td>\n",
       "      <td>4.00</td>\n",
       "      <td>1</td>\n",
       "    </tr>\n",
       "    <tr>\n",
       "      <th>3</th>\n",
       "      <td>1</td>\n",
       "      <td>640</td>\n",
       "      <td>3.19</td>\n",
       "      <td>4</td>\n",
       "    </tr>\n",
       "    <tr>\n",
       "      <th>4</th>\n",
       "      <td>0</td>\n",
       "      <td>520</td>\n",
       "      <td>2.93</td>\n",
       "      <td>4</td>\n",
       "    </tr>\n",
       "  </tbody>\n",
       "</table>\n",
       "</div>"
      ],
      "text/plain": [
       "   admit  gre   gpa  rank\n",
       "0      0  380  3.61     3\n",
       "1      1  660  3.67     3\n",
       "2      1  800  4.00     1\n",
       "3      1  640  3.19     4\n",
       "4      0  520  2.93     4"
      ]
     },
     "execution_count": 43,
     "metadata": {},
     "output_type": "execute_result"
    }
   ],
   "source": [
    "admissions = pd.read_csv('Regression_2_data/admit.csv')\n",
    "admissions[:5]"
   ]
  },
  {
   "cell_type": "markdown",
   "metadata": {},
   "source": [
    "We want to predict \"admit\"\n",
    "\n",
    "* 1 if person was admitted, and\n",
    "* 0 otherwise."
   ]
  },
  {
   "cell_type": "code",
   "execution_count": 44,
   "metadata": {
    "collapsed": false,
    "slideshow": {
     "slide_type": "slide"
    }
   },
   "outputs": [
    {
     "name": "stdout",
     "output_type": "stream",
     "text": [
      "Optimization terminated successfully.\n",
      "         Current function value: 0.574302\n",
      "         Iterations 6\n",
      "                           Logit Regression Results                           \n",
      "==============================================================================\n",
      "Dep. Variable:                  admit   No. Observations:                  400\n",
      "Model:                          Logit   Df Residuals:                      396\n",
      "Method:                           MLE   Df Model:                            3\n",
      "Date:                Wed, 27 Jul 2016   Pseudo R-squ.:                 0.08107\n",
      "Time:                        15:40:44   Log-Likelihood:                -229.72\n",
      "converged:                       True   LL-Null:                       -249.99\n",
      "                                        LLR p-value:                 8.207e-09\n",
      "==============================================================================\n",
      "                 coef    std err          z      P>|z|      [95.0% Conf. Int.]\n",
      "------------------------------------------------------------------------------\n",
      "Intercept     -3.4495      1.133     -3.045      0.002        -5.670    -1.229\n",
      "gre            0.0023      0.001      2.101      0.036         0.000     0.004\n",
      "gpa            0.7770      0.327      2.373      0.018         0.135     1.419\n",
      "rank          -0.5600      0.127     -4.405      0.000        -0.809    -0.311\n",
      "==============================================================================\n"
     ]
    }
   ],
   "source": [
    "y, X = dmatrices('admit ~ gre + gpa + rank', data=admissions, return_type='dataframe')\n",
    "model = sm.Logit(y, X)\n",
    "result = model.fit()\n",
    "print result.summary()"
   ]
  },
  {
   "cell_type": "code",
   "execution_count": 45,
   "metadata": {
    "collapsed": false,
    "slideshow": {
     "slide_type": "slide"
    }
   },
   "outputs": [
    {
     "data": {
      "text/plain": [
       "Intercept   -3.449548\n",
       "gre          0.002294\n",
       "gpa          0.777014\n",
       "rank        -0.560031\n",
       "dtype: float64"
      ]
     },
     "execution_count": 45,
     "metadata": {},
     "output_type": "execute_result"
    }
   ],
   "source": [
    "result.params"
   ]
  },
  {
   "cell_type": "code",
   "execution_count": 46,
   "metadata": {
    "collapsed": false,
    "slideshow": {
     "slide_type": "-"
    }
   },
   "outputs": [
    {
     "data": {
      "text/plain": [
       "Intercept    0.002327\n",
       "gre          0.035641\n",
       "gpa          0.017660\n",
       "rank         0.000011\n",
       "dtype: float64"
      ]
     },
     "execution_count": 46,
     "metadata": {},
     "output_type": "execute_result"
    }
   ],
   "source": [
    "result.pvalues"
   ]
  },
  {
   "cell_type": "markdown",
   "metadata": {
    "slideshow": {
     "slide_type": "fragment"
    }
   },
   "source": [
    "* Higher rank hurts\n",
    "    * That is, being ranked close to the top (rank 1, 2, ...) helps"
   ]
  }
 ],
 "metadata": {
  "celltoolbar": "Slideshow",
  "kernelspec": {
   "display_name": "Python 2",
   "language": "python",
   "name": "python2"
  },
  "language_info": {
   "codemirror_mode": {
    "name": "ipython",
    "version": 2
   },
   "file_extension": ".py",
   "mimetype": "text/x-python",
   "name": "python",
   "nbconvert_exporter": "python",
   "pygments_lexer": "ipython2",
   "version": "2.7.12"
  }
 },
 "nbformat": 4,
 "nbformat_minor": 0
}

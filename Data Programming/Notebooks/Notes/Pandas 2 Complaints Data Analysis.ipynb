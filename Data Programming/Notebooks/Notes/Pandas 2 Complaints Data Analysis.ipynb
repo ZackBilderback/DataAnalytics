{
 "cells": [
  {
   "cell_type": "markdown",
   "metadata": {
    "slideshow": {
     "slide_type": "slide"
    }
   },
   "source": [
    "# Pandas 2 (Data Analysis Example)"
   ]
  },
  {
   "cell_type": "markdown",
   "metadata": {
    "slideshow": {
     "slide_type": "slide"
    }
   },
   "source": [
    "This lecture will do an example analysis of a reasonably large dataset.\n",
    "\n",
    "Our data is from [NYC Open data](https://nycopendata.socrata.com/) (over 1200+ datasets available!) It contains all 311 complaints from November 1, 2014 until January 6, 2015. This lecture is adapted from [here](https://www.wakari.io/sharing/bundle/jvns/PyData%20NYC%202013%20tutorial).\n",
    "\n",
    "The data is in the file: 311_calls_2months.csv"
   ]
  },
  {
   "cell_type": "code",
   "execution_count": 1,
   "metadata": {
    "collapsed": false,
    "slideshow": {
     "slide_type": "slide"
    }
   },
   "outputs": [
    {
     "name": "stdout",
     "output_type": "stream",
     "text": [
      "Populating the interactive namespace from numpy and matplotlib\n"
     ]
    }
   ],
   "source": [
    "from pandas import Series, DataFrame\n",
    "import pandas as pd\n",
    "%pylab inline"
   ]
  },
  {
   "cell_type": "code",
   "execution_count": 3,
   "metadata": {
    "collapsed": false,
    "slideshow": {
     "slide_type": "fragment"
    }
   },
   "outputs": [],
   "source": [
    "orig_data = pd.read_csv('311_calls_2months.csv',\n",
    "                        nrows=100000,\n",
    "                        dtype=unicode,\n",
    "                        parse_dates=['Created Date'])"
   ]
  },
  {
   "cell_type": "code",
   "execution_count": 4,
   "metadata": {
    "collapsed": false,
    "slideshow": {
     "slide_type": "fragment"
    }
   },
   "outputs": [
    {
     "name": "stdout",
     "output_type": "stream",
     "text": [
      "['Unique Key' 'Created Date' 'Closed Date' 'Agency' 'Agency Name'\n",
      " 'Complaint Type' 'Descriptor' 'Location Type' 'Incident Zip'\n",
      " 'Incident Address' 'Street Name' 'Cross Street 1' 'Cross Street 2'\n",
      " 'Intersection Street 1' 'Intersection Street 2' 'Address Type' 'City'\n",
      " 'Landmark' 'Facility Type' 'Status' 'Due Date'\n",
      " 'Resolution Action Updated Date' 'Community Board' 'Borough'\n",
      " 'X Coordinate (State Plane)' 'Y Coordinate (State Plane)'\n",
      " 'Park Facility Name' 'Park Borough' 'School Name' 'School Number'\n",
      " 'School Region' 'School Code' 'School Phone Number' 'School Address'\n",
      " 'School City' 'School State' 'School Zip' 'School Not Found'\n",
      " 'School or Citywide Complaint' 'Vehicle Type' 'Taxi Company Borough'\n",
      " 'Taxi Pick Up Location' 'Bridge Highway Name' 'Bridge Highway Direction'\n",
      " 'Road Ramp' 'Bridge Highway Segment' 'Garage Lot Name' 'Ferry Direction'\n",
      " 'Ferry Terminal Name' 'Latitude' 'Longitude' 'Location']\n"
     ]
    }
   ],
   "source": [
    "print orig_data.columns.values"
   ]
  },
  {
   "cell_type": "code",
   "execution_count": 5,
   "metadata": {
    "collapsed": false,
    "slideshow": {
     "slide_type": "slide"
    }
   },
   "outputs": [
    {
     "data": {
      "text/plain": [
       "Unique Key                                      29641524\n",
       "Created Date                         2015-01-06 02:14:39\n",
       "Closed Date                                          NaN\n",
       "Agency                                             CHALL\n",
       "Agency Name                                        CHALL\n",
       "Complaint Type                     Opinion for the Mayor\n",
       "Descriptor                                  PUBLICSAFETY\n",
       "Location Type                                        NaN\n",
       "Incident Zip                                         NaN\n",
       "Incident Address                                     NaN\n",
       "Street Name                                          NaN\n",
       "Cross Street 1                                       NaN\n",
       "Cross Street 2                                       NaN\n",
       "Intersection Street 1                                NaN\n",
       "Intersection Street 2                                NaN\n",
       "Address Type                                         NaN\n",
       "City                                                 NaN\n",
       "Landmark                                             NaN\n",
       "Facility Type                                        NaN\n",
       "Status                                        Email Sent\n",
       "Due Date                          01/20/2015 02:15:41 AM\n",
       "Resolution Action Updated Date                       NaN\n",
       "Community Board                            0 Unspecified\n",
       "Borough                                      Unspecified\n",
       "X Coordinate (State Plane)                           NaN\n",
       "Y Coordinate (State Plane)                           NaN\n",
       "Park Facility Name                           Unspecified\n",
       "Park Borough                                 Unspecified\n",
       "School Name                                  Unspecified\n",
       "School Number                                Unspecified\n",
       "School Region                                Unspecified\n",
       "School Code                                  Unspecified\n",
       "School Phone Number                          Unspecified\n",
       "School Address                               Unspecified\n",
       "School City                                  Unspecified\n",
       "School State                                 Unspecified\n",
       "School Zip                                   Unspecified\n",
       "School Not Found                                     NaN\n",
       "School or Citywide Complaint                         NaN\n",
       "Vehicle Type                                         NaN\n",
       "Taxi Company Borough                                 NaN\n",
       "Taxi Pick Up Location                                NaN\n",
       "Bridge Highway Name                                  NaN\n",
       "Bridge Highway Direction                             NaN\n",
       "Road Ramp                                            NaN\n",
       "Bridge Highway Segment                    1-1-1052163595\n",
       "Garage Lot Name                                      NaN\n",
       "Ferry Direction                                      NaN\n",
       "Ferry Terminal Name                                  NaN\n",
       "Latitude                                             NaN\n",
       "Longitude                                            NaN\n",
       "Location                                             NaN\n",
       "Name: 0, dtype: object"
      ]
     },
     "execution_count": 5,
     "metadata": {},
     "output_type": "execute_result"
    }
   ],
   "source": [
    "orig_data.ix[0]"
   ]
  },
  {
   "cell_type": "markdown",
   "metadata": {
    "slideshow": {
     "slide_type": "slide"
    }
   },
   "source": [
    "## What do folks complain about?"
   ]
  },
  {
   "cell_type": "code",
   "execution_count": 5,
   "metadata": {
    "collapsed": false
   },
   "outputs": [
    {
     "data": {
      "text/plain": [
       "0          Opinion for the Mayor\n",
       "1             Noise - Commercial\n",
       "2                   Animal Abuse\n",
       "3          Street Sign - Missing\n",
       "4        Noise - Street/Sidewalk\n",
       "5                Illegal Parking\n",
       "6          Opinion for the Mayor\n",
       "7          Street Sign - Missing\n",
       "8             Consumer Complaint\n",
       "9          Opinion for the Mayor\n",
       "10              Blocked Driveway\n",
       "11         Street Sign - Missing\n",
       "12              Blocked Driveway\n",
       "13            Food Establishment\n",
       "14              Street Condition\n",
       "15              Street Condition\n",
       "16         Street Sign - Missing\n",
       "17         Street Sign - Missing\n",
       "18            Consumer Complaint\n",
       "19         Street Sign - Missing\n",
       "20            Noise - Commercial\n",
       "21                      Graffiti\n",
       "22         Opinion for the Mayor\n",
       "23                        Rodent\n",
       "24            Noise - Helicopter\n",
       "25                  Animal Abuse\n",
       "26         Opinion for the Mayor\n",
       "27            Noise - Commercial\n",
       "28                  Animal Abuse\n",
       "29              Street Condition\n",
       "                  ...           \n",
       "99970             HEAT/HOT WATER\n",
       "99971             HEAT/HOT WATER\n",
       "99972             HEAT/HOT WATER\n",
       "99973             HEAT/HOT WATER\n",
       "99974             HEAT/HOT WATER\n",
       "99975             HEAT/HOT WATER\n",
       "99976             HEAT/HOT WATER\n",
       "99977                 WATER LEAK\n",
       "99978                DOOR/WINDOW\n",
       "99979                   ELECTRIC\n",
       "99980             HEAT/HOT WATER\n",
       "99981             HEAT/HOT WATER\n",
       "99982             HEAT/HOT WATER\n",
       "99983                   PLUMBING\n",
       "99984                   PLUMBING\n",
       "99985             HEAT/HOT WATER\n",
       "99986             HEAT/HOT WATER\n",
       "99987             HEAT/HOT WATER\n",
       "99988             HEAT/HOT WATER\n",
       "99989             HEAT/HOT WATER\n",
       "99990                   PLUMBING\n",
       "99991              PAINT/PLASTER\n",
       "99992                    GENERAL\n",
       "99993             HEAT/HOT WATER\n",
       "99994             HEAT/HOT WATER\n",
       "99995             HEAT/HOT WATER\n",
       "99996             HEAT/HOT WATER\n",
       "99997             HEAT/HOT WATER\n",
       "99998             HEAT/HOT WATER\n",
       "99999              PAINT/PLASTER\n",
       "Name: Complaint Type, dtype: object"
      ]
     },
     "execution_count": 5,
     "metadata": {},
     "output_type": "execute_result"
    }
   ],
   "source": [
    "# Complaint Type looks interesting\n",
    "orig_data['Complaint Type']"
   ]
  },
  {
   "cell_type": "markdown",
   "metadata": {
    "slideshow": {
     "slide_type": "slide"
    }
   },
   "source": [
    "## What do they complain about the most?"
   ]
  },
  {
   "cell_type": "code",
   "execution_count": 6,
   "metadata": {
    "collapsed": false,
    "slideshow": {
     "slide_type": "fragment"
    }
   },
   "outputs": [
    {
     "data": {
      "text/plain": [
       "HEAT/HOT WATER            20286\n",
       "Blocked Driveway           5760\n",
       "Street Light Condition     5288\n",
       "Street Condition           4495\n",
       "Illegal Parking            4045\n",
       "UNSANITARY CONDITION       3855\n",
       "PAINT/PLASTER              3384\n",
       "PLUMBING                   2846\n",
       "Noise - Commercial         2542\n",
       "Opinion for the Mayor      2373\n",
       "Name: Complaint Type, dtype: int64"
      ]
     },
     "execution_count": 6,
     "metadata": {},
     "output_type": "execute_result"
    }
   ],
   "source": [
    "# Let us aggregate all the complaints and see the frequency of each complaint type\n",
    "vc = orig_data['Complaint Type'].value_counts()\n",
    "vc[:10]"
   ]
  },
  {
   "cell_type": "markdown",
   "metadata": {
    "slideshow": {
     "slide_type": "fragment"
    }
   },
   "source": [
    "It's November, and New Yorkers really want their HOT WATER flowing.\n"
   ]
  },
  {
   "cell_type": "markdown",
   "metadata": {
    "slideshow": {
     "slide_type": "fragment"
    }
   },
   "source": [
    "## ... and the least?"
   ]
  },
  {
   "cell_type": "code",
   "execution_count": 7,
   "metadata": {
    "collapsed": false,
    "slideshow": {
     "slide_type": "slide"
    }
   },
   "outputs": [
    {
     "data": {
      "text/plain": [
       "Standpipe - Mechanical               1\n",
       "Window Guard                         1\n",
       "Transportation Provider Complaint    1\n",
       "Illegal Fireworks                    1\n",
       "DHS Income Savings Requirement       1\n",
       "Rangehood                            1\n",
       "Ferry Permit                         1\n",
       "Squeegee                             1\n",
       "Tanning                              1\n",
       "Invitation                           1\n",
       "Name: Complaint Type, dtype: int64"
      ]
     },
     "execution_count": 7,
     "metadata": {},
     "output_type": "execute_result"
    }
   ],
   "source": [
    "vc[-10:]"
   ]
  },
  {
   "cell_type": "markdown",
   "metadata": {
    "slideshow": {
     "slide_type": "slide"
    }
   },
   "source": [
    "It is often easier to plot things. Though we will look at plotting in detail in a later lecture, we can get started now."
   ]
  },
  {
   "cell_type": "code",
   "execution_count": 8,
   "metadata": {
    "collapsed": false,
    "slideshow": {
     "slide_type": "fragment"
    }
   },
   "outputs": [
    {
     "data": {
      "text/plain": [
       "<matplotlib.axes._subplots.AxesSubplot at 0x112a1320>"
      ]
     },
     "execution_count": 8,
     "metadata": {},
     "output_type": "execute_result"
    },
    {
     "data": {
      "image/png": "[encoded data removed]",
      "text/plain": [
       "<matplotlib.figure.Figure at 0x11cc9f98>"
      ]
     },
     "metadata": {},
     "output_type": "display_data"
    }
   ],
   "source": [
    "# Plot a histogram of the top-20 complaints.\n",
    "top_20_vc = vc[:20]\n",
    "top_20_vc.plot(kind='bar')"
   ]
  },
  {
   "cell_type": "markdown",
   "metadata": {
    "slideshow": {
     "slide_type": "fragment"
    }
   },
   "source": [
    "What if we want the y-axis to show the fraction of complaints, instead of the number of complaints?"
   ]
  },
  {
   "cell_type": "markdown",
   "metadata": {
    "slideshow": {
     "slide_type": "slide"
    }
   },
   "source": [
    "We must **normalize** the value counts (vc) by the total number of complaints."
   ]
  },
  {
   "cell_type": "code",
   "execution_count": 9,
   "metadata": {
    "collapsed": false,
    "slideshow": {
     "slide_type": "fragment"
    }
   },
   "outputs": [
    {
     "data": {
      "text/plain": [
       "<matplotlib.axes._subplots.AxesSubplot at 0x8b0e160>"
      ]
     },
     "execution_count": 9,
     "metadata": {},
     "output_type": "execute_result"
    },
    {
     "data": {
      "image/png": "[encoded data removed]",
      "text/plain": [
       "<matplotlib.figure.Figure at 0x10687358>"
      ]
     },
     "metadata": {},
     "output_type": "display_data"
    }
   ],
   "source": [
    "top_20_vc_fraction = top_20_vc / vc.sum()\n",
    "top_20_vc_fraction.plot(kind='bar')"
   ]
  },
  {
   "cell_type": "markdown",
   "metadata": {
    "slideshow": {
     "slide_type": "slide"
    }
   },
   "source": [
    "## Which locations complain the most?\n",
    "\n",
    "We have the incident zipcode, and we have the borough. Let's look at these."
   ]
  },
  {
   "cell_type": "code",
   "execution_count": 10,
   "metadata": {
    "collapsed": false
   },
   "outputs": [
    {
     "data": {
      "text/plain": [
       "0    Unspecified\n",
       "1         QUEENS\n",
       "2         QUEENS\n",
       "3       BROOKLYN\n",
       "4      MANHATTAN\n",
       "5         QUEENS\n",
       "6    Unspecified\n",
       "7       BROOKLYN\n",
       "8      MANHATTAN\n",
       "9    Unspecified\n",
       "Name: Borough, dtype: object"
      ]
     },
     "execution_count": 10,
     "metadata": {},
     "output_type": "execute_result"
    }
   ],
   "source": [
    "orig_data['Borough'][:10]"
   ]
  },
  {
   "cell_type": "markdown",
   "metadata": {
    "slideshow": {
     "slide_type": "slide"
    }
   },
   "source": [
    "How do we plot the number of complaints for each Borough?"
   ]
  },
  {
   "cell_type": "code",
   "execution_count": 11,
   "metadata": {
    "collapsed": false,
    "slideshow": {
     "slide_type": "fragment"
    }
   },
   "outputs": [
    {
     "data": {
      "text/plain": [
       "<matplotlib.axes._subplots.AxesSubplot at 0x8de0be0>"
      ]
     },
     "execution_count": 11,
     "metadata": {},
     "output_type": "execute_result"
    },
    {
     "data": {
      "image/png": "[encoded data removed]",
      "text/plain": [
       "<matplotlib.figure.Figure at 0xa172b00>"
      ]
     },
     "metadata": {},
     "output_type": "display_data"
    }
   ],
   "source": [
    "orig_data['Borough'].value_counts().plot(kind='bar')"
   ]
  },
  {
   "cell_type": "markdown",
   "metadata": {
    "slideshow": {
     "slide_type": "fragment"
    }
   },
   "source": [
    "We are getting \"Unspecified\", but that's really a missing value. We should set missing values to NaN so that they are not counted."
   ]
  },
  {
   "cell_type": "code",
   "execution_count": 12,
   "metadata": {
    "collapsed": false,
    "slideshow": {
     "slide_type": "slide"
    }
   },
   "outputs": [
    {
     "data": {
      "text/plain": [
       "<matplotlib.axes._subplots.AxesSubplot at 0x10fd5160>"
      ]
     },
     "execution_count": 12,
     "metadata": {},
     "output_type": "execute_result"
    },
    {
     "data": {
      "image/png": "[encoded data removed]",
      "text/plain": [
       "<matplotlib.figure.Figure at 0x11cc9f28>"
      ]
     },
     "metadata": {},
     "output_type": "display_data"
    }
   ],
   "source": [
    "mask = (orig_data['Borough'] == 'Unspecified')\n",
    "orig_data.ix[mask, 'Borough'] = np.nan # This sets the value to NaN\n",
    "\n",
    "# Let's redo the bar plot\n",
    "orig_data['Borough'].value_counts().plot(kind='bar')"
   ]
  },
  {
   "cell_type": "markdown",
   "metadata": {
    "slideshow": {
     "slide_type": "slide"
    }
   },
   "source": [
    "Let's do the same by zipcode."
   ]
  },
  {
   "cell_type": "code",
   "execution_count": 13,
   "metadata": {
    "collapsed": false
   },
   "outputs": [
    {
     "data": {
      "text/plain": [
       "0      NaN\n",
       "1    11372\n",
       "2    11416\n",
       "3    11233\n",
       "4    10022\n",
       "5    11368\n",
       "6      NaN\n",
       "7    11233\n",
       "8    10033\n",
       "9      NaN\n",
       "Name: Incident Zip, dtype: object"
      ]
     },
     "execution_count": 13,
     "metadata": {},
     "output_type": "execute_result"
    }
   ],
   "source": [
    "orig_data['Incident Zip'][:10]"
   ]
  },
  {
   "cell_type": "code",
   "execution_count": 14,
   "metadata": {
    "collapsed": false,
    "slideshow": {
     "slide_type": "fragment"
    }
   },
   "outputs": [
    {
     "data": {
      "text/plain": [
       "<matplotlib.axes._subplots.AxesSubplot at 0xe4296d8>"
      ]
     },
     "execution_count": 14,
     "metadata": {},
     "output_type": "execute_result"
    },
    {
     "data": {
      "image/png": "[encoded data removed]",
      "text/plain": [
       "<matplotlib.figure.Figure at 0x97df9b0>"
      ]
     },
     "metadata": {},
     "output_type": "display_data"
    }
   ],
   "source": [
    "# Number of complaints by zipcode\n",
    "orig_data['Incident Zip'].value_counts()[:20].plot(kind='bar')"
   ]
  },
  {
   "cell_type": "markdown",
   "metadata": {
    "slideshow": {
     "slide_type": "slide"
    }
   },
   "source": [
    "## Find the Borough for each zip-code\n",
    "\n",
    "Let's do something a bit more complex. We have the top zip-codes, but that gives little understanding. Let us find the Borough for each zipcode.\n",
    "\n",
    "How do we do this?"
   ]
  },
  {
   "cell_type": "markdown",
   "metadata": {
    "slideshow": {
     "slide_type": "fragment"
    }
   },
   "source": [
    "We want to create a **Series** of Borough indexed by zipcode.\n",
    "In this Series, we must have:\n",
    "\n",
    "* for each zipcode, there should be one borough, and\n",
    "* there should be no duplicate zipcodes in the index."
   ]
  },
  {
   "cell_type": "code",
   "execution_count": 15,
   "metadata": {
    "collapsed": false,
    "slideshow": {
     "slide_type": "slide"
    }
   },
   "outputs": [
    {
     "data": {
      "text/html": [
       "<div>\n",
       "<table border=\"1\" class=\"dataframe\">\n",
       "  <thead>\n",
       "    <tr style=\"text-align: right;\">\n",
       "      <th></th>\n",
       "      <th>Borough</th>\n",
       "      <th>Incident Zip</th>\n",
       "    </tr>\n",
       "  </thead>\n",
       "  <tbody>\n",
       "    <tr>\n",
       "      <th>0</th>\n",
       "      <td>NaN</td>\n",
       "      <td>NaN</td>\n",
       "    </tr>\n",
       "    <tr>\n",
       "      <th>1</th>\n",
       "      <td>QUEENS</td>\n",
       "      <td>11372</td>\n",
       "    </tr>\n",
       "    <tr>\n",
       "      <th>2</th>\n",
       "      <td>QUEENS</td>\n",
       "      <td>11416</td>\n",
       "    </tr>\n",
       "    <tr>\n",
       "      <th>3</th>\n",
       "      <td>BROOKLYN</td>\n",
       "      <td>11233</td>\n",
       "    </tr>\n",
       "    <tr>\n",
       "      <th>4</th>\n",
       "      <td>MANHATTAN</td>\n",
       "      <td>10022</td>\n",
       "    </tr>\n",
       "  </tbody>\n",
       "</table>\n",
       "</div>"
      ],
      "text/plain": [
       "     Borough Incident Zip\n",
       "0        NaN          NaN\n",
       "1     QUEENS        11372\n",
       "2     QUEENS        11416\n",
       "3   BROOKLYN        11233\n",
       "4  MANHATTAN        10022"
      ]
     },
     "execution_count": 15,
     "metadata": {},
     "output_type": "execute_result"
    }
   ],
   "source": [
    "# Step 2: Get a Series of Boroughs, again indexed by zipcode\n",
    "borough_zip = orig_data[['Borough', 'Incident Zip']]\n",
    "borough_zip[:5]"
   ]
  },
  {
   "cell_type": "markdown",
   "metadata": {
    "slideshow": {
     "slide_type": "fragment"
    }
   },
   "source": [
    "Trouble: both have missing values, and we must get rid of these."
   ]
  },
  {
   "cell_type": "code",
   "execution_count": 16,
   "metadata": {
    "collapsed": false,
    "slideshow": {
     "slide_type": "slide"
    }
   },
   "outputs": [
    {
     "data": {
      "text/plain": [
       "0    False\n",
       "1     True\n",
       "2     True\n",
       "3     True\n",
       "4     True\n",
       "Name: Borough, dtype: bool"
      ]
     },
     "execution_count": 16,
     "metadata": {},
     "output_type": "execute_result"
    }
   ],
   "source": [
    "# Detect missing boroughs\n",
    "mask_borough = borough_zip['Borough'].notnull()\n",
    "mask_borough[:5]"
   ]
  },
  {
   "cell_type": "code",
   "execution_count": 17,
   "metadata": {
    "collapsed": false,
    "slideshow": {
     "slide_type": "fragment"
    }
   },
   "outputs": [],
   "source": [
    "# Similarly, we get a mask for the non-null zipcodes\n",
    "mask_zip = borough_zip['Incident Zip'].notnull()"
   ]
  },
  {
   "cell_type": "markdown",
   "metadata": {
    "slideshow": {
     "slide_type": "fragment"
    }
   },
   "source": [
    "Which are the rows we want to keep?"
   ]
  },
  {
   "cell_type": "code",
   "execution_count": 18,
   "metadata": {
    "collapsed": false,
    "slideshow": {
     "slide_type": "fragment"
    }
   },
   "outputs": [],
   "source": [
    "# We combine the two masks\n",
    "mask = (mask_borough & mask_zip)  # mask is True only if both mask_borough and mask_zip are True"
   ]
  },
  {
   "cell_type": "code",
   "execution_count": 19,
   "metadata": {
    "collapsed": false,
    "slideshow": {
     "slide_type": "slide"
    }
   },
   "outputs": [
    {
     "data": {
      "text/html": [
       "<div>\n",
       "<table border=\"1\" class=\"dataframe\">\n",
       "  <thead>\n",
       "    <tr style=\"text-align: right;\">\n",
       "      <th></th>\n",
       "      <th>Borough</th>\n",
       "      <th>Incident Zip</th>\n",
       "    </tr>\n",
       "  </thead>\n",
       "  <tbody>\n",
       "    <tr>\n",
       "      <th>1</th>\n",
       "      <td>QUEENS</td>\n",
       "      <td>11372</td>\n",
       "    </tr>\n",
       "    <tr>\n",
       "      <th>2</th>\n",
       "      <td>QUEENS</td>\n",
       "      <td>11416</td>\n",
       "    </tr>\n",
       "    <tr>\n",
       "      <th>3</th>\n",
       "      <td>BROOKLYN</td>\n",
       "      <td>11233</td>\n",
       "    </tr>\n",
       "    <tr>\n",
       "      <th>4</th>\n",
       "      <td>MANHATTAN</td>\n",
       "      <td>10022</td>\n",
       "    </tr>\n",
       "    <tr>\n",
       "      <th>5</th>\n",
       "      <td>QUEENS</td>\n",
       "      <td>11368</td>\n",
       "    </tr>\n",
       "  </tbody>\n",
       "</table>\n",
       "</div>"
      ],
      "text/plain": [
       "     Borough Incident Zip\n",
       "1     QUEENS        11372\n",
       "2     QUEENS        11416\n",
       "3   BROOKLYN        11233\n",
       "4  MANHATTAN        10022\n",
       "5     QUEENS        11368"
      ]
     },
     "execution_count": 19,
     "metadata": {},
     "output_type": "execute_result"
    }
   ],
   "source": [
    "# Apply the mask\n",
    "borough_zip_clean = borough_zip[mask]\n",
    "borough_zip_clean[:5]"
   ]
  },
  {
   "cell_type": "markdown",
   "metadata": {
    "slideshow": {
     "slide_type": "fragment"
    }
   },
   "source": [
    "Another option is to use **dropna()**"
   ]
  },
  {
   "cell_type": "code",
   "execution_count": 20,
   "metadata": {
    "collapsed": false,
    "slideshow": {
     "slide_type": "fragment"
    }
   },
   "outputs": [
    {
     "data": {
      "text/html": [
       "<div>\n",
       "<table border=\"1\" class=\"dataframe\">\n",
       "  <thead>\n",
       "    <tr style=\"text-align: right;\">\n",
       "      <th></th>\n",
       "      <th>Borough</th>\n",
       "      <th>Incident Zip</th>\n",
       "    </tr>\n",
       "  </thead>\n",
       "  <tbody>\n",
       "    <tr>\n",
       "      <th>1</th>\n",
       "      <td>QUEENS</td>\n",
       "      <td>11372</td>\n",
       "    </tr>\n",
       "    <tr>\n",
       "      <th>2</th>\n",
       "      <td>QUEENS</td>\n",
       "      <td>11416</td>\n",
       "    </tr>\n",
       "    <tr>\n",
       "      <th>3</th>\n",
       "      <td>BROOKLYN</td>\n",
       "      <td>11233</td>\n",
       "    </tr>\n",
       "    <tr>\n",
       "      <th>4</th>\n",
       "      <td>MANHATTAN</td>\n",
       "      <td>10022</td>\n",
       "    </tr>\n",
       "    <tr>\n",
       "      <th>5</th>\n",
       "      <td>QUEENS</td>\n",
       "      <td>11368</td>\n",
       "    </tr>\n",
       "  </tbody>\n",
       "</table>\n",
       "</div>"
      ],
      "text/plain": [
       "     Borough Incident Zip\n",
       "1     QUEENS        11372\n",
       "2     QUEENS        11416\n",
       "3   BROOKLYN        11233\n",
       "4  MANHATTAN        10022\n",
       "5     QUEENS        11368"
      ]
     },
     "execution_count": 20,
     "metadata": {},
     "output_type": "execute_result"
    }
   ],
   "source": [
    "borough_zip_clean = borough_zip.dropna(how='any')\n",
    "borough_zip_clean[:5]"
   ]
  },
  {
   "cell_type": "markdown",
   "metadata": {
    "slideshow": {
     "slide_type": "slide"
    }
   },
   "source": [
    "We have a DataFrame of Borough and zipcode with no missing values. However this has two problems:\n",
    "\n",
    "* The (Borough, Incident Zip) pairs could be repeated multiple times.\n",
    "* Some zipcodes could span multiple Boroughs (!)\n",
    "\n",
    "We need to get rid of these **duplicates**."
   ]
  },
  {
   "cell_type": "code",
   "execution_count": 21,
   "metadata": {
    "collapsed": false,
    "slideshow": {
     "slide_type": "fragment"
    }
   },
   "outputs": [
    {
     "name": "stdout",
     "output_type": "stream",
     "text": [
      "Initial length of DataFrame = 87629\n",
      "After removing duplicates, length = 196\n"
     ]
    }
   ],
   "source": [
    "borough_zip_dedup = borough_zip_clean.drop_duplicates(subset='Incident Zip')\n",
    "\n",
    "print \"Initial length of DataFrame =\", len(borough_zip_clean)\n",
    "print \"After removing duplicates, length =\", len(borough_zip_dedup)"
   ]
  },
  {
   "cell_type": "markdown",
   "metadata": {
    "slideshow": {
     "slide_type": "slide"
    }
   },
   "source": [
    "> DataFrame.drop_duplicates()\n",
    "\n",
    "* By default, it removes duplicate rows\n",
    "* So if **(Queens, 11372)** is repeated multiple times, only one such row remains."
   ]
  },
  {
   "cell_type": "markdown",
   "metadata": {
    "slideshow": {
     "slide_type": "fragment"
    }
   },
   "source": [
    "> DataFrame.drop_duplicates(subset='Incident Zip')\n",
    "\n",
    "* This means we want Pandas to use only the zip-code while determining duplicates\n",
    "* instead of both Borough and zip-code"
   ]
  },
  {
   "cell_type": "markdown",
   "metadata": {
    "slideshow": {
     "slide_type": "fragment"
    }
   },
   "source": [
    "* For any zip-code, only one **(Borough, Incident Zip)** row will be retained"
   ]
  },
  {
   "cell_type": "markdown",
   "metadata": {
    "slideshow": {
     "slide_type": "slide"
    }
   },
   "source": [
    "We now have a good DataFrame of unique (Zipcodes, Borough) pairs."
   ]
  },
  {
   "cell_type": "code",
   "execution_count": 22,
   "metadata": {
    "collapsed": false
   },
   "outputs": [
    {
     "data": {
      "text/html": [
       "<div>\n",
       "<table border=\"1\" class=\"dataframe\">\n",
       "  <thead>\n",
       "    <tr style=\"text-align: right;\">\n",
       "      <th></th>\n",
       "      <th>Borough</th>\n",
       "      <th>Incident Zip</th>\n",
       "    </tr>\n",
       "  </thead>\n",
       "  <tbody>\n",
       "    <tr>\n",
       "      <th>1</th>\n",
       "      <td>QUEENS</td>\n",
       "      <td>11372</td>\n",
       "    </tr>\n",
       "    <tr>\n",
       "      <th>2</th>\n",
       "      <td>QUEENS</td>\n",
       "      <td>11416</td>\n",
       "    </tr>\n",
       "    <tr>\n",
       "      <th>3</th>\n",
       "      <td>BROOKLYN</td>\n",
       "      <td>11233</td>\n",
       "    </tr>\n",
       "    <tr>\n",
       "      <th>4</th>\n",
       "      <td>MANHATTAN</td>\n",
       "      <td>10022</td>\n",
       "    </tr>\n",
       "    <tr>\n",
       "      <th>5</th>\n",
       "      <td>QUEENS</td>\n",
       "      <td>11368</td>\n",
       "    </tr>\n",
       "  </tbody>\n",
       "</table>\n",
       "</div>"
      ],
      "text/plain": [
       "     Borough Incident Zip\n",
       "1     QUEENS        11372\n",
       "2     QUEENS        11416\n",
       "3   BROOKLYN        11233\n",
       "4  MANHATTAN        10022\n",
       "5     QUEENS        11368"
      ]
     },
     "execution_count": 22,
     "metadata": {},
     "output_type": "execute_result"
    }
   ],
   "source": [
    "borough_zip_dedup[:5]"
   ]
  },
  {
   "cell_type": "markdown",
   "metadata": {
    "slideshow": {
     "slide_type": "fragment"
    }
   },
   "source": [
    "However, we need to create a **Series** with the zipcode as index."
   ]
  },
  {
   "cell_type": "code",
   "execution_count": 23,
   "metadata": {
    "collapsed": false,
    "slideshow": {
     "slide_type": "slide"
    }
   },
   "outputs": [
    {
     "data": {
      "text/html": [
       "<div>\n",
       "<table border=\"1\" class=\"dataframe\">\n",
       "  <thead>\n",
       "    <tr style=\"text-align: right;\">\n",
       "      <th></th>\n",
       "      <th>Borough</th>\n",
       "    </tr>\n",
       "    <tr>\n",
       "      <th>Incident Zip</th>\n",
       "      <th></th>\n",
       "    </tr>\n",
       "  </thead>\n",
       "  <tbody>\n",
       "    <tr>\n",
       "      <th>11372</th>\n",
       "      <td>QUEENS</td>\n",
       "    </tr>\n",
       "    <tr>\n",
       "      <th>11416</th>\n",
       "      <td>QUEENS</td>\n",
       "    </tr>\n",
       "    <tr>\n",
       "      <th>11233</th>\n",
       "      <td>BROOKLYN</td>\n",
       "    </tr>\n",
       "    <tr>\n",
       "      <th>10022</th>\n",
       "      <td>MANHATTAN</td>\n",
       "    </tr>\n",
       "    <tr>\n",
       "      <th>11368</th>\n",
       "      <td>QUEENS</td>\n",
       "    </tr>\n",
       "  </tbody>\n",
       "</table>\n",
       "</div>"
      ],
      "text/plain": [
       "                Borough\n",
       "Incident Zip           \n",
       "11372            QUEENS\n",
       "11416            QUEENS\n",
       "11233          BROOKLYN\n",
       "10022         MANHATTAN\n",
       "11368            QUEENS"
      ]
     },
     "execution_count": 23,
     "metadata": {},
     "output_type": "execute_result"
    }
   ],
   "source": [
    "tmp_df = borough_zip_dedup.set_index('Incident Zip')\n",
    "tmp_df[:5]"
   ]
  },
  {
   "cell_type": "code",
   "execution_count": 24,
   "metadata": {
    "collapsed": false,
    "slideshow": {
     "slide_type": "fragment"
    }
   },
   "outputs": [
    {
     "data": {
      "text/plain": [
       "Incident Zip\n",
       "11372       QUEENS\n",
       "11416       QUEENS\n",
       "11233     BROOKLYN\n",
       "10022    MANHATTAN\n",
       "11368       QUEENS\n",
       "Name: Borough, dtype: object"
      ]
     },
     "execution_count": 24,
     "metadata": {},
     "output_type": "execute_result"
    }
   ],
   "source": [
    "# Recall that each column of a DataFrame is a Series.\n",
    "borough_zip_series = tmp_df['Borough']\n",
    "borough_zip_series[:5]"
   ]
  },
  {
   "cell_type": "markdown",
   "metadata": {
    "slideshow": {
     "slide_type": "slide"
    }
   },
   "source": [
    "### Summary (find the Borough for each zip-code)\n",
    "\n",
    "We wanted to get a Series of Boroughs, indexed by Zipcode."
   ]
  },
  {
   "cell_type": "markdown",
   "metadata": {
    "slideshow": {
     "slide_type": "fragment"
    }
   },
   "source": [
    "* We selected zipcodes and boroughs from the full data\n",
    "\n",
    "> borough_zip = orig_data[['Borough', 'Incident Zip']]"
   ]
  },
  {
   "cell_type": "markdown",
   "metadata": {
    "slideshow": {
     "slide_type": "fragment"
    }
   },
   "source": [
    "* We removed missing values by applying a mask.\n",
    "    * there is also a dropna() method which does what we did"
   ]
  },
  {
   "cell_type": "markdown",
   "metadata": {
    "slideshow": {
     "slide_type": "fragment"
    }
   },
   "source": [
    "* We removed duplicates\n",
    "    * drop_duplicates() method"
   ]
  },
  {
   "cell_type": "markdown",
   "metadata": {
    "slideshow": {
     "slide_type": "fragment"
    }
   },
   "source": [
    "* We set the zipcode to be the index\n",
    "    * set_index() method"
   ]
  },
  {
   "cell_type": "markdown",
   "metadata": {
    "slideshow": {
     "slide_type": "fragment"
    }
   },
   "source": [
    "* Finally, we selected the 'Borough' Series, now indexed by zipcode."
   ]
  },
  {
   "cell_type": "markdown",
   "metadata": {
    "slideshow": {
     "slide_type": "slide"
    }
   },
   "source": [
    "## Plot the most _interesting_ zip-codes\n",
    "\n",
    "Let us again plot the number of incidents by zip-code, but with the zip-code labels replaced by the corresponding Boroughs.\n",
    "\n",
    "How do we do this?"
   ]
  },
  {
   "cell_type": "markdown",
   "metadata": {
    "slideshow": {
     "slide_type": "fragment"
    }
   },
   "source": [
    "1. Get the number of complaints by zipcode. This gives a Series, indexed by zipcode.\n",
    "2. Get a Series of Boroughs, again indexed by zipcode.\n",
    "3. **Rename** the index of the first series using the Series of Step 2."
   ]
  },
  {
   "cell_type": "markdown",
   "metadata": {
    "slideshow": {
     "slide_type": "slide"
    }
   },
   "source": [
    "**Step 1:** Get the number of complaints by zipcode."
   ]
  },
  {
   "cell_type": "code",
   "execution_count": 25,
   "metadata": {
    "collapsed": false,
    "slideshow": {
     "slide_type": "fragment"
    }
   },
   "outputs": [
    {
     "data": {
      "text/plain": [
       "11226    1758\n",
       "10467    1632\n",
       "10458    1554\n",
       "10468    1373\n",
       "10453    1372\n",
       "Name: Incident Zip, dtype: int64"
      ]
     },
     "execution_count": 25,
     "metadata": {},
     "output_type": "execute_result"
    }
   ],
   "source": [
    "# Step 1: Get the number of complaints by zipcode.\n",
    "vc = orig_data['Incident Zip'].value_counts()\n",
    "vc[:5]"
   ]
  },
  {
   "cell_type": "markdown",
   "metadata": {
    "slideshow": {
     "slide_type": "fragment"
    }
   },
   "source": [
    "**Step 2:** Get a Series of Boroughs, indexed by zipcode."
   ]
  },
  {
   "cell_type": "code",
   "execution_count": 26,
   "metadata": {
    "collapsed": false,
    "slideshow": {
     "slide_type": "fragment"
    }
   },
   "outputs": [
    {
     "data": {
      "text/plain": [
       "Incident Zip\n",
       "11372       QUEENS\n",
       "11416       QUEENS\n",
       "11233     BROOKLYN\n",
       "10022    MANHATTAN\n",
       "11368       QUEENS\n",
       "Name: Borough, dtype: object"
      ]
     },
     "execution_count": 26,
     "metadata": {},
     "output_type": "execute_result"
    }
   ],
   "source": [
    "borough_zip_series[:5]"
   ]
  },
  {
   "cell_type": "markdown",
   "metadata": {
    "slideshow": {
     "slide_type": "slide"
    }
   },
   "source": [
    "**Step 3:** Replace the index of the value-counts Series (vc) by the corresponding Borough from borough_zip_series."
   ]
  },
  {
   "cell_type": "code",
   "execution_count": 27,
   "metadata": {
    "collapsed": false,
    "slideshow": {
     "slide_type": "fragment"
    }
   },
   "outputs": [
    {
     "data": {
      "text/plain": [
       "BROOKLYN    1758\n",
       "BRONX       1632\n",
       "BRONX       1554\n",
       "BRONX       1373\n",
       "BRONX       1372\n",
       "Name: Incident Zip, dtype: int64"
      ]
     },
     "execution_count": 27,
     "metadata": {},
     "output_type": "execute_result"
    }
   ],
   "source": [
    "# Step 3: Replace index of vc with borough_zip_series\n",
    "vc_renamed = vc.rename(borough_zip_series)\n",
    "vc_renamed[:5]"
   ]
  },
  {
   "cell_type": "code",
   "execution_count": 28,
   "metadata": {
    "collapsed": false,
    "slideshow": {
     "slide_type": "slide"
    }
   },
   "outputs": [
    {
     "data": {
      "text/plain": [
       "<matplotlib.axes._subplots.AxesSubplot at 0xe7589e8>"
      ]
     },
     "execution_count": 28,
     "metadata": {},
     "output_type": "execute_result"
    },
    {
     "data": {
      "image/png": "[encoded data removed]",
      "text/plain": [
       "<matplotlib.figure.Figure at 0xb737198>"
      ]
     },
     "metadata": {},
     "output_type": "display_data"
    }
   ],
   "source": [
    "# Finally, let us re-plot the value counts by zip-code, but with the Borough name as the label\n",
    "vc_renamed[:20].plot(kind='bar')"
   ]
  },
  {
   "cell_type": "markdown",
   "metadata": {
    "slideshow": {
     "slide_type": "fragment"
    }
   },
   "source": [
    "* **Surprise!** The top-complaining zipcodes seem to be mostly from the Bronx, but we'd earlier seen that Brooklyn complains the most?"
   ]
  },
  {
   "cell_type": "code",
   "execution_count": 29,
   "metadata": {
    "collapsed": false,
    "slideshow": {
     "slide_type": "slide"
    }
   },
   "outputs": [
    {
     "data": {
      "text/plain": [
       "<matplotlib.axes._subplots.AxesSubplot at 0x11207748>"
      ]
     },
     "execution_count": 29,
     "metadata": {},
     "output_type": "execute_result"
    },
    {
     "data": {
      "image/png": "[encoded data removed]",
      "text/plain": [
       "<matplotlib.figure.Figure at 0xf76b358>"
      ]
     },
     "metadata": {},
     "output_type": "display_data"
    }
   ],
   "source": [
    "orig_data['Borough'].value_counts().plot(kind='bar')"
   ]
  },
  {
   "cell_type": "markdown",
   "metadata": {
    "slideshow": {
     "slide_type": "fragment"
    }
   },
   "source": [
    "**Why?** Maybe Brooklyn just has more zipcodes?"
   ]
  },
  {
   "cell_type": "markdown",
   "metadata": {
    "slideshow": {
     "slide_type": "slide"
    }
   },
   "source": [
    "## Find the number of zipcodes for each Borough.\n",
    "\n",
    "How would we solve this?"
   ]
  },
  {
   "cell_type": "code",
   "execution_count": 30,
   "metadata": {
    "collapsed": false,
    "slideshow": {
     "slide_type": "fragment"
    }
   },
   "outputs": [
    {
     "data": {
      "text/plain": [
       "QUEENS           65\n",
       "MANHATTAN        58\n",
       "BROOKLYN         40\n",
       "BRONX            26\n",
       "STATEN ISLAND    12\n",
       "Name: Borough, dtype: int64"
      ]
     },
     "execution_count": 30,
     "metadata": {},
     "output_type": "execute_result"
    }
   ],
   "source": [
    "zip_per_borough = orig_data[['Borough', 'Incident Zip']].dropna(how='any') \\\n",
    "                                                        .drop_duplicates() \\\n",
    "                                                        ['Borough'] \\\n",
    "                                                        .value_counts()\n",
    "zip_per_borough"
   ]
  },
  {
   "cell_type": "markdown",
   "metadata": {
    "slideshow": {
     "slide_type": "fragment"
    }
   },
   "source": [
    "So, it isn't the case that Brooklyn has far more zipcodes than everyone else... Still, it has quite a few more than the Bronx."
   ]
  },
  {
   "cell_type": "markdown",
   "metadata": {
    "slideshow": {
     "slide_type": "slide"
    }
   },
   "source": [
    "## Plot complaints per zipcode for each Borough."
   ]
  },
  {
   "cell_type": "code",
   "execution_count": 31,
   "metadata": {
    "collapsed": false
   },
   "outputs": [
    {
     "data": {
      "text/html": [
       "<div>\n",
       "<table border=\"1\" class=\"dataframe\">\n",
       "  <thead>\n",
       "    <tr style=\"text-align: right;\">\n",
       "      <th></th>\n",
       "      <th>Borough</th>\n",
       "      <th>Incident Zip</th>\n",
       "    </tr>\n",
       "  </thead>\n",
       "  <tbody>\n",
       "    <tr>\n",
       "      <th>1</th>\n",
       "      <td>QUEENS</td>\n",
       "      <td>11372</td>\n",
       "    </tr>\n",
       "    <tr>\n",
       "      <th>2</th>\n",
       "      <td>QUEENS</td>\n",
       "      <td>11416</td>\n",
       "    </tr>\n",
       "    <tr>\n",
       "      <th>3</th>\n",
       "      <td>BROOKLYN</td>\n",
       "      <td>11233</td>\n",
       "    </tr>\n",
       "    <tr>\n",
       "      <th>4</th>\n",
       "      <td>MANHATTAN</td>\n",
       "      <td>10022</td>\n",
       "    </tr>\n",
       "    <tr>\n",
       "      <th>5</th>\n",
       "      <td>QUEENS</td>\n",
       "      <td>11368</td>\n",
       "    </tr>\n",
       "  </tbody>\n",
       "</table>\n",
       "</div>"
      ],
      "text/plain": [
       "     Borough Incident Zip\n",
       "1     QUEENS        11372\n",
       "2     QUEENS        11416\n",
       "3   BROOKLYN        11233\n",
       "4  MANHATTAN        10022\n",
       "5     QUEENS        11368"
      ]
     },
     "execution_count": 31,
     "metadata": {},
     "output_type": "execute_result"
    }
   ],
   "source": [
    "# We have the borough, zipcode DataFrame with null values removed.\n",
    "# Each row corresponds to one complaint.\n",
    "borough_zip_clean[:5]"
   ]
  },
  {
   "cell_type": "code",
   "execution_count": 32,
   "metadata": {
    "collapsed": false,
    "slideshow": {
     "slide_type": "fragment"
    }
   },
   "outputs": [
    {
     "data": {
      "text/plain": [
       "BROOKLYN         27748\n",
       "QUEENS           19159\n",
       "BRONX            18884\n",
       "MANHATTAN        18523\n",
       "STATEN ISLAND     3315\n",
       "Name: Borough, dtype: int64"
      ]
     },
     "execution_count": 32,
     "metadata": {},
     "output_type": "execute_result"
    }
   ],
   "source": [
    "# Get the number of complaints by borough\n",
    "borough_counts = borough_zip_clean['Borough'].value_counts()\n",
    "borough_counts"
   ]
  },
  {
   "cell_type": "code",
   "execution_count": 33,
   "metadata": {
    "collapsed": false,
    "slideshow": {
     "slide_type": "slide"
    }
   },
   "outputs": [
    {
     "data": {
      "text/plain": [
       "<matplotlib.axes._subplots.AxesSubplot at 0xf8358d0>"
      ]
     },
     "execution_count": 33,
     "metadata": {},
     "output_type": "execute_result"
    },
    {
     "data": {
      "image/png": "[encoded data removed]",
      "text/plain": [
       "<matplotlib.figure.Figure at 0x1125ab38>"
      ]
     },
     "metadata": {},
     "output_type": "display_data"
    }
   ],
   "source": [
    "# Divide this by zip_per_borough, and plot.\n",
    "borough_counts_per_zip = borough_counts / zip_per_borough\n",
    "borough_counts_per_zip.plot(kind='bar')"
   ]
  },
  {
   "cell_type": "markdown",
   "metadata": {
    "slideshow": {
     "slide_type": "fragment"
    }
   },
   "source": [
    "**The Bronx claims the throne!**"
   ]
  },
  {
   "cell_type": "markdown",
   "metadata": {
    "slideshow": {
     "slide_type": "slide"
    }
   },
   "source": [
    "## I'm going to NYC and I hate noise. Which streets should I avoid?\n",
    "\n",
    "Let us now focus on one particular kind of complaint: Noise complaints.\n",
    "How do we find all types of noise-related complaints?"
   ]
  },
  {
   "cell_type": "code",
   "execution_count": 34,
   "metadata": {
    "collapsed": false,
    "slideshow": {
     "slide_type": "fragment"
    }
   },
   "outputs": [
    {
     "data": {
      "text/plain": [
       "array(['Opinion for the Mayor', 'Noise - Commercial', 'Animal Abuse',\n",
       "       'Street Sign - Missing', 'Noise - Street/Sidewalk',\n",
       "       'Illegal Parking', 'Consumer Complaint', 'Blocked Driveway',\n",
       "       'Food Establishment', 'Street Condition', 'Graffiti', 'Rodent',\n",
       "       'Noise - Helicopter', 'Homeless Person Assistance', 'Complaint',\n",
       "       'Street Light Condition', 'Noise - Vehicle',\n",
       "       'Overgrown Tree/Branches', 'Traffic Signal Condition',\n",
       "       'Found Property', 'Benefit Card Replacement', 'PLUMBING',\n",
       "       'HEAT/HOT WATER', 'UNSANITARY CONDITION', 'PAINT/PLASTER',\n",
       "       'WATER LEAK', 'FLOORING/STAIRS', 'Sewer', 'Water System', 'Noise',\n",
       "       'Request for Information', 'Dirty Conditions',\n",
       "       'DCA / DOH New License Application Request', 'Highway Condition',\n",
       "       'SCRIE', 'Missed Collection (All Materials)', 'Snow',\n",
       "       'Agency Issues', 'Non-Residential Heat', 'Vending',\n",
       "       'Derelict Vehicle', 'Other Enforcement', 'Litter Basket / Request',\n",
       "       'Derelict Vehicles', 'Air Quality', 'Taxi Complaint',\n",
       "       'Food Poisoning', 'DOF Literature Request', 'Street Sign - Damaged',\n",
       "       'DOT Literature Request', 'Construction',\n",
       "       'Root/Sewer/Sidewalk Condition', 'Indoor Air Quality',\n",
       "       'Sweeping/Missed', 'Broken Muni Meter', 'Damaged Tree', 'Mold',\n",
       "       'Ferry Inquiry', 'Homeless Encampment', 'Smoking',\n",
       "       'Sanitation Condition', 'Derelict Bicycle',\n",
       "       'Unsanitary Animal Pvt Property', 'Asbestos', 'School Maintenance',\n",
       "       'Water Quality', 'Street Sign - Dangling', 'Taxi Compliment',\n",
       "       'Indoor Sewage', 'Building/Use', 'Electrical', 'Drinking',\n",
       "       'Elevator', 'General Construction/Plumbing', 'Traffic',\n",
       "       'Maintenance or Facility', 'Dead Tree', 'Hazardous Materials',\n",
       "       'For Hire Vehicle Complaint', 'Fire Safety Director - F58',\n",
       "       'Special Projects Inspection Team (SPIT)', 'Invitation',\n",
       "       'Sidewalk Condition', 'Bus Stop Shelter Placement',\n",
       "       'EAP Inspection - F59', 'Public Payphone Complaint', 'Taxi Report',\n",
       "       'Broken Parking Meter', 'DOF Property - Reduction Issue',\n",
       "       'Vacant Lot', 'Sweeping/Inadequate', 'Water Conservation',\n",
       "       'Industrial Waste', 'Recycling Enforcement', 'Curb Condition',\n",
       "       'DCA Literature Request', 'DOF Parking - Tax Exemption',\n",
       "       'DPR Internal', 'Illegal Tree Damage', 'Plumbing',\n",
       "       'Unsanitary Pigeon Condition', 'DPR Literature Request',\n",
       "       'Illegal Animal Kept as Pet', 'Animal in a Park',\n",
       "       'Violation of Park Rules', 'Unleashed Dog', 'Lead', 'Boilers',\n",
       "       'Special Enforcement', 'BEST/Site Safety', 'Urinating in Public',\n",
       "       'Beach/Pool/Sauna Complaint', 'Fire Alarm - Reinspection',\n",
       "       'Unsanitary Animal Facility', 'Window Guard',\n",
       "       'DHS Income Savings Requirement', 'For Hire Vehicle Report',\n",
       "       'ELECTRIC', 'DOOR/WINDOW', 'SAFETY', 'OUTSIDE BUILDING', 'GENERAL',\n",
       "       'APPLIANCE', 'ELEVATOR', 'Noise - House of Worship',\n",
       "       'Overflowing Litter Baskets', 'Bike Rack Condition', 'Panhandling',\n",
       "       'Tanning', 'Collection Truck Noise', 'Bike/Roller/Skate Chronic',\n",
       "       'Bridge Condition', 'Overflowing Recycling Baskets', 'Noise - Park',\n",
       "       'Open Flame Permit', 'Emergency Response Team (ERT)',\n",
       "       'Disorderly Youth', 'DEP Literature Request',\n",
       "       'Senior Center Complaint', 'Investigations and Discipline (IAD)',\n",
       "       'Illegal Fireworks', 'Illegal Animal Sold',\n",
       "       'Special Natural Area District (SNAD)', 'Cranes and Derricks',\n",
       "       'Ferry Complaint', 'Lifeguard', 'Municipal Parking Facility',\n",
       "       'Parking Card', 'Highway Sign - Damaged', 'Literature Request',\n",
       "       'Scaffold Safety', 'Fire Alarm - Addition',\n",
       "       'Fire Alarm - Modification', 'Rangehood',\n",
       "       'Legal Services Provider Complaint', 'Sprinkler - Mechanical',\n",
       "       'Plant', 'X-Ray Machine/Equipment', 'Misc. Comments',\n",
       "       'Posting Advertisement', 'Adopt-A-Basket', 'OEM Literature Request',\n",
       "       'Ferry Permit', 'Tattooing', 'Drinking Water', 'Compliment',\n",
       "       'City Vehicle Placard Complaint', 'Fire Alarm - New System',\n",
       "       'Miscellaneous Categories', 'Highway Sign - Missing',\n",
       "       'Internal Code', 'Transportation Provider Complaint', 'Squeegee',\n",
       "       'Stalled Sites', 'Standpipe - Mechanical', 'Public Assembly',\n",
       "       'SG-98'], dtype=object)"
      ]
     },
     "execution_count": 34,
     "metadata": {},
     "output_type": "execute_result"
    }
   ],
   "source": [
    "orig_data['Complaint Type'].unique()  # Get all types of complaints"
   ]
  },
  {
   "cell_type": "markdown",
   "metadata": {
    "slideshow": {
     "slide_type": "slide"
    }
   },
   "source": [
    "How do we find the noisiest streets?"
   ]
  },
  {
   "cell_type": "markdown",
   "metadata": {
    "slideshow": {
     "slide_type": "fragment"
    }
   },
   "source": [
    "1. Create a function that checks if the complaint type contains 'Noise'\n",
    "    * How?\n",
    "2. Select all noise-related complaints\n",
    "    * Build a mask using the function of Step 1\n",
    "3. Pick the streets that occur most frequently\n",
    "    * value_counts()"
   ]
  },
  {
   "cell_type": "markdown",
   "metadata": {
    "slideshow": {
     "slide_type": "slide"
    }
   },
   "source": [
    "**Step 1:** Create a function that checks if the complaint type contains 'Noise'."
   ]
  },
  {
   "cell_type": "code",
   "execution_count": 35,
   "metadata": {
    "collapsed": false
   },
   "outputs": [
    {
     "name": "stdout",
     "output_type": "stream",
     "text": [
      "True\n",
      "False\n"
     ]
    }
   ],
   "source": [
    "# Side note: Pandas actually has functions to do regular expressions easily,\n",
    "#           but we won't get into that here.\n",
    "import re\n",
    "def noisy(s):\n",
    "    \"\"\"Given a Complaint Type string, return True if it is\n",
    "       a noise-related complaint.\"\"\"\n",
    "    return (len(re.findall('Noise', s)) > 0)\n",
    "\n",
    "# Test\n",
    "print noisy('Noise - Commercial')\n",
    "print noisy('ELEVATOR')"
   ]
  },
  {
   "cell_type": "markdown",
   "metadata": {
    "slideshow": {
     "slide_type": "fragment"
    }
   },
   "source": [
    "**Step 2:** Build a mask using this function."
   ]
  },
  {
   "cell_type": "code",
   "execution_count": 36,
   "metadata": {
    "collapsed": false,
    "slideshow": {
     "slide_type": "fragment"
    }
   },
   "outputs": [],
   "source": [
    "noise_mask = orig_data['Complaint Type'].map(noisy)"
   ]
  },
  {
   "cell_type": "markdown",
   "metadata": {
    "slideshow": {
     "slide_type": "slide"
    }
   },
   "source": [
    "We have the mask that is True if the Complaint is noise-related; now we select those rows."
   ]
  },
  {
   "cell_type": "code",
   "execution_count": 37,
   "metadata": {
    "collapsed": false,
    "slideshow": {
     "slide_type": "fragment"
    }
   },
   "outputs": [
    {
     "data": {
      "text/html": [
       "<div>\n",
       "<table border=\"1\" class=\"dataframe\">\n",
       "  <thead>\n",
       "    <tr style=\"text-align: right;\">\n",
       "      <th></th>\n",
       "      <th>Unique Key</th>\n",
       "      <th>Created Date</th>\n",
       "      <th>Closed Date</th>\n",
       "      <th>Agency</th>\n",
       "      <th>Agency Name</th>\n",
       "      <th>Complaint Type</th>\n",
       "      <th>Descriptor</th>\n",
       "      <th>Location Type</th>\n",
       "      <th>Incident Zip</th>\n",
       "      <th>Incident Address</th>\n",
       "      <th>...</th>\n",
       "      <th>Bridge Highway Name</th>\n",
       "      <th>Bridge Highway Direction</th>\n",
       "      <th>Road Ramp</th>\n",
       "      <th>Bridge Highway Segment</th>\n",
       "      <th>Garage Lot Name</th>\n",
       "      <th>Ferry Direction</th>\n",
       "      <th>Ferry Terminal Name</th>\n",
       "      <th>Latitude</th>\n",
       "      <th>Longitude</th>\n",
       "      <th>Location</th>\n",
       "    </tr>\n",
       "  </thead>\n",
       "  <tbody>\n",
       "    <tr>\n",
       "      <th>1</th>\n",
       "      <td>29636054</td>\n",
       "      <td>2015-01-06 02:09:30</td>\n",
       "      <td>NaN</td>\n",
       "      <td>NYPD</td>\n",
       "      <td>New York City Police Department</td>\n",
       "      <td>Noise - Commercial</td>\n",
       "      <td>Loud Music/Party</td>\n",
       "      <td>Club/Bar/Restaurant</td>\n",
       "      <td>11372</td>\n",
       "      <td>70-06 ROOSEVELT AVENUE</td>\n",
       "      <td>...</td>\n",
       "      <td>NaN</td>\n",
       "      <td>NaN</td>\n",
       "      <td>NaN</td>\n",
       "      <td>NaN</td>\n",
       "      <td>NaN</td>\n",
       "      <td>NaN</td>\n",
       "      <td>NaN</td>\n",
       "      <td>40.74642854264474</td>\n",
       "      <td>-73.89533997952648</td>\n",
       "      <td>(40.74642854264474, -73.89533997952648)</td>\n",
       "    </tr>\n",
       "    <tr>\n",
       "      <th>4</th>\n",
       "      <td>29641040</td>\n",
       "      <td>2015-01-06 02:03:11</td>\n",
       "      <td>01/06/2015 02:36:38 AM</td>\n",
       "      <td>NYPD</td>\n",
       "      <td>New York City Police Department</td>\n",
       "      <td>Noise - Street/Sidewalk</td>\n",
       "      <td>Loud Talking</td>\n",
       "      <td>Street/Sidewalk</td>\n",
       "      <td>10022</td>\n",
       "      <td>238 EAST 58 STREET</td>\n",
       "      <td>...</td>\n",
       "      <td>NaN</td>\n",
       "      <td>NaN</td>\n",
       "      <td>NaN</td>\n",
       "      <td>NaN</td>\n",
       "      <td>NaN</td>\n",
       "      <td>NaN</td>\n",
       "      <td>NaN</td>\n",
       "      <td>40.76049674396275</td>\n",
       "      <td>-73.96604690111288</td>\n",
       "      <td>(40.76049674396275, -73.96604690111288)</td>\n",
       "    </tr>\n",
       "    <tr>\n",
       "      <th>20</th>\n",
       "      <td>29639511</td>\n",
       "      <td>2015-01-06 01:32:51</td>\n",
       "      <td>NaN</td>\n",
       "      <td>NYPD</td>\n",
       "      <td>New York City Police Department</td>\n",
       "      <td>Noise - Commercial</td>\n",
       "      <td>Loud Music/Party</td>\n",
       "      <td>Club/Bar/Restaurant</td>\n",
       "      <td>11372</td>\n",
       "      <td>70-06 ROOSEVELT AVENUE</td>\n",
       "      <td>...</td>\n",
       "      <td>NaN</td>\n",
       "      <td>NaN</td>\n",
       "      <td>NaN</td>\n",
       "      <td>NaN</td>\n",
       "      <td>NaN</td>\n",
       "      <td>NaN</td>\n",
       "      <td>NaN</td>\n",
       "      <td>40.74642854264474</td>\n",
       "      <td>-73.89533997952648</td>\n",
       "      <td>(40.74642854264474, -73.89533997952648)</td>\n",
       "    </tr>\n",
       "    <tr>\n",
       "      <th>24</th>\n",
       "      <td>29641827</td>\n",
       "      <td>2015-01-06 01:27:24</td>\n",
       "      <td>NaN</td>\n",
       "      <td>EDC</td>\n",
       "      <td>Economic Development Corporation</td>\n",
       "      <td>Noise - Helicopter</td>\n",
       "      <td>Other</td>\n",
       "      <td>Above Address</td>\n",
       "      <td>10040</td>\n",
       "      <td>89 THAYER STREET</td>\n",
       "      <td>...</td>\n",
       "      <td>NaN</td>\n",
       "      <td>NaN</td>\n",
       "      <td>NaN</td>\n",
       "      <td>NaN</td>\n",
       "      <td>NaN</td>\n",
       "      <td>NaN</td>\n",
       "      <td>NaN</td>\n",
       "      <td>40.864212983761796</td>\n",
       "      <td>-73.92753738525039</td>\n",
       "      <td>(40.864212983761796, -73.92753738525039)</td>\n",
       "    </tr>\n",
       "    <tr>\n",
       "      <th>27</th>\n",
       "      <td>29638620</td>\n",
       "      <td>2015-01-06 01:24:16</td>\n",
       "      <td>01/06/2015 02:19:00 AM</td>\n",
       "      <td>NYPD</td>\n",
       "      <td>New York City Police Department</td>\n",
       "      <td>Noise - Commercial</td>\n",
       "      <td>Loud Music/Party</td>\n",
       "      <td>Club/Bar/Restaurant</td>\n",
       "      <td>10011</td>\n",
       "      <td>355 WEST 16 STREET</td>\n",
       "      <td>...</td>\n",
       "      <td>NaN</td>\n",
       "      <td>NaN</td>\n",
       "      <td>NaN</td>\n",
       "      <td>NaN</td>\n",
       "      <td>NaN</td>\n",
       "      <td>NaN</td>\n",
       "      <td>NaN</td>\n",
       "      <td>40.74173312459783</td>\n",
       "      <td>-74.00308183921501</td>\n",
       "      <td>(40.74173312459783, -74.00308183921501)</td>\n",
       "    </tr>\n",
       "  </tbody>\n",
       "</table>\n",
       "<p>5 rows × 52 columns</p>\n",
       "</div>"
      ],
      "text/plain": [
       "   Unique Key        Created Date             Closed Date Agency  \\\n",
       "1    29636054 2015-01-06 02:09:30                     NaN   NYPD   \n",
       "4    29641040 2015-01-06 02:03:11  01/06/2015 02:36:38 AM   NYPD   \n",
       "20   29639511 2015-01-06 01:32:51                     NaN   NYPD   \n",
       "24   29641827 2015-01-06 01:27:24                     NaN    EDC   \n",
       "27   29638620 2015-01-06 01:24:16  01/06/2015 02:19:00 AM   NYPD   \n",
       "\n",
       "                         Agency Name           Complaint Type  \\\n",
       "1    New York City Police Department       Noise - Commercial   \n",
       "4    New York City Police Department  Noise - Street/Sidewalk   \n",
       "20   New York City Police Department       Noise - Commercial   \n",
       "24  Economic Development Corporation       Noise - Helicopter   \n",
       "27   New York City Police Department       Noise - Commercial   \n",
       "\n",
       "          Descriptor        Location Type Incident Zip  \\\n",
       "1   Loud Music/Party  Club/Bar/Restaurant        11372   \n",
       "4       Loud Talking      Street/Sidewalk        10022   \n",
       "20  Loud Music/Party  Club/Bar/Restaurant        11372   \n",
       "24             Other        Above Address        10040   \n",
       "27  Loud Music/Party  Club/Bar/Restaurant        10011   \n",
       "\n",
       "          Incident Address                    ...                     \\\n",
       "1   70-06 ROOSEVELT AVENUE                    ...                      \n",
       "4       238 EAST 58 STREET                    ...                      \n",
       "20  70-06 ROOSEVELT AVENUE                    ...                      \n",
       "24        89 THAYER STREET                    ...                      \n",
       "27      355 WEST 16 STREET                    ...                      \n",
       "\n",
       "   Bridge Highway Name Bridge Highway Direction Road Ramp  \\\n",
       "1                  NaN                      NaN       NaN   \n",
       "4                  NaN                      NaN       NaN   \n",
       "20                 NaN                      NaN       NaN   \n",
       "24                 NaN                      NaN       NaN   \n",
       "27                 NaN                      NaN       NaN   \n",
       "\n",
       "   Bridge Highway Segment Garage Lot Name Ferry Direction Ferry Terminal Name  \\\n",
       "1                     NaN             NaN             NaN                 NaN   \n",
       "4                     NaN             NaN             NaN                 NaN   \n",
       "20                    NaN             NaN             NaN                 NaN   \n",
       "24                    NaN             NaN             NaN                 NaN   \n",
       "27                    NaN             NaN             NaN                 NaN   \n",
       "\n",
       "              Latitude           Longitude  \\\n",
       "1    40.74642854264474  -73.89533997952648   \n",
       "4    40.76049674396275  -73.96604690111288   \n",
       "20   40.74642854264474  -73.89533997952648   \n",
       "24  40.864212983761796  -73.92753738525039   \n",
       "27   40.74173312459783  -74.00308183921501   \n",
       "\n",
       "                                    Location  \n",
       "1    (40.74642854264474, -73.89533997952648)  \n",
       "4    (40.76049674396275, -73.96604690111288)  \n",
       "20   (40.74642854264474, -73.89533997952648)  \n",
       "24  (40.864212983761796, -73.92753738525039)  \n",
       "27   (40.74173312459783, -74.00308183921501)  \n",
       "\n",
       "[5 rows x 52 columns]"
      ]
     },
     "execution_count": 37,
     "metadata": {},
     "output_type": "execute_result"
    }
   ],
   "source": [
    "noise_complaints = orig_data[noise_mask]\n",
    "noise_complaints[:5]"
   ]
  },
  {
   "cell_type": "markdown",
   "metadata": {
    "slideshow": {
     "slide_type": "slide"
    }
   },
   "source": [
    "**Step 3:** Pick the streets that occur most frequently."
   ]
  },
  {
   "cell_type": "code",
   "execution_count": 38,
   "metadata": {
    "collapsed": false
   },
   "outputs": [
    {
     "data": {
      "text/plain": [
       "<matplotlib.axes._subplots.AxesSubplot at 0x112ce198>"
      ]
     },
     "execution_count": 38,
     "metadata": {},
     "output_type": "execute_result"
    },
    {
     "data": {
      "image/png": "[encoded data removed]",
      "text/plain": [
       "<matplotlib.figure.Figure at 0xf5bfb70>"
      ]
     },
     "metadata": {},
     "output_type": "display_data"
    }
   ],
   "source": [
    "# Which streets have the most noise complaints?\n",
    "noise_vc = noise_complaints['Street Name'].value_counts()\n",
    "noise_vc[:20].plot(kind='bar')"
   ]
  },
  {
   "cell_type": "markdown",
   "metadata": {
    "slideshow": {
     "slide_type": "fragment"
    }
   },
   "source": [
    "Sweet."
   ]
  },
  {
   "cell_type": "markdown",
   "metadata": {
    "slideshow": {
     "slide_type": "fragment"
    }
   },
   "source": [
    "No problems, right?"
   ]
  },
  {
   "cell_type": "markdown",
   "metadata": {
    "slideshow": {
     "slide_type": "slide"
    }
   },
   "source": [
    "**Are we sure there's only one \"3 AVENUE\"?**"
   ]
  },
  {
   "cell_type": "code",
   "execution_count": 39,
   "metadata": {
    "collapsed": false,
    "slideshow": {
     "slide_type": "slide"
    }
   },
   "outputs": [
    {
     "data": {
      "text/plain": [
       "MANHATTAN    358\n",
       "BROOKLYN      16\n",
       "BRONX          1\n",
       "Name: Borough, dtype: int64"
      ]
     },
     "execution_count": 39,
     "metadata": {},
     "output_type": "execute_result"
    }
   ],
   "source": [
    "noise_complaints[noise_complaints['Street Name'] == '3 AVENUE']['Borough'].value_counts()"
   ]
  },
  {
   "cell_type": "markdown",
   "metadata": {},
   "source": [
    "There is a \"3 AVENUE\" in Manhattan, Brooklyn, and the Bronx. To find the noisy streets, we need to differentiate between these.\n",
    "\n",
    "What do we do?"
   ]
  },
  {
   "cell_type": "markdown",
   "metadata": {
    "slideshow": {
     "slide_type": "fragment"
    }
   },
   "source": [
    "1. Create a new column 'Street & Borough', which will look like '3AVENUE (MANHATTAN)'\n",
    "2. We will do value_counts() on this 'Street & Borough' column."
   ]
  },
  {
   "cell_type": "code",
   "execution_count": 40,
   "metadata": {
    "collapsed": false,
    "slideshow": {
     "slide_type": "slide"
    }
   },
   "outputs": [
    {
     "data": {
      "text/plain": [
       "1      ROOSEVELT AVENUE (QUEENS)\n",
       "4     EAST 58 STREET (MANHATTAN)\n",
       "20     ROOSEVELT AVENUE (QUEENS)\n",
       "24     THAYER STREET (MANHATTAN)\n",
       "27    WEST 16 STREET (MANHATTAN)\n",
       "Name: Street & Borough, dtype: object"
      ]
     },
     "execution_count": 40,
     "metadata": {},
     "output_type": "execute_result"
    }
   ],
   "source": [
    "# Step 1: Create the new column\n",
    "noise_complaints_copy = noise_complaints.copy()\n",
    "noise_complaints_copy['Street & Borough'] = noise_complaints['Street Name'] + \\\n",
    "                                            ' (' + noise_complaints['Borough'] + ')'\n",
    "noise_complaints_copy['Street & Borough'][:5]"
   ]
  },
  {
   "cell_type": "code",
   "execution_count": 41,
   "metadata": {
    "collapsed": false,
    "slideshow": {
     "slide_type": "slide"
    }
   },
   "outputs": [
    {
     "data": {
      "text/plain": [
       "<matplotlib.axes._subplots.AxesSubplot at 0x103b86d8>"
      ]
     },
     "execution_count": 41,
     "metadata": {},
     "output_type": "execute_result"
    },
    {
     "data": {
      "image/png": "[encoded data removed]",
      "text/plain": [
       "<matplotlib.figure.Figure at 0x10d17518>"
      ]
     },
     "metadata": {},
     "output_type": "display_data"
    }
   ],
   "source": [
    "# Now we can do value_counts\n",
    "noise_complaints_copy['Street & Borough'].value_counts()[:20].plot(kind='bar')"
   ]
  },
  {
   "cell_type": "markdown",
   "metadata": {
    "slideshow": {
     "slide_type": "fragment"
    }
   },
   "source": [
    "**Avoid noisy Manhattan streets!**"
   ]
  },
  {
   "cell_type": "markdown",
   "metadata": {
    "slideshow": {
     "slide_type": "slide"
    }
   },
   "source": [
    "## Summary\n",
    "\n",
    "We saw several common use cases:\n",
    "\n",
    "* Find the most common or most uncommon items in a Series\n",
    "    * _value\\_counts()_\n",
    "* Deal with missing data\n",
    "    * _dropna()_\n",
    "    * or just create masks with _isnull()_ and _notnull()_\n",
    "* Deal with duplicates\n",
    "    * _drop\\_duplicates()_\n",
    "* Operate on rows rather than columns\n",
    "    * _DataFrame.T_  \n",
    "    * (stands for _transpose_)\n",
    "* Plotting\n",
    "    * _plot(kind=\"bar\")_"
   ]
  }
 ],
 "metadata": {
  "celltoolbar": "Slideshow",
  "kernelspec": {
   "display_name": "Python 2",
   "language": "python",
   "name": "python2"
  },
  "language_info": {
   "codemirror_mode": {
    "name": "ipython",
    "version": 2
   },
   "file_extension": ".py",
   "mimetype": "text/x-python",
   "name": "python",
   "nbconvert_exporter": "python",
   "pygments_lexer": "ipython2",
   "version": "2.7.11"
  }
 },
 "nbformat": 4,
 "nbformat_minor": 0
}

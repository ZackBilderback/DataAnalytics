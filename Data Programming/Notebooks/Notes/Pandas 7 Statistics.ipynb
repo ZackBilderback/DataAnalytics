{
 "cells": [
  {
   "cell_type": "markdown",
   "metadata": {
    "slideshow": {
     "slide_type": "slide"
    }
   },
   "source": [
    "# Pandas 7 (Statistics)"
   ]
  },
  {
   "cell_type": "markdown",
   "metadata": {
    "slideshow": {
     "slide_type": "slide"
    }
   },
   "source": [
    "In this lecture, we will discuss computing summary statistics about the data, going beyond the means and counts that we have mostly used so far.\n",
    "\n",
    "* means and variances\n",
    "* median and quantiles\n",
    "* the describe() method\n",
    "* group-wise statistics\n",
    "* correlation and covariance"
   ]
  },
  {
   "cell_type": "markdown",
   "metadata": {
    "slideshow": {
     "slide_type": "fragment"
    }
   },
   "source": [
    "We will work with two different datasets\n",
    "\n",
    "* The first is the [populations of states](https://www.census.gov/popest/data/datasets.html).\n",
    "* The second is the [heights of parents and children](http://vincentarelbundock.github.io/Rdatasets/csv/HistData/Galton.csv)\n"
   ]
  },
  {
   "cell_type": "markdown",
   "metadata": {
    "slideshow": {
     "slide_type": "slide"
    }
   },
   "source": [
    "### State populations from the census"
   ]
  },
  {
   "cell_type": "code",
   "execution_count": 1,
   "metadata": {
    "collapsed": false,
    "slideshow": {
     "slide_type": "-"
    }
   },
   "outputs": [
    {
     "name": "stdout",
     "output_type": "stream",
     "text": [
      "Populating the interactive namespace from numpy and matplotlib\n"
     ]
    }
   ],
   "source": [
    "from pandas import Series, DataFrame\n",
    "import pandas as pd\n",
    "%pylab inline"
   ]
  },
  {
   "cell_type": "code",
   "execution_count": 2,
   "metadata": {
    "collapsed": false,
    "slideshow": {
     "slide_type": "fragment"
    }
   },
   "outputs": [
    {
     "data": {
      "text/html": [
       "<div>\n",
       "<table border=\"1\" class=\"dataframe\">\n",
       "  <thead>\n",
       "    <tr style=\"text-align: right;\">\n",
       "      <th></th>\n",
       "      <th>SUMLEV</th>\n",
       "      <th>REGION</th>\n",
       "      <th>DIVISION</th>\n",
       "      <th>STATE</th>\n",
       "      <th>NAME</th>\n",
       "      <th>POPESTIMATE2014</th>\n",
       "      <th>POPEST18PLUS2014</th>\n",
       "      <th>PCNT_POPEST18PLUS</th>\n",
       "    </tr>\n",
       "  </thead>\n",
       "  <tbody>\n",
       "    <tr>\n",
       "      <th>0</th>\n",
       "      <td>10</td>\n",
       "      <td>0</td>\n",
       "      <td>0</td>\n",
       "      <td>0</td>\n",
       "      <td>United States</td>\n",
       "      <td>318857056</td>\n",
       "      <td>245273438</td>\n",
       "      <td>76.9</td>\n",
       "    </tr>\n",
       "    <tr>\n",
       "      <th>1</th>\n",
       "      <td>40</td>\n",
       "      <td>3</td>\n",
       "      <td>6</td>\n",
       "      <td>1</td>\n",
       "      <td>Alabama</td>\n",
       "      <td>4849377</td>\n",
       "      <td>3741806</td>\n",
       "      <td>77.2</td>\n",
       "    </tr>\n",
       "    <tr>\n",
       "      <th>2</th>\n",
       "      <td>40</td>\n",
       "      <td>4</td>\n",
       "      <td>9</td>\n",
       "      <td>2</td>\n",
       "      <td>Alaska</td>\n",
       "      <td>736732</td>\n",
       "      <td>550189</td>\n",
       "      <td>74.7</td>\n",
       "    </tr>\n",
       "    <tr>\n",
       "      <th>3</th>\n",
       "      <td>40</td>\n",
       "      <td>4</td>\n",
       "      <td>8</td>\n",
       "      <td>4</td>\n",
       "      <td>Arizona</td>\n",
       "      <td>6731484</td>\n",
       "      <td>5109792</td>\n",
       "      <td>75.9</td>\n",
       "    </tr>\n",
       "    <tr>\n",
       "      <th>4</th>\n",
       "      <td>40</td>\n",
       "      <td>3</td>\n",
       "      <td>7</td>\n",
       "      <td>5</td>\n",
       "      <td>Arkansas</td>\n",
       "      <td>2966369</td>\n",
       "      <td>2259350</td>\n",
       "      <td>76.2</td>\n",
       "    </tr>\n",
       "  </tbody>\n",
       "</table>\n",
       "</div>"
      ],
      "text/plain": [
       "   SUMLEV REGION DIVISION  STATE           NAME  POPESTIMATE2014  \\\n",
       "0      10      0        0      0  United States        318857056   \n",
       "1      40      3        6      1        Alabama          4849377   \n",
       "2      40      4        9      2         Alaska           736732   \n",
       "3      40      4        8      4        Arizona          6731484   \n",
       "4      40      3        7      5       Arkansas          2966369   \n",
       "\n",
       "   POPEST18PLUS2014  PCNT_POPEST18PLUS  \n",
       "0         245273438               76.9  \n",
       "1           3741806               77.2  \n",
       "2            550189               74.7  \n",
       "3           5109792               75.9  \n",
       "4           2259350               76.2  "
      ]
     },
     "execution_count": 2,
     "metadata": {},
     "output_type": "execute_result"
    }
   ],
   "source": [
    "census = pd.read_csv('Pandas_7_data/census_population.csv')\n",
    "census[:5]"
   ]
  },
  {
   "cell_type": "code",
   "execution_count": 3,
   "metadata": {
    "collapsed": false,
    "slideshow": {
     "slide_type": "fragment"
    }
   },
   "outputs": [
    {
     "data": {
      "text/plain": [
       "NAME\n",
       "Alabama        4849377\n",
       "Alaska          736732\n",
       "Arizona        6731484\n",
       "Arkansas       2966369\n",
       "California    38802500\n",
       "Name: POPESTIMATE2014, dtype: int64"
      ]
     },
     "execution_count": 3,
     "metadata": {},
     "output_type": "execute_result"
    }
   ],
   "source": [
    "census = census.ix[1:]  # Remove the United States from the data\n",
    "state_census = census.set_index('NAME')\n",
    "state_pop = state_census['POPESTIMATE2014']\n",
    "state_pop[:5]"
   ]
  },
  {
   "cell_type": "markdown",
   "metadata": {
    "slideshow": {
     "slide_type": "slide"
    }
   },
   "source": [
    "### Heights of parents and children"
   ]
  },
  {
   "cell_type": "code",
   "execution_count": 4,
   "metadata": {
    "collapsed": false
   },
   "outputs": [
    {
     "data": {
      "text/html": [
       "<div>\n",
       "<table border=\"1\" class=\"dataframe\">\n",
       "  <thead>\n",
       "    <tr style=\"text-align: right;\">\n",
       "      <th></th>\n",
       "      <th>parent</th>\n",
       "      <th>child</th>\n",
       "    </tr>\n",
       "  </thead>\n",
       "  <tbody>\n",
       "    <tr>\n",
       "      <th>1</th>\n",
       "      <td>70.5</td>\n",
       "      <td>61.7</td>\n",
       "    </tr>\n",
       "    <tr>\n",
       "      <th>2</th>\n",
       "      <td>68.5</td>\n",
       "      <td>61.7</td>\n",
       "    </tr>\n",
       "    <tr>\n",
       "      <th>3</th>\n",
       "      <td>65.5</td>\n",
       "      <td>61.7</td>\n",
       "    </tr>\n",
       "    <tr>\n",
       "      <th>4</th>\n",
       "      <td>64.5</td>\n",
       "      <td>61.7</td>\n",
       "    </tr>\n",
       "    <tr>\n",
       "      <th>5</th>\n",
       "      <td>64.0</td>\n",
       "      <td>61.7</td>\n",
       "    </tr>\n",
       "  </tbody>\n",
       "</table>\n",
       "</div>"
      ],
      "text/plain": [
       "   parent  child\n",
       "1    70.5   61.7\n",
       "2    68.5   61.7\n",
       "3    65.5   61.7\n",
       "4    64.5   61.7\n",
       "5    64.0   61.7"
      ]
     },
     "execution_count": 4,
     "metadata": {},
     "output_type": "execute_result"
    }
   ],
   "source": [
    "heights = pd.read_csv('Pandas_7_data/Galton-Heights.csv', index_col=0)\n",
    "parents = heights['parent']\n",
    "heights[:5]"
   ]
  },
  {
   "cell_type": "markdown",
   "metadata": {
    "slideshow": {
     "slide_type": "slide"
    }
   },
   "source": [
    "## Mean and Standard Deviation\n",
    "\n",
    "Let's first just plot the histograms of state populations and parent heights."
   ]
  },
  {
   "cell_type": "code",
   "execution_count": 5,
   "metadata": {
    "collapsed": false
   },
   "outputs": [
    {
     "data": {
      "text/plain": [
       "<matplotlib.text.Text at 0x7d780f0>"
      ]
     },
     "execution_count": 5,
     "metadata": {},
     "output_type": "execute_result"
    },
    {
     "data": {
      "image/png": "[encoded data removed]",
      "text/plain": [
       "<matplotlib.figure.Figure at 0x7bd8da0>"
      ]
     },
     "metadata": {},
     "output_type": "display_data"
    }
   ],
   "source": [
    "fig, (ax1, ax2) = subplots(nrows=1,\n",
    "                           ncols=2,\n",
    "                           figsize=(8, 4))\n",
    "\n",
    "state_pop.hist(ax=ax1, bins=np.linspace(1e6, 40e6, 20))\n",
    "ax1.set_xlabel('Population')\n",
    "ax1.set_ylabel('Number of states')\n",
    "\n",
    "parents.hist(ax=ax2, bins=np.linspace(60, 75, 15))\n",
    "ax2.set_xlabel('Height of parent')\n",
    "ax2.set_ylabel('Number of parents')"
   ]
  },
  {
   "cell_type": "markdown",
   "metadata": {
    "slideshow": {
     "slide_type": "slide"
    }
   },
   "source": [
    "Let us first get the **means**."
   ]
  },
  {
   "cell_type": "code",
   "execution_count": 6,
   "metadata": {
    "collapsed": false
   },
   "outputs": [
    {
     "name": "stdout",
     "output_type": "stream",
     "text": [
      "The mean state population is 6200104.86538\n",
      "The mean parent height is 68.3081896552\n"
     ]
    }
   ],
   "source": [
    "print 'The mean state population is', state_pop.mean()\n",
    "print 'The mean parent height is', parents.mean()"
   ]
  },
  {
   "cell_type": "markdown",
   "metadata": {
    "slideshow": {
     "slide_type": "fragment"
    }
   },
   "source": [
    "<br />\n",
    "The mean population of all the states is 6.2M. But is this a _good_ representative for state populations?\n",
    "\n",
    "> The mean is a good representative if most states' populations are pretty close to the mean.\n",
    "\n",
    "Is that the case here? Is it the case for heights?\n",
    "\n",
    "One useful measure of the spread around the mean is the **standard deviation**, discussed next."
   ]
  },
  {
   "cell_type": "code",
   "execution_count": 7,
   "metadata": {
    "collapsed": false,
    "slideshow": {
     "slide_type": "fragment"
    }
   },
   "outputs": [
    {
     "name": "stdout",
     "output_type": "stream",
     "text": [
      "The standard deviation of state populations is 7063773.81684\n",
      "The standard deviation of parent heights is 1.78733340172\n"
     ]
    }
   ],
   "source": [
    "print 'The standard deviation of state populations is', state_pop.std()\n",
    "print 'The standard deviation of parent heights is', parents.std()"
   ]
  },
  {
   "cell_type": "markdown",
   "metadata": {
    "slideshow": {
     "slide_type": "slide"
    }
   },
   "source": [
    "### What does the standard deviation mean?\n",
    "\n",
    "The meaning of the standard deviation is best seen for heights. Heights seem to closely follow the **bell curve**, also called the Normal distribution or the Gaussian distribution, which is the workhorse for all of statistics."
   ]
  },
  {
   "cell_type": "code",
   "execution_count": 8,
   "metadata": {
    "collapsed": false,
    "slideshow": {
     "slide_type": "fragment"
    }
   },
   "outputs": [
    {
     "data": {
      "text/plain": [
       "[<matplotlib.lines.Line2D at 0x7bd8b38>]"
      ]
     },
     "execution_count": 8,
     "metadata": {},
     "output_type": "execute_result"
    },
    {
     "data": {
      "image/png": "[encoded data removed]",
      "text/plain": [
       "<matplotlib.figure.Figure at 0x7bd8b70>"
      ]
     },
     "metadata": {},
     "output_type": "display_data"
    }
   ],
   "source": [
    "# We plot the histogram of parent heights \n",
    "parents.hist(bins=np.linspace(60, 75, 15), normed=True)\n",
    "xlabel('Height of parent')\n",
    "\n",
    "# And a bell curve with exactly the same mean and standard deviation.\n",
    "x = np.linspace(60, 75, 100)\n",
    "plot(x, mlab.normpdf(x, parents.mean(), parents.std()))"
   ]
  },
  {
   "cell_type": "markdown",
   "metadata": {
    "slideshow": {
     "slide_type": "slide"
    }
   },
   "source": [
    "_For the bell curve,_ the standard deviation can be thought of this way (see wikipedia):\n",
    "\n",
    "![Bell curve](http://upload.wikimedia.org/wikipedia/commons/a/a9/Empirical_Rule.PNG)"
   ]
  },
  {
   "cell_type": "markdown",
   "metadata": {
    "slideshow": {
     "slide_type": "slide"
    }
   },
   "source": [
    "Let's see how well the parents data fits this pattern."
   ]
  },
  {
   "cell_type": "code",
   "execution_count": 9,
   "metadata": {
    "collapsed": false,
    "slideshow": {
     "slide_type": "fragment"
    }
   },
   "outputs": [
    {
     "name": "stdout",
     "output_type": "stream",
     "text": [
      "Fraction of parents heights within 1 standard deviation of the mean = 0.660560344828\n"
     ]
    }
   ],
   "source": [
    "mean = parents.mean()\n",
    "sd = parents.std()\n",
    "\n",
    "mask_1_standard_dev = ((parents >= mean - sd) & (parents <= mean + sd))\n",
    "\n",
    "print 'Fraction of parents heights within 1 standard deviation of the mean =',\n",
    "print len(parents[mask_1_standard_dev]) * 1.0 / len(parents)"
   ]
  },
  {
   "cell_type": "code",
   "execution_count": 10,
   "metadata": {
    "collapsed": false,
    "slideshow": {
     "slide_type": "fragment"
    }
   },
   "outputs": [
    {
     "name": "stdout",
     "output_type": "stream",
     "text": [
      "Fraction of parents heights within 2 standard deviation of the mean = 0.935344827586\n"
     ]
    }
   ],
   "source": [
    "# 2 standard deviations?\n",
    "mask_2_standard_dev = ((parents >= mean - 2 * sd) & (parents <= mean + 2 * sd))\n",
    "\n",
    "print 'Fraction of parents heights within 2 standard deviation of the mean =',\n",
    "print len(parents[mask_2_standard_dev]) * 1.0 / len(parents)"
   ]
  },
  {
   "cell_type": "markdown",
   "metadata": {
    "slideshow": {
     "slide_type": "fragment"
    }
   },
   "source": [
    "So, roughly 66% of heights fall within 1 standard deviation of the mean, and over 93% are within 2 standard deviations. We would be pretty surprised to find someone whose height is more than 3 standard deviations away.\n",
    "\n",
    "In that sense, **parent heights are concentrated within a band around the mean height.**\n",
    "\n",
    "<br />\n",
    "What happens in the case of state populations?"
   ]
  },
  {
   "cell_type": "code",
   "execution_count": 11,
   "metadata": {
    "collapsed": false,
    "slideshow": {
     "slide_type": "slide"
    }
   },
   "outputs": [
    {
     "data": {
      "text/plain": [
       "[<matplotlib.lines.Line2D at 0x833e6d8>]"
      ]
     },
     "execution_count": 11,
     "metadata": {},
     "output_type": "execute_result"
    },
    {
     "data": {
      "image/png": "[encoded data removed]",
      "text/plain": [
       "<matplotlib.figure.Figure at 0x833e550>"
      ]
     },
     "metadata": {},
     "output_type": "display_data"
    }
   ],
   "source": [
    "# Plot state populations\n",
    "state_pop.hist(bins=30, normed=True)\n",
    "xlabel('Population')\n",
    "\n",
    "# And a bell curve with exactly the same mean and standard deviation.\n",
    "mean = state_pop.mean()\n",
    "sd = state_pop.std()\n",
    "x = np.linspace(0, 4e7, 100)\n",
    "plot(x, mlab.normpdf(x, mean, sd))"
   ]
  },
  {
   "cell_type": "markdown",
   "metadata": {
    "slideshow": {
     "slide_type": "fragment"
    }
   },
   "source": [
    "This doesn't look like a good fit to a bell curve; the peak is not at the mean, and there are \"extreme\" data points that are very far from the mean. We can also see this in the data."
   ]
  },
  {
   "cell_type": "code",
   "execution_count": 12,
   "metadata": {
    "collapsed": false,
    "slideshow": {
     "slide_type": "slide"
    }
   },
   "outputs": [
    {
     "name": "stdout",
     "output_type": "stream",
     "text": [
      "Fraction of state populations within 1 standard deviation of the mean = 0.923076923077\n",
      "Fraction of state populations within 2 standard deviation of the mean = 0.961538461538\n"
     ]
    }
   ],
   "source": [
    "mask_1_standard_dev = ((state_pop >= mean - sd) & (state_pop <= mean + sd))\n",
    "mask_2_standard_dev = ((state_pop >= mean - 2 * sd) & (state_pop <= mean + 2 * sd))\n",
    "\n",
    "print 'Fraction of state populations within 1 standard deviation of the mean =',\n",
    "print len(state_pop[mask_1_standard_dev]) * 1.0 / len(state_pop)\n",
    "print 'Fraction of state populations within 2 standard deviation of the mean =',\n",
    "print len(state_pop[mask_2_standard_dev]) * 1.0 / len(state_pop)"
   ]
  },
  {
   "cell_type": "markdown",
   "metadata": {
    "slideshow": {
     "slide_type": "fragment"
    }
   },
   "source": [
    "The standard deviation is so large that over 92% of the state populations fall within 1 standard deviation of the mean. For a bell curve, we would expect only 68%."
   ]
  },
  {
   "cell_type": "code",
   "execution_count": 13,
   "metadata": {
    "collapsed": false,
    "slideshow": {
     "slide_type": "slide"
    }
   },
   "outputs": [
    {
     "data": {
      "text/plain": [
       "NAME\n",
       "California    38802500\n",
       "Texas         26956958\n",
       "Florida       19893297\n",
       "New York      19746227\n",
       "Illinois      12880580\n",
       "Name: POPESTIMATE2014, dtype: int64"
      ]
     },
     "execution_count": 13,
     "metadata": {},
     "output_type": "execute_result"
    }
   ],
   "source": [
    "most_populous_states = state_pop.sort_values(ascending=False)\n",
    "most_populous_states[:5]"
   ]
  },
  {
   "cell_type": "markdown",
   "metadata": {
    "slideshow": {
     "slide_type": "fragment"
    }
   },
   "source": [
    "How far away is California from the mean?"
   ]
  },
  {
   "cell_type": "code",
   "execution_count": 14,
   "metadata": {
    "collapsed": false,
    "slideshow": {
     "slide_type": "fragment"
    }
   },
   "outputs": [
    {
     "data": {
      "text/plain": [
       "4.6154358817193213"
      ]
     },
     "execution_count": 14,
     "metadata": {},
     "output_type": "execute_result"
    }
   ],
   "source": [
    "(most_populous_states[0] - mean ) / sd"
   ]
  },
  {
   "cell_type": "markdown",
   "metadata": {
    "slideshow": {
     "slide_type": "slide"
    }
   },
   "source": [
    "<br />\n",
    "To summarize this discussion:\n",
    "\n",
    "* The **standard deviation** is a measure of how spread-out the data is. Greater standard deviation means the data is spread over a broader range.\n",
    "* With the mean and the standard deviation in hand, we can check how well the data fits a **bell curve**.\n",
    "    * Deviations from the bell curve often signal a \"long tail\" in the data.\n",
    "    * At the very least, the data should be \"handled with care\"..."
   ]
  },
  {
   "cell_type": "markdown",
   "metadata": {
    "slideshow": {
     "slide_type": "slide"
    }
   },
   "source": [
    "## Median and Quantiles"
   ]
  },
  {
   "cell_type": "markdown",
   "metadata": {
    "slideshow": {
     "slide_type": "fragment"
    }
   },
   "source": [
    "In the NFL or NBA bargaining negotations between owners and players, one often hears comments like this:\n",
    "\n",
    "* Owners say: The mean salary of NBA players is huge, so we should not pay more.\n",
    "* Players say: 50% of the players make such a small salary, so clearly owners should share more revenue."
   ]
  },
  {
   "cell_type": "markdown",
   "metadata": {
    "slideshow": {
     "slide_type": "fragment"
    }
   },
   "source": [
    "They are both right. How?"
   ]
  },
  {
   "cell_type": "markdown",
   "metadata": {
    "slideshow": {
     "slide_type": "fragment"
    }
   },
   "source": [
    "It is similar to the state populations. We saw that the mean of the state populations was pulled to the right by just a handful of extremely populous states like California and Texas. Similarly, the mean NBA player salary gets pulled to the right by Lebron James."
   ]
  },
  {
   "cell_type": "markdown",
   "metadata": {
    "slideshow": {
     "slide_type": "slide"
    }
   },
   "source": [
    "The point at which the data gets split 50-50 to the left and right is called the **median**."
   ]
  },
  {
   "cell_type": "markdown",
   "metadata": {
    "slideshow": {
     "slide_type": "fragment"
    }
   },
   "source": [
    "* In a **bell curve**, the mean is exactly the median.\n",
    "* A glaring difference between mean and median is often an indication of _skew_ in the data."
   ]
  },
  {
   "cell_type": "code",
   "execution_count": 15,
   "metadata": {
    "collapsed": false,
    "slideshow": {
     "slide_type": "fragment"
    }
   },
   "outputs": [
    {
     "name": "stdout",
     "output_type": "stream",
     "text": [
      "Parent heights: mean = 68.3081896552 median = 68.5\n",
      "Relative difference = 0.00280801388232\n"
     ]
    }
   ],
   "source": [
    "# for parent heights\n",
    "print 'Parent heights: mean =', parents.mean(), 'median =', parents.median()\n",
    "print 'Relative difference =', abs(parents.mean() - parents.median()) / parents.mean()"
   ]
  },
  {
   "cell_type": "code",
   "execution_count": 16,
   "metadata": {
    "collapsed": false,
    "slideshow": {
     "slide_type": "fragment"
    }
   },
   "outputs": [
    {
     "name": "stdout",
     "output_type": "stream",
     "text": [
      "State populations: mean = 6200104.86538 median = 4191848.0\n",
      "Relative difference = 0.323906919155\n"
     ]
    }
   ],
   "source": [
    "# for state populations\n",
    "print 'State populations: mean =', state_pop.mean(), 'median =', state_pop.median()\n",
    "print 'Relative difference =', abs(state_pop.mean() - state_pop.median()) / state_pop.mean()"
   ]
  },
  {
   "cell_type": "markdown",
   "metadata": {
    "slideshow": {
     "slide_type": "slide"
    }
   },
   "source": [
    "Let's plot the mean and median alongside the histogram"
   ]
  },
  {
   "cell_type": "code",
   "execution_count": 17,
   "metadata": {
    "collapsed": false
   },
   "outputs": [
    {
     "data": {
      "text/plain": [
       "<matplotlib.legend.Legend at 0x8d96c18>"
      ]
     },
     "execution_count": 17,
     "metadata": {},
     "output_type": "execute_result"
    },
    {
     "data": {
      "image/png": "[encoded data removed]",
      "text/plain": [
       "<matplotlib.figure.Figure at 0x833e710>"
      ]
     },
     "metadata": {},
     "output_type": "display_data"
    }
   ],
   "source": [
    "mean = state_pop.mean()\n",
    "median = state_pop.median()\n",
    "\n",
    "state_pop.hist(bins=10)                                                     # Histogram\n",
    "plot([mean, mean], [0, 30], color='red', linewidth=5, label='Mean')         # Mean\n",
    "plot([median, median], [0, 30], color='green', linewidth=5, label='Median') # Median\n",
    "legend(loc='best')"
   ]
  },
  {
   "cell_type": "markdown",
   "metadata": {
    "slideshow": {
     "slide_type": "fragment"
    }
   },
   "source": [
    "For state populations, the median is almost 33% smaller than the mean. Why?"
   ]
  },
  {
   "cell_type": "markdown",
   "metadata": {
    "slideshow": {
     "slide_type": "slide"
    }
   },
   "source": [
    "The four or five most populous states \n",
    "\n",
    "* have an outsized influence on the mean population,\n",
    "* but they only count as a few states for the median."
   ]
  },
  {
   "cell_type": "markdown",
   "metadata": {
    "slideshow": {
     "slide_type": "fragment"
    }
   },
   "source": [
    "Put another way,\n",
    "\n",
    "* only the _number_ of outliers affects the median, while \n",
    "* the mean is affected by both the _number_ of outliers and their _values_.\n",
    "\n",
    "That is why the median is **robust** against outliers."
   ]
  },
  {
   "cell_type": "markdown",
   "metadata": {
    "slideshow": {
     "slide_type": "slide"
    }
   },
   "source": [
    "### Quantiles\n",
    "\n",
    "Just like the median splits the data 50-50, we can find the 25-75 or the 75-25 splits. Such splits are called quantiles."
   ]
  },
  {
   "cell_type": "code",
   "execution_count": 18,
   "metadata": {
    "collapsed": false,
    "slideshow": {
     "slide_type": "fragment"
    }
   },
   "outputs": [
    {
     "name": "stdout",
     "output_type": "stream",
     "text": [
      "25-percentile = 1796360.5\n",
      "Median = 50-percentile = 4191848.0\n",
      "75-percentile population = 6824438.5\n",
      "90-percentile = 12667904.4\n"
     ]
    }
   ],
   "source": [
    "print '25-percentile =', state_pop.quantile(0.25)\n",
    "print 'Median = 50-percentile =', state_pop.quantile(0.5)\n",
    "print '75-percentile population =', state_pop.quantile(0.75)\n",
    "print '90-percentile =', state_pop.quantile(0.9)"
   ]
  },
  {
   "cell_type": "markdown",
   "metadata": {
    "slideshow": {
     "slide_type": "slide"
    }
   },
   "source": [
    "Let's say we want to get the 10%, 20%, ..., 90% quantiles. Instead of doing it by hand, Pandas provides the _qcut()_ function."
   ]
  },
  {
   "cell_type": "code",
   "execution_count": 19,
   "metadata": {
    "collapsed": false,
    "slideshow": {
     "slide_type": "fragment"
    }
   },
   "outputs": [
    {
     "data": {
      "text/plain": [
       "NAME\n",
       "Alabama         (4191848, 5416650.2]\n",
       "Alaska            [584153, 861418.9]\n",
       "Arizona       (6582604.1, 8815797.8]\n",
       "Arkansas      (2311630.1, 3039297.8]\n",
       "California    (12667904.4, 38802500]\n",
       "Name: POPESTIMATE2014, dtype: category\n",
       "Categories (10, object): [[584153, 861418.9] < (861418.9, 1347983.4] < (1347983.4, 2311630.1] < (2311630.1, 3039297.8] ... (5416650.2, 6582604.1] < (6582604.1, 8815797.8] < (8815797.8, 12667904.4] < (12667904.4, 38802500]]"
      ]
     },
     "execution_count": 19,
     "metadata": {},
     "output_type": "execute_result"
    }
   ],
   "source": [
    "# We tell the qcut() function the Series and the number of quantiles.\n",
    "out = pd.qcut(state_pop, 10)\n",
    "out[:5]"
   ]
  },
  {
   "cell_type": "code",
   "execution_count": 20,
   "metadata": {
    "collapsed": false,
    "slideshow": {
     "slide_type": "fragment"
    }
   },
   "outputs": [
    {
     "data": {
      "text/plain": [
       "array([   584153. ,    861418.9,   1347983.4,   2311630.1,   3039297.8,\n",
       "         4191848. ,   5416650.2,   6582604.1,   8815797.8,  12667904.4,\n",
       "        38802500. ])"
      ]
     },
     "execution_count": 20,
     "metadata": {},
     "output_type": "execute_result"
    }
   ],
   "source": [
    "# If we also want to get the bins formed by the quantiles:\n",
    "out, bins = pd.qcut(state_pop, 10, retbins=True)\n",
    "bins"
   ]
  },
  {
   "cell_type": "markdown",
   "metadata": {
    "slideshow": {
     "slide_type": "slide"
    }
   },
   "source": [
    "## The describe() method\n",
    "\n",
    "Pandas combines many of the common statistics in one easy method: _describe()_."
   ]
  },
  {
   "cell_type": "code",
   "execution_count": 21,
   "metadata": {
    "collapsed": false
   },
   "outputs": [
    {
     "data": {
      "text/plain": [
       "count    5.200000e+01\n",
       "mean     6.200105e+06\n",
       "std      7.063774e+06\n",
       "min      5.841530e+05\n",
       "25%      1.796360e+06\n",
       "50%      4.191848e+06\n",
       "75%      6.824438e+06\n",
       "max      3.880250e+07\n",
       "Name: POPESTIMATE2014, dtype: float64"
      ]
     },
     "execution_count": 21,
     "metadata": {},
     "output_type": "execute_result"
    }
   ],
   "source": [
    "state_pop.describe()"
   ]
  },
  {
   "cell_type": "markdown",
   "metadata": {
    "slideshow": {
     "slide_type": "slide"
    }
   },
   "source": [
    "We can get the same for all columns in a DataFrame"
   ]
  },
  {
   "cell_type": "code",
   "execution_count": 22,
   "metadata": {
    "collapsed": false,
    "slideshow": {
     "slide_type": "-"
    }
   },
   "outputs": [
    {
     "data": {
      "text/html": [
       "<div>\n",
       "<table border=\"1\" class=\"dataframe\">\n",
       "  <thead>\n",
       "    <tr style=\"text-align: right;\">\n",
       "      <th></th>\n",
       "      <th>parent</th>\n",
       "      <th>child</th>\n",
       "    </tr>\n",
       "  </thead>\n",
       "  <tbody>\n",
       "    <tr>\n",
       "      <th>count</th>\n",
       "      <td>928.000000</td>\n",
       "      <td>928.000000</td>\n",
       "    </tr>\n",
       "    <tr>\n",
       "      <th>mean</th>\n",
       "      <td>68.308190</td>\n",
       "      <td>68.088470</td>\n",
       "    </tr>\n",
       "    <tr>\n",
       "      <th>std</th>\n",
       "      <td>1.787333</td>\n",
       "      <td>2.517941</td>\n",
       "    </tr>\n",
       "    <tr>\n",
       "      <th>min</th>\n",
       "      <td>64.000000</td>\n",
       "      <td>61.700000</td>\n",
       "    </tr>\n",
       "    <tr>\n",
       "      <th>25%</th>\n",
       "      <td>67.500000</td>\n",
       "      <td>66.200000</td>\n",
       "    </tr>\n",
       "    <tr>\n",
       "      <th>50%</th>\n",
       "      <td>68.500000</td>\n",
       "      <td>68.200000</td>\n",
       "    </tr>\n",
       "    <tr>\n",
       "      <th>75%</th>\n",
       "      <td>69.500000</td>\n",
       "      <td>70.200000</td>\n",
       "    </tr>\n",
       "    <tr>\n",
       "      <th>max</th>\n",
       "      <td>73.000000</td>\n",
       "      <td>73.700000</td>\n",
       "    </tr>\n",
       "  </tbody>\n",
       "</table>\n",
       "</div>"
      ],
      "text/plain": [
       "           parent       child\n",
       "count  928.000000  928.000000\n",
       "mean    68.308190   68.088470\n",
       "std      1.787333    2.517941\n",
       "min     64.000000   61.700000\n",
       "25%     67.500000   66.200000\n",
       "50%     68.500000   68.200000\n",
       "75%     69.500000   70.200000\n",
       "max     73.000000   73.700000"
      ]
     },
     "execution_count": 22,
     "metadata": {},
     "output_type": "execute_result"
    }
   ],
   "source": [
    "height_stats = heights.describe()\n",
    "height_stats"
   ]
  },
  {
   "cell_type": "markdown",
   "metadata": {
    "slideshow": {
     "slide_type": "slide"
    }
   },
   "source": [
    "We can also get descriptions for groups obtained by groupby()"
   ]
  },
  {
   "cell_type": "code",
   "execution_count": 23,
   "metadata": {
    "collapsed": false,
    "slideshow": {
     "slide_type": "fragment"
    }
   },
   "outputs": [
    {
     "data": {
      "text/html": [
       "<div>\n",
       "<table border=\"1\" class=\"dataframe\">\n",
       "  <thead>\n",
       "    <tr style=\"text-align: right;\">\n",
       "      <th></th>\n",
       "      <th>SUMLEV</th>\n",
       "      <th>REGION</th>\n",
       "      <th>DIVISION</th>\n",
       "      <th>STATE</th>\n",
       "      <th>NAME</th>\n",
       "      <th>POPESTIMATE2014</th>\n",
       "      <th>POPEST18PLUS2014</th>\n",
       "      <th>PCNT_POPEST18PLUS</th>\n",
       "    </tr>\n",
       "  </thead>\n",
       "  <tbody>\n",
       "    <tr>\n",
       "      <th>1</th>\n",
       "      <td>40</td>\n",
       "      <td>3</td>\n",
       "      <td>6</td>\n",
       "      <td>1</td>\n",
       "      <td>Alabama</td>\n",
       "      <td>4849377</td>\n",
       "      <td>3741806</td>\n",
       "      <td>77.2</td>\n",
       "    </tr>\n",
       "    <tr>\n",
       "      <th>2</th>\n",
       "      <td>40</td>\n",
       "      <td>4</td>\n",
       "      <td>9</td>\n",
       "      <td>2</td>\n",
       "      <td>Alaska</td>\n",
       "      <td>736732</td>\n",
       "      <td>550189</td>\n",
       "      <td>74.7</td>\n",
       "    </tr>\n",
       "    <tr>\n",
       "      <th>3</th>\n",
       "      <td>40</td>\n",
       "      <td>4</td>\n",
       "      <td>8</td>\n",
       "      <td>4</td>\n",
       "      <td>Arizona</td>\n",
       "      <td>6731484</td>\n",
       "      <td>5109792</td>\n",
       "      <td>75.9</td>\n",
       "    </tr>\n",
       "    <tr>\n",
       "      <th>4</th>\n",
       "      <td>40</td>\n",
       "      <td>3</td>\n",
       "      <td>7</td>\n",
       "      <td>5</td>\n",
       "      <td>Arkansas</td>\n",
       "      <td>2966369</td>\n",
       "      <td>2259350</td>\n",
       "      <td>76.2</td>\n",
       "    </tr>\n",
       "    <tr>\n",
       "      <th>5</th>\n",
       "      <td>40</td>\n",
       "      <td>4</td>\n",
       "      <td>9</td>\n",
       "      <td>6</td>\n",
       "      <td>California</td>\n",
       "      <td>38802500</td>\n",
       "      <td>29649348</td>\n",
       "      <td>76.4</td>\n",
       "    </tr>\n",
       "  </tbody>\n",
       "</table>\n",
       "</div>"
      ],
      "text/plain": [
       "   SUMLEV REGION DIVISION  STATE        NAME  POPESTIMATE2014  \\\n",
       "1      40      3        6      1     Alabama          4849377   \n",
       "2      40      4        9      2      Alaska           736732   \n",
       "3      40      4        8      4     Arizona          6731484   \n",
       "4      40      3        7      5    Arkansas          2966369   \n",
       "5      40      4        9      6  California         38802500   \n",
       "\n",
       "   POPEST18PLUS2014  PCNT_POPEST18PLUS  \n",
       "1           3741806               77.2  \n",
       "2            550189               74.7  \n",
       "3           5109792               75.9  \n",
       "4           2259350               76.2  \n",
       "5          29649348               76.4  "
      ]
     },
     "execution_count": 23,
     "metadata": {},
     "output_type": "execute_result"
    }
   ],
   "source": [
    "census[:5]"
   ]
  },
  {
   "cell_type": "markdown",
   "metadata": {
    "slideshow": {
     "slide_type": "fragment"
    }
   },
   "source": [
    "The regions are:\n",
    "\n",
    "* 1 is Northeast\n",
    "* 2 is Midwest\n",
    "* 3 is South\n",
    "* 4 is West"
   ]
  },
  {
   "cell_type": "markdown",
   "metadata": {
    "slideshow": {
     "slide_type": "slide"
    }
   },
   "source": [
    "### Compute summary statistics of the overall population and the 18+ population for each of these regions."
   ]
  },
  {
   "cell_type": "markdown",
   "metadata": {
    "slideshow": {
     "slide_type": "fragment"
    }
   },
   "source": [
    "Let us first create a new column with the Region Name. How?"
   ]
  },
  {
   "cell_type": "code",
   "execution_count": 24,
   "metadata": {
    "collapsed": false,
    "slideshow": {
     "slide_type": "fragment"
    }
   },
   "outputs": [
    {
     "data": {
      "text/html": [
       "<div>\n",
       "<table border=\"1\" class=\"dataframe\">\n",
       "  <thead>\n",
       "    <tr style=\"text-align: right;\">\n",
       "      <th></th>\n",
       "      <th>POPESTIMATE2014</th>\n",
       "      <th>POPEST18PLUS2014</th>\n",
       "      <th>REGION NAME</th>\n",
       "    </tr>\n",
       "  </thead>\n",
       "  <tbody>\n",
       "    <tr>\n",
       "      <th>1</th>\n",
       "      <td>4849377</td>\n",
       "      <td>3741806</td>\n",
       "      <td>South</td>\n",
       "    </tr>\n",
       "    <tr>\n",
       "      <th>2</th>\n",
       "      <td>736732</td>\n",
       "      <td>550189</td>\n",
       "      <td>West</td>\n",
       "    </tr>\n",
       "    <tr>\n",
       "      <th>3</th>\n",
       "      <td>6731484</td>\n",
       "      <td>5109792</td>\n",
       "      <td>West</td>\n",
       "    </tr>\n",
       "    <tr>\n",
       "      <th>4</th>\n",
       "      <td>2966369</td>\n",
       "      <td>2259350</td>\n",
       "      <td>South</td>\n",
       "    </tr>\n",
       "    <tr>\n",
       "      <th>5</th>\n",
       "      <td>38802500</td>\n",
       "      <td>29649348</td>\n",
       "      <td>West</td>\n",
       "    </tr>\n",
       "  </tbody>\n",
       "</table>\n",
       "</div>"
      ],
      "text/plain": [
       "   POPESTIMATE2014  POPEST18PLUS2014 REGION NAME\n",
       "1          4849377           3741806       South\n",
       "2           736732            550189        West\n",
       "3          6731484           5109792        West\n",
       "4          2966369           2259350       South\n",
       "5         38802500          29649348        West"
      ]
     },
     "execution_count": 24,
     "metadata": {},
     "output_type": "execute_result"
    }
   ],
   "source": [
    "census['REGION NAME'] = census['REGION'].replace({'1':'Northwest', '2':'Midwest', '3':'South', '4':'West'})\n",
    "census[['POPESTIMATE2014', 'POPEST18PLUS2014', 'REGION NAME']][:5]"
   ]
  },
  {
   "cell_type": "code",
   "execution_count": 25,
   "metadata": {
    "collapsed": false,
    "slideshow": {
     "slide_type": "fragment"
    }
   },
   "outputs": [
    {
     "data": {
      "text/plain": [
       "South        17\n",
       "West         13\n",
       "Midwest      12\n",
       "Northwest     9\n",
       "X             1\n",
       "Name: REGION NAME, dtype: int64"
      ]
     },
     "execution_count": 25,
     "metadata": {},
     "output_type": "execute_result"
    }
   ],
   "source": [
    "# Just making sure we got all the regions\n",
    "census['REGION NAME'].value_counts()"
   ]
  },
  {
   "cell_type": "markdown",
   "metadata": {
    "slideshow": {
     "slide_type": "fragment"
    }
   },
   "source": [
    "**WOAH!** What's X?"
   ]
  },
  {
   "cell_type": "code",
   "execution_count": 26,
   "metadata": {
    "collapsed": false,
    "slideshow": {
     "slide_type": "slide"
    }
   },
   "outputs": [
    {
     "data": {
      "text/html": [
       "<div>\n",
       "<table border=\"1\" class=\"dataframe\">\n",
       "  <thead>\n",
       "    <tr style=\"text-align: right;\">\n",
       "      <th></th>\n",
       "      <th>SUMLEV</th>\n",
       "      <th>REGION</th>\n",
       "      <th>DIVISION</th>\n",
       "      <th>STATE</th>\n",
       "      <th>NAME</th>\n",
       "      <th>POPESTIMATE2014</th>\n",
       "      <th>POPEST18PLUS2014</th>\n",
       "      <th>PCNT_POPEST18PLUS</th>\n",
       "      <th>REGION NAME</th>\n",
       "    </tr>\n",
       "  </thead>\n",
       "  <tbody>\n",
       "    <tr>\n",
       "      <th>52</th>\n",
       "      <td>40</td>\n",
       "      <td>X</td>\n",
       "      <td>X</td>\n",
       "      <td>72</td>\n",
       "      <td>Puerto Rico Commonwealth</td>\n",
       "      <td>3548397</td>\n",
       "      <td>2775645</td>\n",
       "      <td>78.2</td>\n",
       "      <td>X</td>\n",
       "    </tr>\n",
       "  </tbody>\n",
       "</table>\n",
       "</div>"
      ],
      "text/plain": [
       "    SUMLEV REGION DIVISION  STATE                      NAME  POPESTIMATE2014  \\\n",
       "52      40      X        X     72  Puerto Rico Commonwealth          3548397   \n",
       "\n",
       "    POPEST18PLUS2014  PCNT_POPEST18PLUS REGION NAME  \n",
       "52           2775645               78.2           X  "
      ]
     },
     "execution_count": 26,
     "metadata": {},
     "output_type": "execute_result"
    }
   ],
   "source": [
    "census[census['REGION NAME'] == 'X']"
   ]
  },
  {
   "cell_type": "markdown",
   "metadata": {
    "slideshow": {
     "slide_type": "fragment"
    }
   },
   "source": [
    "OK, as long as we keep this in mind..."
   ]
  },
  {
   "cell_type": "markdown",
   "metadata": {
    "slideshow": {
     "slide_type": "fragment"
    }
   },
   "source": [
    "Let's continue creating groups for each region, and running describe() on each."
   ]
  },
  {
   "cell_type": "code",
   "execution_count": 27,
   "metadata": {
    "collapsed": false,
    "slideshow": {
     "slide_type": "slide"
    }
   },
   "outputs": [
    {
     "data": {
      "text/html": [
       "<div>\n",
       "<table border=\"1\" class=\"dataframe\">\n",
       "  <thead>\n",
       "    <tr style=\"text-align: right;\">\n",
       "      <th></th>\n",
       "      <th>POPEST18PLUS2014</th>\n",
       "      <th>POPESTIMATE2014</th>\n",
       "    </tr>\n",
       "  </thead>\n",
       "  <tbody>\n",
       "    <tr>\n",
       "      <th>count</th>\n",
       "      <td>1.200000e+01</td>\n",
       "      <td>1.200000e+01</td>\n",
       "    </tr>\n",
       "    <tr>\n",
       "      <th>mean</th>\n",
       "      <td>4.336984e+06</td>\n",
       "      <td>5.645426e+06</td>\n",
       "    </tr>\n",
       "    <tr>\n",
       "      <th>std</th>\n",
       "      <td>3.145883e+06</td>\n",
       "      <td>4.069933e+06</td>\n",
       "    </tr>\n",
       "    <tr>\n",
       "      <th>min</th>\n",
       "      <td>5.709550e+05</td>\n",
       "      <td>7.394820e+05</td>\n",
       "    </tr>\n",
       "    <tr>\n",
       "      <th>25%</th>\n",
       "      <td>1.989740e+06</td>\n",
       "      <td>2.648392e+06</td>\n",
       "    </tr>\n",
       "    <tr>\n",
       "      <th>50%</th>\n",
       "      <td>4.316361e+06</td>\n",
       "      <td>5.607368e+06</td>\n",
       "    </tr>\n",
       "    <tr>\n",
       "      <th>75%</th>\n",
       "      <td>5.682718e+06</td>\n",
       "      <td>7.425110e+06</td>\n",
       "    </tr>\n",
       "    <tr>\n",
       "      <th>max</th>\n",
       "      <td>9.892106e+06</td>\n",
       "      <td>1.288058e+07</td>\n",
       "    </tr>\n",
       "  </tbody>\n",
       "</table>\n",
       "</div>"
      ],
      "text/plain": [
       "       POPEST18PLUS2014  POPESTIMATE2014\n",
       "count      1.200000e+01     1.200000e+01\n",
       "mean       4.336984e+06     5.645426e+06\n",
       "std        3.145883e+06     4.069933e+06\n",
       "min        5.709550e+05     7.394820e+05\n",
       "25%        1.989740e+06     2.648392e+06\n",
       "50%        4.316361e+06     5.607368e+06\n",
       "75%        5.682718e+06     7.425110e+06\n",
       "max        9.892106e+06     1.288058e+07"
      ]
     },
     "execution_count": 27,
     "metadata": {},
     "output_type": "execute_result"
    }
   ],
   "source": [
    "# First, select out the columns we care about\n",
    "census_pop = census[['POPESTIMATE2014', 'POPEST18PLUS2014', 'REGION NAME']]\n",
    "\n",
    "# Do groupby(), and describe()\n",
    "census_pop_statistics = census_pop.groupby('REGION NAME').describe()\n",
    "census_pop_statistics.ix['Midwest']"
   ]
  },
  {
   "cell_type": "markdown",
   "metadata": {
    "slideshow": {
     "slide_type": "slide"
    }
   },
   "source": [
    "### Do the patterns of the 18+ population differ from the overall population among the four regions?\n",
    "\n",
    "How do we do this?"
   ]
  },
  {
   "cell_type": "markdown",
   "metadata": {
    "slideshow": {
     "slide_type": "fragment"
    }
   },
   "source": [
    "1. For each region, compute relative differences between the statistics for the 18+ population against the overall population\n",
    "2. Check if these relative differences vary a lot across the four regions"
   ]
  },
  {
   "cell_type": "markdown",
   "metadata": {
    "slideshow": {
     "slide_type": "slide"
    }
   },
   "source": [
    "**Step 1:** Create a new column for relative differences among the statistics."
   ]
  },
  {
   "cell_type": "code",
   "execution_count": 28,
   "metadata": {
    "collapsed": false,
    "slideshow": {
     "slide_type": "fragment"
    }
   },
   "outputs": [
    {
     "data": {
      "text/plain": [
       "REGION NAME       \n",
       "Midwest      count    0.000000\n",
       "             mean     0.231770\n",
       "             std      0.227043\n",
       "             min      0.227899\n",
       "             25%      0.248699\n",
       "             50%      0.230234\n",
       "             75%      0.234662\n",
       "             max      0.232014\n",
       "Northwest    count    0.000000\n",
       "             mean     0.213140\n",
       "Name: Relative diff, dtype: float64"
      ]
     },
     "execution_count": 28,
     "metadata": {},
     "output_type": "execute_result"
    }
   ],
   "source": [
    "census_pop_statistics['Relative diff'] = \\\n",
    "    (  census_pop_statistics['POPESTIMATE2014'] \\\n",
    "     - census_pop_statistics['POPEST18PLUS2014']) \\\n",
    "     / census_pop_statistics['POPESTIMATE2014']\n",
    "census_pop_statistics['Relative diff'][:10]"
   ]
  },
  {
   "cell_type": "markdown",
   "metadata": {
    "slideshow": {
     "slide_type": "fragment"
    }
   },
   "source": [
    "To see if the statistics vary across the regions, how should we organize the data?\n",
    "\n",
    "Ideally, we want a DataFrame\n",
    "\n",
    "* with index being the Regions, and\n",
    "* each statistic being a column\n",
    "\n",
    "How can we get this?"
   ]
  },
  {
   "cell_type": "markdown",
   "metadata": {
    "slideshow": {
     "slide_type": "fragment"
    }
   },
   "source": [
    "(Hint: the data is currently in stacked format...)"
   ]
  },
  {
   "cell_type": "code",
   "execution_count": 29,
   "metadata": {
    "collapsed": false,
    "slideshow": {
     "slide_type": "slide"
    }
   },
   "outputs": [
    {
     "data": {
      "text/html": [
       "<div>\n",
       "<table border=\"1\" class=\"dataframe\">\n",
       "  <thead>\n",
       "    <tr style=\"text-align: right;\">\n",
       "      <th></th>\n",
       "      <th>count</th>\n",
       "      <th>mean</th>\n",
       "      <th>std</th>\n",
       "      <th>min</th>\n",
       "      <th>25%</th>\n",
       "      <th>50%</th>\n",
       "      <th>75%</th>\n",
       "      <th>max</th>\n",
       "    </tr>\n",
       "    <tr>\n",
       "      <th>REGION NAME</th>\n",
       "      <th></th>\n",
       "      <th></th>\n",
       "      <th></th>\n",
       "      <th></th>\n",
       "      <th></th>\n",
       "      <th></th>\n",
       "      <th></th>\n",
       "      <th></th>\n",
       "    </tr>\n",
       "  </thead>\n",
       "  <tbody>\n",
       "    <tr>\n",
       "      <th>Midwest</th>\n",
       "      <td>0.0</td>\n",
       "      <td>0.231770</td>\n",
       "      <td>0.227043</td>\n",
       "      <td>0.227899</td>\n",
       "      <td>0.248699</td>\n",
       "      <td>0.230234</td>\n",
       "      <td>0.234662</td>\n",
       "      <td>0.232014</td>\n",
       "    </tr>\n",
       "    <tr>\n",
       "      <th>Northwest</th>\n",
       "      <td>0.0</td>\n",
       "      <td>0.213140</td>\n",
       "      <td>0.215077</td>\n",
       "      <td>0.194053</td>\n",
       "      <td>0.201340</td>\n",
       "      <td>0.215596</td>\n",
       "      <td>0.225111</td>\n",
       "      <td>0.214163</td>\n",
       "    </tr>\n",
       "    <tr>\n",
       "      <th>South</th>\n",
       "      <td>0.0</td>\n",
       "      <td>0.234390</td>\n",
       "      <td>0.245194</td>\n",
       "      <td>0.174998</td>\n",
       "      <td>0.244238</td>\n",
       "      <td>0.225697</td>\n",
       "      <td>0.224484</td>\n",
       "      <td>0.263962</td>\n",
       "    </tr>\n",
       "    <tr>\n",
       "      <th>West</th>\n",
       "      <td>0.0</td>\n",
       "      <td>0.237282</td>\n",
       "      <td>0.235395</td>\n",
       "      <td>0.236792</td>\n",
       "      <td>0.217281</td>\n",
       "      <td>0.281889</td>\n",
       "      <td>0.232712</td>\n",
       "      <td>0.235891</td>\n",
       "    </tr>\n",
       "    <tr>\n",
       "      <th>X</th>\n",
       "      <td>0.0</td>\n",
       "      <td>0.217775</td>\n",
       "      <td>NaN</td>\n",
       "      <td>0.217775</td>\n",
       "      <td>0.217775</td>\n",
       "      <td>0.217775</td>\n",
       "      <td>0.217775</td>\n",
       "      <td>0.217775</td>\n",
       "    </tr>\n",
       "  </tbody>\n",
       "</table>\n",
       "</div>"
      ],
      "text/plain": [
       "             count      mean       std       min       25%       50%  \\\n",
       "REGION NAME                                                            \n",
       "Midwest        0.0  0.231770  0.227043  0.227899  0.248699  0.230234   \n",
       "Northwest      0.0  0.213140  0.215077  0.194053  0.201340  0.215596   \n",
       "South          0.0  0.234390  0.245194  0.174998  0.244238  0.225697   \n",
       "West           0.0  0.237282  0.235395  0.236792  0.217281  0.281889   \n",
       "X              0.0  0.217775       NaN  0.217775  0.217775  0.217775   \n",
       "\n",
       "                  75%       max  \n",
       "REGION NAME                      \n",
       "Midwest      0.234662  0.232014  \n",
       "Northwest    0.225111  0.214163  \n",
       "South        0.224484  0.263962  \n",
       "West         0.232712  0.235891  \n",
       "X            0.217775  0.217775  "
      ]
     },
     "execution_count": 29,
     "metadata": {},
     "output_type": "execute_result"
    }
   ],
   "source": [
    "stats_by_region = census_pop_statistics['Relative diff'].unstack()\n",
    "stats_by_region"
   ]
  },
  {
   "cell_type": "markdown",
   "metadata": {
    "slideshow": {
     "slide_type": "fragment"
    }
   },
   "source": [
    "All regions look roughly equal. We can confirm this by computing the standard deviation for each statistic and checking that it is pretty small compared to the mean.\n",
    "\n",
    "But we should first drop the 'X'."
   ]
  },
  {
   "cell_type": "code",
   "execution_count": 30,
   "metadata": {
    "collapsed": false,
    "slideshow": {
     "slide_type": "slide"
    }
   },
   "outputs": [
    {
     "data": {
      "text/plain": [
       "count    0.000000\n",
       "mean     0.009444\n",
       "std      0.011063\n",
       "min      0.025039\n",
       "25%      0.019479\n",
       "50%      0.025687\n",
       "75%      0.004503\n",
       "max      0.017844\n",
       "dtype: float64"
      ]
     },
     "execution_count": 30,
     "metadata": {},
     "output_type": "execute_result"
    }
   ],
   "source": [
    "stats_by_region.drop('X').apply(std)"
   ]
  },
  {
   "cell_type": "markdown",
   "metadata": {},
   "source": [
    "With the mean being around 0.23 everywhere, the standard deviation is less than 10% of the mean. So, all regions are pretty similar in terms of population trends."
   ]
  },
  {
   "cell_type": "markdown",
   "metadata": {
    "slideshow": {
     "slide_type": "slide"
    }
   },
   "source": [
    "## Correlations\n",
    "\n",
    "This is best explained by an example.\n",
    "\n",
    "### Do tall parents have tall children? And short parents?\n",
    "\n",
    "This is really just a way of asking: is parent height positively correlated with children's height?"
   ]
  },
  {
   "cell_type": "code",
   "execution_count": 31,
   "metadata": {
    "collapsed": false,
    "slideshow": {
     "slide_type": "fragment"
    }
   },
   "outputs": [
    {
     "data": {
      "text/plain": [
       "0.45876236829282407"
      ]
     },
     "execution_count": 31,
     "metadata": {},
     "output_type": "execute_result"
    }
   ],
   "source": [
    "heights['parent'].corr(heights['child'])"
   ]
  },
  {
   "cell_type": "markdown",
   "metadata": {
    "slideshow": {
     "slide_type": "fragment"
    }
   },
   "source": [
    "What does this correlation mean?\n",
    "\n",
    "* Correlation is a number between -1 and 1\n",
    "* It measures the degree to which a _linear_ relationship holds betweeen the heights of parents and children.\n",
    "    * _\"Parents who are 10-inches taller have children 5-inches taller\"_\n",
    "        * Perfect _positive_ correlation: 1.0\n",
    "    * _\"Parents who are 10-inches taller have children 2-inches shorter\"_\n",
    "        * Perfect _negative_ correlation: -1.0\n",
    "    * _\"Children's height is independent of parents' heights\"_\n",
    "        * Zero correlation"
   ]
  },
  {
   "cell_type": "markdown",
   "metadata": {
    "slideshow": {
     "slide_type": "slide"
    }
   },
   "source": [
    "[Wikipedia](http://en.wikipedia.org/wiki/Pearson_product-moment_correlation_coefficient) has good examples:"
   ]
  },
  {
   "cell_type": "markdown",
   "metadata": {},
   "source": [
    "![Correlation](http://upload.wikimedia.org/wikipedia/commons/3/34/Correlation_coefficient.png)"
   ]
  },
  {
   "cell_type": "markdown",
   "metadata": {
    "slideshow": {
     "slide_type": "slide"
    }
   },
   "source": [
    "![Another example](http://upload.wikimedia.org/wikipedia/commons/d/d4/Correlation_examples2.svg)"
   ]
  },
  {
   "cell_type": "markdown",
   "metadata": {
    "slideshow": {
     "slide_type": "slide"
    }
   },
   "source": [
    "So how \"big\" is a correlation of 0.46? Roughly speaking:\n",
    "\n",
    "Magnitude of correlation | \"in English\" |\n",
    "----------- |:----------:|\n",
    "less than 0.3 | low \n",
    "between 0.3 and 0.5 | medium \n",
    "between 0.5 and 0.9 | large \n",
    "more than 0.9 | you messed up your analysis somewhere \n"
   ]
  },
  {
   "cell_type": "markdown",
   "metadata": {
    "slideshow": {
     "slide_type": "slide"
    }
   },
   "source": [
    "<br />\n",
    "This is nice, but what if my data is not quite linear?\n",
    "\n",
    "There is another way to measure correlations based on **ranks**:\n",
    "\n",
    "* Sort all parent heights in increasing order\n",
    "* Sort all children heights in increasing order\n",
    "* Are parents and their children in the same ranks in the two orderings?\n",
    "    * _\"Tallest parent has tallest child, second-tallest parent has second-tallest child, ...\"_\n",
    "\n",
    "This is called the Spearman coefficient, and we can compute this too."
   ]
  },
  {
   "cell_type": "code",
   "execution_count": 32,
   "metadata": {
    "collapsed": false,
    "slideshow": {
     "slide_type": "slide"
    }
   },
   "outputs": [
    {
     "data": {
      "text/plain": [
       "0.4251344659429212"
      ]
     },
     "execution_count": 32,
     "metadata": {},
     "output_type": "execute_result"
    }
   ],
   "source": [
    "heights['parent'].corr(heights['child'], method='spearman')"
   ]
  },
  {
   "cell_type": "markdown",
   "metadata": {
    "slideshow": {
     "slide_type": "fragment"
    }
   },
   "source": [
    "The \"standard\" (also called Pearson) correlation was 0.46, so both types of correlations give similar answers in this case."
   ]
  },
  {
   "cell_type": "markdown",
   "metadata": {
    "slideshow": {
     "slide_type": "fragment"
    }
   },
   "source": [
    "Consider another example: the closing prices of AAPL and the S&P 500."
   ]
  },
  {
   "cell_type": "code",
   "execution_count": 33,
   "metadata": {
    "collapsed": false,
    "slideshow": {
     "slide_type": "slide"
    }
   },
   "outputs": [],
   "source": [
    "import pandas_datareader.data as web\n",
    "from datetime import datetime\n",
    "\n",
    "start_date = datetime(2011, 1, 1) # January 1, 2011\n",
    "end_date = datetime(2014, 1, 1)   # January 1, 2014\n",
    "\n",
    "aapl = web.DataReader('AAPL', 'yahoo', start_date, end_date)\n",
    "spy = web.DataReader('SPY', 'yahoo', start_date, end_date)"
   ]
  },
  {
   "cell_type": "code",
   "execution_count": 34,
   "metadata": {
    "collapsed": false,
    "slideshow": {
     "slide_type": "fragment"
    }
   },
   "outputs": [
    {
     "name": "stdout",
     "output_type": "stream",
     "text": [
      "Correlation of AAPL and S&P 500:\n",
      "\t Standard (Pearson): 0.314464384425\n",
      "\t Spearman: 0.492645615423\n"
     ]
    }
   ],
   "source": [
    "print \"Correlation of AAPL and S&P 500:\"\n",
    "print \"\\t Standard (Pearson):\", aapl['Close'].corr(spy['Close'])\n",
    "print \"\\t Spearman:\", aapl['Close'].corr(spy['Close'], method='spearman')"
   ]
  },
  {
   "cell_type": "markdown",
   "metadata": {
    "slideshow": {
     "slide_type": "fragment"
    }
   },
   "source": [
    "* Both are positive (as one might expect; AAPL is a big part of the S&P 500)\n",
    "* However, Pearson and Spearman correlations are quite different\n",
    "    * Possibly because the relationship isn't very linear?"
   ]
  },
  {
   "cell_type": "code",
   "execution_count": 35,
   "metadata": {
    "collapsed": false,
    "slideshow": {
     "slide_type": "slide"
    }
   },
   "outputs": [
    {
     "data": {
      "text/plain": [
       "<matplotlib.text.Text at 0x19375d68>"
      ]
     },
     "execution_count": 35,
     "metadata": {},
     "output_type": "execute_result"
    },
    {
     "data": {
      "image/png": "[encoded data removed]",
      "text/plain": [
       "<matplotlib.figure.Figure at 0x968d5c0>"
      ]
     },
     "metadata": {},
     "output_type": "display_data"
    }
   ],
   "source": [
    "plot(aapl['Close'], spy['Close'], marker='o', linestyle='None')\n",
    "xlabel('AAPL')\n",
    "ylabel('S&P 500')"
   ]
  },
  {
   "cell_type": "markdown",
   "metadata": {},
   "source": [
    "In fact, there seem to be almost two regimes."
   ]
  },
  {
   "cell_type": "markdown",
   "metadata": {
    "slideshow": {
     "slide_type": "slide"
    }
   },
   "source": [
    "<br />\n",
    "We can also plot **rolling correlations**, i.e., correlations based on a moving time window."
   ]
  },
  {
   "cell_type": "code",
   "execution_count": 36,
   "metadata": {
    "collapsed": false
   },
   "outputs": [
    {
     "data": {
      "text/plain": [
       "Date\n",
       "2011-01-18    0.672325\n",
       "2011-01-19    0.666412\n",
       "2011-01-20    0.618924\n",
       "2011-01-21    0.466345\n",
       "2011-01-24    0.435078\n",
       "2011-01-25    0.456790\n",
       "2011-01-26    0.502152\n",
       "2011-01-27    0.528689\n",
       "2011-01-28    0.533854\n",
       "2011-01-31    0.534613\n",
       "Name: Close, dtype: float64"
      ]
     },
     "execution_count": 36,
     "metadata": {},
     "output_type": "execute_result"
    }
   ],
   "source": [
    "aapl_spy_over_time = aapl['Close'].rolling(window=30, min_periods=10).corr(spy['Close'])\n",
    "aapl_spy_over_time[10:20]"
   ]
  },
  {
   "cell_type": "markdown",
   "metadata": {
    "slideshow": {
     "slide_type": "fragment"
    }
   },
   "source": [
    "Let's see how the rolling correlation changes over time."
   ]
  },
  {
   "cell_type": "code",
   "execution_count": 37,
   "metadata": {
    "collapsed": false,
    "slideshow": {
     "slide_type": "slide"
    }
   },
   "outputs": [
    {
     "data": {
      "text/plain": [
       "<matplotlib.axes._subplots.AxesSubplot at 0x1971a358>"
      ]
     },
     "execution_count": 37,
     "metadata": {},
     "output_type": "execute_result"
    },
    {
     "data": {
      "image/png": "[encoded data removed]",
      "text/plain": [
       "<matplotlib.figure.Figure at 0x1938c0f0>"
      ]
     },
     "metadata": {},
     "output_type": "display_data"
    }
   ],
   "source": [
    "fig, (ax1, ax2) = subplots(nrows=2, ncols=1, sharex=True, figsize=(12, 8))\n",
    "\n",
    "# On the first plot, show AAPL and SPY together\n",
    "df = pd.DataFrame({'AAPL':aapl['Close'], 'S&P 500':spy['Close']})\n",
    "df.plot(ax=ax1, secondary_y=['S&P 500'])\n",
    "\n",
    "# On the second plot, show the rolling correlation over time\n",
    "aapl_spy_over_time.plot(ax=ax2)"
   ]
  }
 ],
 "metadata": {
  "celltoolbar": "Slideshow",
  "kernelspec": {
   "display_name": "Python 2",
   "language": "python",
   "name": "python2"
  },
  "language_info": {
   "codemirror_mode": {
    "name": "ipython",
    "version": 2
   },
   "file_extension": ".py",
   "mimetype": "text/x-python",
   "name": "python",
   "nbconvert_exporter": "python",
   "pygments_lexer": "ipython2",
   "version": "2.7.11"
  }
 },
 "nbformat": 4,
 "nbformat_minor": 0
}

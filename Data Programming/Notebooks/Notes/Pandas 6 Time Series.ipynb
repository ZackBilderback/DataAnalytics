{
 "cells": [
  {
   "cell_type": "markdown",
   "metadata": {
    "slideshow": {
     "slide_type": "slide"
    }
   },
   "source": [
    "# Pandas 6"
   ]
  },
  {
   "cell_type": "markdown",
   "metadata": {
    "slideshow": {
     "slide_type": "slide"
    }
   },
   "source": [
    "Pandas handles timestamps in a special way that makes it easy to work with time series. As this is particularly important for financial applications, this lecture will concentrate on time series processing.\n",
    "\n",
    "We will look at:\n",
    "\n",
    "* the datetime object,\n",
    "* indexing and slicing by time,\n",
    "* various operations on time series,\n",
    "* and, time permitting, we'll build a trading simulator."
   ]
  },
  {
   "cell_type": "code",
   "execution_count": 1,
   "metadata": {
    "collapsed": false,
    "slideshow": {
     "slide_type": "slide"
    }
   },
   "outputs": [
    {
     "name": "stdout",
     "output_type": "stream",
     "text": [
      "Populating the interactive namespace from numpy and matplotlib\n"
     ]
    }
   ],
   "source": [
    "from pandas import Series, DataFrame\n",
    "import pandas as pd\n",
    "%pylab inline"
   ]
  },
  {
   "cell_type": "code",
   "execution_count": 2,
   "metadata": {
    "collapsed": false
   },
   "outputs": [],
   "source": [
    "# For time series analysis, we also need another module\n",
    "from datetime import datetime"
   ]
  },
  {
   "cell_type": "markdown",
   "metadata": {
    "slideshow": {
     "slide_type": "slide"
    }
   },
   "source": [
    "## Loading financial time series data"
   ]
  },
  {
   "cell_type": "code",
   "execution_count": 3,
   "metadata": {
    "collapsed": false
   },
   "outputs": [
    {
     "data": {
      "text/html": [
       "<div>\n",
       "<table border=\"1\" class=\"dataframe\">\n",
       "  <thead>\n",
       "    <tr style=\"text-align: right;\">\n",
       "      <th></th>\n",
       "      <th>Open</th>\n",
       "      <th>High</th>\n",
       "      <th>Low</th>\n",
       "      <th>Close</th>\n",
       "      <th>Volume</th>\n",
       "      <th>Adj Close</th>\n",
       "    </tr>\n",
       "    <tr>\n",
       "      <th>Date</th>\n",
       "      <th></th>\n",
       "      <th></th>\n",
       "      <th></th>\n",
       "      <th></th>\n",
       "      <th></th>\n",
       "      <th></th>\n",
       "    </tr>\n",
       "  </thead>\n",
       "  <tbody>\n",
       "    <tr>\n",
       "      <th>2011-01-03</th>\n",
       "      <td>325.64</td>\n",
       "      <td>330.26</td>\n",
       "      <td>324.84</td>\n",
       "      <td>329.57</td>\n",
       "      <td>111284600</td>\n",
       "      <td>44.59</td>\n",
       "    </tr>\n",
       "    <tr>\n",
       "      <th>2011-01-04</th>\n",
       "      <td>332.44</td>\n",
       "      <td>332.50</td>\n",
       "      <td>328.15</td>\n",
       "      <td>331.29</td>\n",
       "      <td>77270200</td>\n",
       "      <td>44.82</td>\n",
       "    </tr>\n",
       "    <tr>\n",
       "      <th>2011-01-05</th>\n",
       "      <td>329.55</td>\n",
       "      <td>334.34</td>\n",
       "      <td>329.50</td>\n",
       "      <td>334.00</td>\n",
       "      <td>63879900</td>\n",
       "      <td>45.18</td>\n",
       "    </tr>\n",
       "    <tr>\n",
       "      <th>2011-01-06</th>\n",
       "      <td>334.72</td>\n",
       "      <td>335.25</td>\n",
       "      <td>332.90</td>\n",
       "      <td>333.73</td>\n",
       "      <td>75107200</td>\n",
       "      <td>45.15</td>\n",
       "    </tr>\n",
       "    <tr>\n",
       "      <th>2011-01-07</th>\n",
       "      <td>333.99</td>\n",
       "      <td>336.35</td>\n",
       "      <td>331.90</td>\n",
       "      <td>336.12</td>\n",
       "      <td>77982800</td>\n",
       "      <td>45.47</td>\n",
       "    </tr>\n",
       "  </tbody>\n",
       "</table>\n",
       "</div>"
      ],
      "text/plain": [
       "              Open    High     Low   Close     Volume  Adj Close\n",
       "Date                                                            \n",
       "2011-01-03  325.64  330.26  324.84  329.57  111284600      44.59\n",
       "2011-01-04  332.44  332.50  328.15  331.29   77270200      44.82\n",
       "2011-01-05  329.55  334.34  329.50  334.00   63879900      45.18\n",
       "2011-01-06  334.72  335.25  332.90  333.73   75107200      45.15\n",
       "2011-01-07  333.99  336.35  331.90  336.12   77982800      45.47"
      ]
     },
     "execution_count": 3,
     "metadata": {},
     "output_type": "execute_result"
    }
   ],
   "source": [
    "# Load daily stock values for AAPL\n",
    "df = pd.read_csv('Pandas_6_data/aapl.csv', parse_dates=True).set_index('Date')\n",
    "df[:5]"
   ]
  },
  {
   "cell_type": "markdown",
   "metadata": {
    "slideshow": {
     "slide_type": "fragment"
    }
   },
   "source": [
    "Pandas also provides convenience functions to get data directly from web sources. Here, let us get the data from Yahoo! Finance."
   ]
  },
  {
   "cell_type": "code",
   "execution_count": 4,
   "metadata": {
    "collapsed": false,
    "slideshow": {
     "slide_type": "slide"
    }
   },
   "outputs": [
    {
     "data": {
      "text/html": [
       "<div>\n",
       "<table border=\"1\" class=\"dataframe\">\n",
       "  <thead>\n",
       "    <tr style=\"text-align: right;\">\n",
       "      <th></th>\n",
       "      <th>Open</th>\n",
       "      <th>High</th>\n",
       "      <th>Low</th>\n",
       "      <th>Close</th>\n",
       "      <th>Volume</th>\n",
       "      <th>Adj Close</th>\n",
       "    </tr>\n",
       "    <tr>\n",
       "      <th>Date</th>\n",
       "      <th></th>\n",
       "      <th></th>\n",
       "      <th></th>\n",
       "      <th></th>\n",
       "      <th></th>\n",
       "      <th></th>\n",
       "    </tr>\n",
       "  </thead>\n",
       "  <tbody>\n",
       "    <tr>\n",
       "      <th>2011-01-03</th>\n",
       "      <td>325.640003</td>\n",
       "      <td>330.260002</td>\n",
       "      <td>324.840012</td>\n",
       "      <td>329.570000</td>\n",
       "      <td>111284600</td>\n",
       "      <td>43.337747</td>\n",
       "    </tr>\n",
       "    <tr>\n",
       "      <th>2011-01-04</th>\n",
       "      <td>332.439999</td>\n",
       "      <td>332.500000</td>\n",
       "      <td>328.149994</td>\n",
       "      <td>331.290012</td>\n",
       "      <td>77270200</td>\n",
       "      <td>43.563925</td>\n",
       "    </tr>\n",
       "    <tr>\n",
       "      <th>2011-01-05</th>\n",
       "      <td>329.549999</td>\n",
       "      <td>334.339989</td>\n",
       "      <td>329.500011</td>\n",
       "      <td>334.000008</td>\n",
       "      <td>63879900</td>\n",
       "      <td>43.920283</td>\n",
       "    </tr>\n",
       "    <tr>\n",
       "      <th>2011-01-06</th>\n",
       "      <td>334.719997</td>\n",
       "      <td>335.249996</td>\n",
       "      <td>332.900009</td>\n",
       "      <td>333.729988</td>\n",
       "      <td>75107200</td>\n",
       "      <td>43.884776</td>\n",
       "    </tr>\n",
       "    <tr>\n",
       "      <th>2011-01-07</th>\n",
       "      <td>333.989994</td>\n",
       "      <td>336.349995</td>\n",
       "      <td>331.900013</td>\n",
       "      <td>336.120003</td>\n",
       "      <td>77982800</td>\n",
       "      <td>44.199058</td>\n",
       "    </tr>\n",
       "  </tbody>\n",
       "</table>\n",
       "</div>"
      ],
      "text/plain": [
       "                  Open        High         Low       Close     Volume  \\\n",
       "Date                                                                    \n",
       "2011-01-03  325.640003  330.260002  324.840012  329.570000  111284600   \n",
       "2011-01-04  332.439999  332.500000  328.149994  331.290012   77270200   \n",
       "2011-01-05  329.549999  334.339989  329.500011  334.000008   63879900   \n",
       "2011-01-06  334.719997  335.249996  332.900009  333.729988   75107200   \n",
       "2011-01-07  333.989994  336.349995  331.900013  336.120003   77982800   \n",
       "\n",
       "            Adj Close  \n",
       "Date                   \n",
       "2011-01-03  43.337747  \n",
       "2011-01-04  43.563925  \n",
       "2011-01-05  43.920283  \n",
       "2011-01-06  43.884776  \n",
       "2011-01-07  44.199058  "
      ]
     },
     "execution_count": 4,
     "metadata": {},
     "output_type": "execute_result"
    }
   ],
   "source": [
    "# Import the module for web downloads\n",
    "# (You will need to install the package \"pandas-datareader\")\n",
    "import pandas_datareader.data as web\n",
    "\n",
    "# Specify start and end dates to download\n",
    "start_date = datetime(2011, 1, 1) # January 1, 2011\n",
    "end_date = datetime(2014, 1, 1)   # January 1, 2014\n",
    "\n",
    "# Get Apple stock from Yahoo! Finance for these dates\n",
    "df = web.DataReader('AAPL', 'yahoo', start_date, end_date)\n",
    "df[:5]"
   ]
  },
  {
   "cell_type": "markdown",
   "metadata": {
    "slideshow": {
     "slide_type": "slide"
    }
   },
   "source": [
    "Note that this DataFrame has a special kind of index."
   ]
  },
  {
   "cell_type": "code",
   "execution_count": 5,
   "metadata": {
    "collapsed": false,
    "slideshow": {
     "slide_type": "-"
    }
   },
   "outputs": [
    {
     "data": {
      "text/plain": [
       "DatetimeIndex(['2011-01-03', '2011-01-04', '2011-01-05', '2011-01-06',\n",
       "               '2011-01-07', '2011-01-10', '2011-01-11', '2011-01-12',\n",
       "               '2011-01-13', '2011-01-14',\n",
       "               ...\n",
       "               '2013-12-17', '2013-12-18', '2013-12-19', '2013-12-20',\n",
       "               '2013-12-23', '2013-12-24', '2013-12-26', '2013-12-27',\n",
       "               '2013-12-30', '2013-12-31'],\n",
       "              dtype='datetime64[ns]', name=u'Date', length=754, freq=None)"
      ]
     },
     "execution_count": 5,
     "metadata": {},
     "output_type": "execute_result"
    }
   ],
   "source": [
    "df.index"
   ]
  },
  {
   "cell_type": "code",
   "execution_count": 6,
   "metadata": {
    "collapsed": false,
    "slideshow": {
     "slide_type": "fragment"
    }
   },
   "outputs": [
    {
     "data": {
      "text/plain": [
       "Timestamp('2011-01-10 00:00:00')"
      ]
     },
     "execution_count": 6,
     "metadata": {},
     "output_type": "execute_result"
    }
   ],
   "source": [
    "sixth_date = df.index[5]\n",
    "sixth_date"
   ]
  },
  {
   "cell_type": "code",
   "execution_count": 7,
   "metadata": {
    "collapsed": false,
    "slideshow": {
     "slide_type": "fragment"
    }
   },
   "outputs": [
    {
     "name": "stdout",
     "output_type": "stream",
     "text": [
      "2011-01-10 00:00:00 corresponds to\n",
      "year 2011\n",
      "month 1\n",
      "day 10\n",
      "day of the week 0\n",
      "quarter 1\n"
     ]
    }
   ],
   "source": [
    "# We can extract year, month, etc.\n",
    "print sixth_date, 'corresponds to'\n",
    "print 'year', sixth_date.year\n",
    "print 'month', sixth_date.month\n",
    "print 'day', sixth_date.day\n",
    "print 'day of the week', sixth_date.dayofweek  # Monday=0, ..., Sunday=6\n",
    "print 'quarter', sixth_date.quarter"
   ]
  },
  {
   "cell_type": "markdown",
   "metadata": {
    "slideshow": {
     "slide_type": "slide"
    }
   },
   "source": [
    "## Indexing in TimeSeries\n",
    "\n",
    "We can index into this DataFrame using such Timestamp objects."
   ]
  },
  {
   "cell_type": "code",
   "execution_count": 8,
   "metadata": {
    "collapsed": false
   },
   "outputs": [
    {
     "data": {
      "text/plain": [
       "Open         3.388300e+02\n",
       "High         3.432300e+02\n",
       "Low          3.371700e+02\n",
       "Close        3.424500e+02\n",
       "Volume       1.121400e+08\n",
       "Adj Close    4.503144e+01\n",
       "Name: 2011-01-10 00:00:00, dtype: float64"
      ]
     },
     "execution_count": 8,
     "metadata": {},
     "output_type": "execute_result"
    }
   ],
   "source": [
    "df.ix[sixth_date]"
   ]
  },
  {
   "cell_type": "code",
   "execution_count": 9,
   "metadata": {
    "collapsed": false,
    "slideshow": {
     "slide_type": "fragment"
    }
   },
   "outputs": [
    {
     "data": {
      "text/plain": [
       "Open         3.339900e+02\n",
       "High         3.363500e+02\n",
       "Low          3.319000e+02\n",
       "Close        3.361200e+02\n",
       "Volume       7.798280e+07\n",
       "Adj Close    4.419906e+01\n",
       "Name: 2011-01-07 00:00:00, dtype: float64"
      ]
     },
     "execution_count": 9,
     "metadata": {},
     "output_type": "execute_result"
    }
   ],
   "source": [
    "df.ix['1/7/2011']"
   ]
  },
  {
   "cell_type": "code",
   "execution_count": 10,
   "metadata": {
    "collapsed": false,
    "slideshow": {
     "slide_type": "slide"
    }
   },
   "outputs": [
    {
     "data": {
      "text/plain": [
       "Open         3.295500e+02\n",
       "High         3.343400e+02\n",
       "Low          3.295000e+02\n",
       "Close        3.340000e+02\n",
       "Volume       6.387990e+07\n",
       "Adj Close    4.392028e+01\n",
       "Name: 2011-01-05 00:00:00, dtype: float64"
      ]
     },
     "execution_count": 10,
     "metadata": {},
     "output_type": "execute_result"
    }
   ],
   "source": [
    "df.ix['2011-01-05']"
   ]
  },
  {
   "cell_type": "code",
   "execution_count": 11,
   "metadata": {
    "collapsed": false,
    "slideshow": {
     "slide_type": "fragment"
    }
   },
   "outputs": [
    {
     "data": {
      "text/plain": [
       "Open         3.295500e+02\n",
       "High         3.343400e+02\n",
       "Low          3.295000e+02\n",
       "Close        3.340000e+02\n",
       "Volume       6.387990e+07\n",
       "Adj Close    4.392028e+01\n",
       "Name: 2011-01-05 00:00:00, dtype: float64"
      ]
     },
     "execution_count": 11,
     "metadata": {},
     "output_type": "execute_result"
    }
   ],
   "source": [
    "df.ix[datetime(year=2011, month=1, day=5)]"
   ]
  },
  {
   "cell_type": "markdown",
   "metadata": {
    "slideshow": {
     "slide_type": "slide"
    }
   },
   "source": [
    "## Slicing in Time Series\n",
    "\n",
    "We can also use any of the indexing methods above to select out slices of a time series."
   ]
  },
  {
   "cell_type": "code",
   "execution_count": 12,
   "metadata": {
    "collapsed": false,
    "slideshow": {
     "slide_type": "fragment"
    }
   },
   "outputs": [
    {
     "data": {
      "text/html": [
       "<div>\n",
       "<table border=\"1\" class=\"dataframe\">\n",
       "  <thead>\n",
       "    <tr style=\"text-align: right;\">\n",
       "      <th></th>\n",
       "      <th>Open</th>\n",
       "      <th>High</th>\n",
       "      <th>Low</th>\n",
       "      <th>Close</th>\n",
       "      <th>Volume</th>\n",
       "      <th>Adj Close</th>\n",
       "    </tr>\n",
       "    <tr>\n",
       "      <th>Date</th>\n",
       "      <th></th>\n",
       "      <th></th>\n",
       "      <th></th>\n",
       "      <th></th>\n",
       "      <th></th>\n",
       "      <th></th>\n",
       "    </tr>\n",
       "  </thead>\n",
       "  <tbody>\n",
       "    <tr>\n",
       "      <th>2013-01-02</th>\n",
       "      <td>553.819992</td>\n",
       "      <td>554.999992</td>\n",
       "      <td>541.630020</td>\n",
       "      <td>549.029976</td>\n",
       "      <td>140129500</td>\n",
       "      <td>72.837401</td>\n",
       "    </tr>\n",
       "    <tr>\n",
       "      <th>2013-01-03</th>\n",
       "      <td>547.879990</td>\n",
       "      <td>549.669991</td>\n",
       "      <td>540.999992</td>\n",
       "      <td>542.099991</td>\n",
       "      <td>88241300</td>\n",
       "      <td>71.918030</td>\n",
       "    </tr>\n",
       "    <tr>\n",
       "      <th>2013-01-04</th>\n",
       "      <td>536.969994</td>\n",
       "      <td>538.630005</td>\n",
       "      <td>525.829979</td>\n",
       "      <td>526.999992</td>\n",
       "      <td>148583400</td>\n",
       "      <td>69.914779</td>\n",
       "    </tr>\n",
       "    <tr>\n",
       "      <th>2013-01-07</th>\n",
       "      <td>521.999985</td>\n",
       "      <td>529.300018</td>\n",
       "      <td>515.199989</td>\n",
       "      <td>523.900002</td>\n",
       "      <td>121039100</td>\n",
       "      <td>69.503517</td>\n",
       "    </tr>\n",
       "    <tr>\n",
       "      <th>2013-01-08</th>\n",
       "      <td>529.209976</td>\n",
       "      <td>531.889984</td>\n",
       "      <td>521.250008</td>\n",
       "      <td>525.310020</td>\n",
       "      <td>114676800</td>\n",
       "      <td>69.690578</td>\n",
       "    </tr>\n",
       "    <tr>\n",
       "      <th>2013-01-09</th>\n",
       "      <td>522.500023</td>\n",
       "      <td>525.009987</td>\n",
       "      <td>515.990021</td>\n",
       "      <td>517.100006</td>\n",
       "      <td>101901100</td>\n",
       "      <td>68.601391</td>\n",
       "    </tr>\n",
       "    <tr>\n",
       "      <th>2013-01-10</th>\n",
       "      <td>528.549988</td>\n",
       "      <td>528.719978</td>\n",
       "      <td>515.519997</td>\n",
       "      <td>523.509979</td>\n",
       "      <td>150286500</td>\n",
       "      <td>69.451774</td>\n",
       "    </tr>\n",
       "  </tbody>\n",
       "</table>\n",
       "</div>"
      ],
      "text/plain": [
       "                  Open        High         Low       Close     Volume  \\\n",
       "Date                                                                    \n",
       "2013-01-02  553.819992  554.999992  541.630020  549.029976  140129500   \n",
       "2013-01-03  547.879990  549.669991  540.999992  542.099991   88241300   \n",
       "2013-01-04  536.969994  538.630005  525.829979  526.999992  148583400   \n",
       "2013-01-07  521.999985  529.300018  515.199989  523.900002  121039100   \n",
       "2013-01-08  529.209976  531.889984  521.250008  525.310020  114676800   \n",
       "2013-01-09  522.500023  525.009987  515.990021  517.100006  101901100   \n",
       "2013-01-10  528.549988  528.719978  515.519997  523.509979  150286500   \n",
       "\n",
       "            Adj Close  \n",
       "Date                   \n",
       "2013-01-02  72.837401  \n",
       "2013-01-03  71.918030  \n",
       "2013-01-04  69.914779  \n",
       "2013-01-07  69.503517  \n",
       "2013-01-08  69.690578  \n",
       "2013-01-09  68.601391  \n",
       "2013-01-10  69.451774  "
      ]
     },
     "execution_count": 12,
     "metadata": {},
     "output_type": "execute_result"
    }
   ],
   "source": [
    "df.ix['1/1/2013':'1/10/2013']"
   ]
  },
  {
   "cell_type": "markdown",
   "metadata": {
    "slideshow": {
     "slide_type": "slide"
    }
   },
   "source": [
    "In addition, Pandas allows us to easily slice by month or year as well."
   ]
  },
  {
   "cell_type": "code",
   "execution_count": 13,
   "metadata": {
    "collapsed": false
   },
   "outputs": [
    {
     "data": {
      "text/plain": [
       "Date\n",
       "2013-05-01    439.290001\n",
       "2013-05-02    445.519997\n",
       "2013-05-03    449.980019\n",
       "2013-05-06    460.709984\n",
       "2013-05-07    458.660004\n",
       "2013-05-08    463.839989\n",
       "2013-05-09    456.769974\n",
       "2013-05-10    452.969994\n",
       "2013-05-13    454.740021\n",
       "2013-05-14    443.860012\n",
       "2013-05-15    428.850002\n",
       "2013-05-16    434.580013\n",
       "2013-05-17    433.260010\n",
       "2013-05-20    442.930004\n",
       "2013-05-21    439.659996\n",
       "2013-05-22    441.349995\n",
       "2013-05-23    442.139999\n",
       "2013-05-24    445.150002\n",
       "2013-05-28    441.440010\n",
       "2013-05-29    444.949997\n",
       "2013-05-30    451.580002\n",
       "2013-05-31    449.730026\n",
       "Name: Close, dtype: float64"
      ]
     },
     "execution_count": 13,
     "metadata": {},
     "output_type": "execute_result"
    }
   ],
   "source": [
    "closings = df['Close']  # Select one column from our DataFrame; this is a Series\n",
    "closings['2013-05']"
   ]
  },
  {
   "cell_type": "code",
   "execution_count": 14,
   "metadata": {
    "collapsed": false,
    "slideshow": {
     "slide_type": "slide"
    }
   },
   "outputs": [
    {
     "data": {
      "text/plain": [
       "Date\n",
       "2012-01-03    411.230000\n",
       "2012-01-04    413.440010\n",
       "2012-01-05    418.029995\n",
       "2012-01-06    422.400002\n",
       "2012-01-09    421.730000\n",
       "2012-01-10    423.239994\n",
       "2012-01-11    422.549992\n",
       "2012-01-12    421.389992\n",
       "2012-01-13    419.810009\n",
       "2012-01-17    424.700001\n",
       "2012-01-18    429.110008\n",
       "2012-01-19    427.750004\n",
       "2012-01-20    420.300007\n",
       "2012-01-23    427.409996\n",
       "2012-01-24    420.409996\n",
       "2012-01-25    446.659996\n",
       "2012-01-26    444.629990\n",
       "2012-01-27    447.280010\n",
       "2012-01-30    453.009995\n",
       "2012-01-31    456.479980\n",
       "2012-02-01    456.189987\n",
       "2012-02-02    455.120003\n",
       "2012-02-03    459.680000\n",
       "2012-02-06    463.969978\n",
       "2012-02-07    468.830009\n",
       "2012-02-08    476.680016\n",
       "2012-02-09    493.170006\n",
       "2012-02-10    493.419998\n",
       "2012-02-13    502.600021\n",
       "2012-02-14    509.459991\n",
       "                 ...    \n",
       "2012-11-16    527.680008\n",
       "2012-11-19    565.730011\n",
       "2012-11-20    560.909981\n",
       "2012-11-21    561.700012\n",
       "2012-11-23    571.500023\n",
       "2012-11-26    589.530022\n",
       "2012-11-27    584.780006\n",
       "2012-11-28    582.940018\n",
       "2012-11-29    589.359978\n",
       "2012-11-30    585.279991\n",
       "2012-12-03    586.190025\n",
       "2012-12-04    575.849976\n",
       "2012-12-05    538.790009\n",
       "2012-12-06    547.239975\n",
       "2012-12-07    533.250015\n",
       "2012-12-10    529.819977\n",
       "2012-12-11    541.390015\n",
       "2012-12-12    539.000000\n",
       "2012-12-13    529.689987\n",
       "2012-12-14    509.789986\n",
       "2012-12-17    518.829979\n",
       "2012-12-18    533.900017\n",
       "2012-12-19    526.309990\n",
       "2012-12-20    521.730019\n",
       "2012-12-21    519.330017\n",
       "2012-12-24    520.169983\n",
       "2012-12-26    512.999992\n",
       "2012-12-27    515.060013\n",
       "2012-12-28    509.589981\n",
       "2012-12-31    532.169991\n",
       "Name: Close, dtype: float64"
      ]
     },
     "execution_count": 14,
     "metadata": {},
     "output_type": "execute_result"
    }
   ],
   "source": [
    "closings['2012']"
   ]
  },
  {
   "cell_type": "markdown",
   "metadata": {
    "slideshow": {
     "slide_type": "slide"
    }
   },
   "source": [
    "The general solution to slicing is to create a range of dates and select a slice using that range. There are many options:\n",
    "\n",
    "* For calendar dates, use _date\\_range()_, with a common case being:\n",
    "\n",
    "   > date_range(start_date, end_date, freq)\n",
    "\n",
    "\n",
    "* The \"freq\" can be:\n",
    "    * 'D' for daily\n",
    "    * 'B' for each business day\n",
    "    * 'W-MON', 'W-TUE', ... for once a week on Monday, Tuesday, ...\n",
    "    * 'M' for monthly\n",
    "    * ...\n",
    "    * 'WOM-3FRI' for third Friday of the month (usual for option expiry dates)"
   ]
  },
  {
   "cell_type": "code",
   "execution_count": 15,
   "metadata": {
    "collapsed": false,
    "slideshow": {
     "slide_type": "fragment"
    }
   },
   "outputs": [
    {
     "data": {
      "text/plain": [
       "[Timestamp('2013-01-08 00:00:00', offset='W-TUE'),\n",
       " Timestamp('2013-01-15 00:00:00', offset='W-TUE'),\n",
       " Timestamp('2013-01-22 00:00:00', offset='W-TUE'),\n",
       " Timestamp('2013-01-29 00:00:00', offset='W-TUE')]"
      ]
     },
     "execution_count": 15,
     "metadata": {},
     "output_type": "execute_result"
    }
   ],
   "source": [
    "dates = pd.date_range(start='1/3/2013', end='2/3/2013', freq='W-TUE')\n",
    "list(dates)"
   ]
  },
  {
   "cell_type": "code",
   "execution_count": 16,
   "metadata": {
    "collapsed": false,
    "slideshow": {
     "slide_type": "slide"
    }
   },
   "outputs": [
    {
     "data": {
      "text/html": [
       "<div>\n",
       "<table border=\"1\" class=\"dataframe\">\n",
       "  <thead>\n",
       "    <tr style=\"text-align: right;\">\n",
       "      <th></th>\n",
       "      <th>Open</th>\n",
       "      <th>High</th>\n",
       "      <th>Low</th>\n",
       "      <th>Close</th>\n",
       "      <th>Volume</th>\n",
       "      <th>Adj Close</th>\n",
       "    </tr>\n",
       "  </thead>\n",
       "  <tbody>\n",
       "    <tr>\n",
       "      <th>2013-01-08</th>\n",
       "      <td>529.209976</td>\n",
       "      <td>531.889984</td>\n",
       "      <td>521.250008</td>\n",
       "      <td>525.310020</td>\n",
       "      <td>114676800</td>\n",
       "      <td>69.690578</td>\n",
       "    </tr>\n",
       "    <tr>\n",
       "      <th>2013-01-15</th>\n",
       "      <td>498.300003</td>\n",
       "      <td>498.990005</td>\n",
       "      <td>483.379982</td>\n",
       "      <td>485.920013</td>\n",
       "      <td>219193100</td>\n",
       "      <td>64.464878</td>\n",
       "    </tr>\n",
       "    <tr>\n",
       "      <th>2013-01-22</th>\n",
       "      <td>504.560013</td>\n",
       "      <td>507.879982</td>\n",
       "      <td>496.630005</td>\n",
       "      <td>504.770004</td>\n",
       "      <td>115386600</td>\n",
       "      <td>66.965624</td>\n",
       "    </tr>\n",
       "    <tr>\n",
       "      <th>2013-01-29</th>\n",
       "      <td>458.500000</td>\n",
       "      <td>460.200012</td>\n",
       "      <td>452.119987</td>\n",
       "      <td>458.269981</td>\n",
       "      <td>142789500</td>\n",
       "      <td>60.796670</td>\n",
       "    </tr>\n",
       "  </tbody>\n",
       "</table>\n",
       "</div>"
      ],
      "text/plain": [
       "                  Open        High         Low       Close     Volume  \\\n",
       "2013-01-08  529.209976  531.889984  521.250008  525.310020  114676800   \n",
       "2013-01-15  498.300003  498.990005  483.379982  485.920013  219193100   \n",
       "2013-01-22  504.560013  507.879982  496.630005  504.770004  115386600   \n",
       "2013-01-29  458.500000  460.200012  452.119987  458.269981  142789500   \n",
       "\n",
       "            Adj Close  \n",
       "2013-01-08  69.690578  \n",
       "2013-01-15  64.464878  \n",
       "2013-01-22  66.965624  \n",
       "2013-01-29  60.796670  "
      ]
     },
     "execution_count": 16,
     "metadata": {},
     "output_type": "execute_result"
    }
   ],
   "source": [
    "df.ix[dates]"
   ]
  },
  {
   "cell_type": "markdown",
   "metadata": {
    "slideshow": {
     "slide_type": "slide"
    }
   },
   "source": [
    "## Shifting time series\n",
    "\n",
    "One special operation with time series is to move backward or forward in time. For instance:\n",
    "\n",
    "### What is the percentage daily change in closing price?"
   ]
  },
  {
   "cell_type": "code",
   "execution_count": 17,
   "metadata": {
    "collapsed": false,
    "slideshow": {
     "slide_type": "fragment"
    }
   },
   "outputs": [
    {
     "data": {
      "text/plain": [
       "Date\n",
       "2011-01-03    329.570000\n",
       "2011-01-04    331.290012\n",
       "2011-01-05    334.000008\n",
       "2011-01-06    333.729988\n",
       "2011-01-07    336.120003\n",
       "2011-01-10    342.450001\n",
       "2011-01-11    341.639996\n",
       "2011-01-12    344.420006\n",
       "2011-01-13    345.680008\n",
       "2011-01-14    348.479992\n",
       "Name: Close, dtype: float64"
      ]
     },
     "execution_count": 17,
     "metadata": {},
     "output_type": "execute_result"
    }
   ],
   "source": [
    "closes = df['Close']\n",
    "closes[:10]"
   ]
  },
  {
   "cell_type": "code",
   "execution_count": 18,
   "metadata": {
    "collapsed": false,
    "slideshow": {
     "slide_type": "slide"
    }
   },
   "outputs": [
    {
     "data": {
      "text/plain": [
       "Date\n",
       "2011-01-03           NaN\n",
       "2011-01-04    329.570000\n",
       "2011-01-05    331.290012\n",
       "2011-01-06    334.000008\n",
       "2011-01-07    333.729988\n",
       "Name: Close, dtype: float64"
      ]
     },
     "execution_count": 18,
     "metadata": {},
     "output_type": "execute_result"
    }
   ],
   "source": [
    "yesterdays_closes = closes.shift(1)\n",
    "yesterdays_closes[:5]"
   ]
  },
  {
   "cell_type": "code",
   "execution_count": 19,
   "metadata": {
    "collapsed": false,
    "slideshow": {
     "slide_type": "fragment"
    }
   },
   "outputs": [
    {
     "data": {
      "text/plain": [
       "Date\n",
       "2011-01-03         NaN\n",
       "2011-01-04    0.521896\n",
       "2011-01-05    0.818013\n",
       "2011-01-06   -0.080844\n",
       "2011-01-07    0.716152\n",
       "Name: percent change, dtype: float64"
      ]
     },
     "execution_count": 19,
     "metadata": {},
     "output_type": "execute_result"
    }
   ],
   "source": [
    "df['percent change'] = (closes / yesterdays_closes - 1) * 100\n",
    "df['percent change'][:5]"
   ]
  },
  {
   "cell_type": "markdown",
   "metadata": {
    "slideshow": {
     "slide_type": "slide"
    }
   },
   "source": [
    "## Aggregate total trading volume by month\n",
    "\n",
    "This is accomplished using the _resample()_ method. For example:"
   ]
  },
  {
   "cell_type": "code",
   "execution_count": 20,
   "metadata": {
    "collapsed": false,
    "slideshow": {
     "slide_type": "fragment"
    }
   },
   "outputs": [
    {
     "data": {
      "text/plain": [
       "Date\n",
       "2011-01    2710383900\n",
       "2011-02    2323987400\n",
       "2011-03    2826614700\n",
       "2011-04    2313457300\n",
       "2011-05    1728015100\n",
       "2011-06    2315962600\n",
       "2011-07    2663486700\n",
       "2011-08    4035649800\n",
       "2011-09    2994362000\n",
       "2011-10    3285356900\n",
       "Freq: M, Name: Volume, dtype: int64"
      ]
     },
     "execution_count": 20,
     "metadata": {},
     "output_type": "execute_result"
    }
   ],
   "source": [
    "df['Volume'].resample('M', kind='period').sum()[:10]"
   ]
  },
  {
   "cell_type": "markdown",
   "metadata": {
    "slideshow": {
     "slide_type": "fragment"
    }
   },
   "source": [
    "Let us understand the details of this function.\n",
    "\n",
    "    df['Volume'].resample('M', kind='period').sum()\n",
    "\n",
    "* This takes the Volume series, which is indexed on a daily basis,\n",
    "* _\"resamples\"_ it on a monthly basis (the 'M'),\n",
    "*  using the corresponding period as the index, e.g., the month '2011-01',\n",
    "* and aggregates the volumes on all days in the month using the 'sum' function."
   ]
  },
  {
   "cell_type": "markdown",
   "metadata": {
    "slideshow": {
     "slide_type": "slide"
    }
   },
   "source": [
    "### Find the average closing price every week"
   ]
  },
  {
   "cell_type": "code",
   "execution_count": 21,
   "metadata": {
    "collapsed": false,
    "slideshow": {
     "slide_type": "fragment"
    }
   },
   "outputs": [
    {
     "data": {
      "text/plain": [
       "Date\n",
       "2011-01-03/2011-01-09    332.942002\n",
       "2011-01-10/2011-01-16    344.534001\n",
       "2011-01-17/2011-01-23    334.722508\n",
       "2011-01-24/2011-01-30    340.401996\n",
       "2011-01-31/2011-02-06    343.722003\n",
       "2011-02-07/2011-02-13    355.326002\n",
       "2011-02-14/2011-02-20    358.214004\n",
       "2011-02-21/2011-02-27    343.067498\n",
       "2011-02-28/2011-03-06    354.839999\n",
       "2011-03-07/2011-03-13    352.449995\n",
       "Freq: W-SUN, Name: Close, dtype: float64"
      ]
     },
     "execution_count": 21,
     "metadata": {},
     "output_type": "execute_result"
    }
   ],
   "source": [
    "df['Close'].resample('W', kind='period').mean()[:10]"
   ]
  },
  {
   "cell_type": "markdown",
   "metadata": {
    "slideshow": {
     "slide_type": "slide"
    }
   },
   "source": [
    "## Moving averages\n",
    "\n",
    "A common statistical technique is to smooth a time series by averaging over a time window. For example, a weekly moving average of a time series has, for each day, the average value of the time series over the previous week.\n",
    "\n",
    "### Get the 30-day moving average"
   ]
  },
  {
   "cell_type": "code",
   "execution_count": 22,
   "metadata": {
    "collapsed": false,
    "slideshow": {
     "slide_type": "fragment"
    }
   },
   "outputs": [
    {
     "data": {
      "text/plain": [
       "Date\n",
       "2011-01-10           NaN\n",
       "2011-01-11           NaN\n",
       "2011-01-12           NaN\n",
       "2011-01-13           NaN\n",
       "2011-01-14    338.738001\n",
       "2011-01-18    338.911821\n",
       "2011-01-19    338.905837\n",
       "Name: Close, dtype: float64"
      ]
     },
     "execution_count": 22,
     "metadata": {},
     "output_type": "execute_result"
    }
   ],
   "source": [
    "moving_avg_30 = df['Close'].rolling(window=30, min_periods=10).mean()\n",
    "moving_avg_30[5:12]"
   ]
  },
  {
   "cell_type": "markdown",
   "metadata": {
    "slideshow": {
     "slide_type": "slide"
    }
   },
   "source": [
    "What does this mean?\n",
    "\n",
    "    df['Close'].rolling(window=30, min_periods=10).mean()\n",
    "\n",
    "* **df['Close']**: use this time series\n",
    "\n",
    "* **window=30**: take a window of closes over the past 30 days\n",
    "\n",
    "* **min_periods=10**: If the past 30 days don't exist (say, today is the 25th day from the start of the time series), what do we do? This option says:\n",
    "    * for the first 10 days of the time series, the moving average doesn't exist (NaN)\n",
    "    * from the 10th to 30th day, take the average of as many days as are available (so for the 25th day, we average the past 25 days)\n",
    "    * from the 30th day onwards, take the average of the past 30 days\n",
    "\n",
    "* **mean()**: Compute the mean for this rolling window"
   ]
  },
  {
   "cell_type": "markdown",
   "metadata": {
    "slideshow": {
     "slide_type": "slide"
    }
   },
   "source": [
    "### Plot the daily closes and the 30-day moving average"
   ]
  },
  {
   "cell_type": "code",
   "execution_count": 23,
   "metadata": {
    "collapsed": false,
    "slideshow": {
     "slide_type": "fragment"
    }
   },
   "outputs": [
    {
     "data": {
      "image/png": "[encoded data removed]",
      "text/plain": [
       "<matplotlib.figure.Figure at 0x6f503c8>"
      ]
     },
     "metadata": {},
     "output_type": "display_data"
    }
   ],
   "source": [
    "df['Close'].plot(label='Daily close')\n",
    "df['Close'].rolling(window=30, min_periods=10).mean().plot(label='30-day average')\n",
    "ylabel('Stock price')\n",
    "legend(loc='best')\n",
    "show()"
   ]
  },
  {
   "cell_type": "markdown",
   "metadata": {
    "slideshow": {
     "slide_type": "fragment"
    }
   },
   "source": [
    "Notice how the x-axis labels automatically say the name of the month, not the ugly \"2011-05-01\" stuff."
   ]
  },
  {
   "cell_type": "markdown",
   "metadata": {
    "slideshow": {
     "slide_type": "slide"
    }
   },
   "source": [
    "## Trading simulator\n",
    "\n",
    "A common trading rule says: buy when the 30-day moving average goes above the 180-day moving average (the BUY rule), and sell when it goes below (the SELL rule)."
   ]
  },
  {
   "cell_type": "markdown",
   "metadata": {
    "slideshow": {
     "slide_type": "fragment"
    }
   },
   "source": [
    "Let us assume you buy 1 share at the closing price the very day the BUY rule triggers, and sell that 1 share the day the SELL rule triggers. (This is cheating a little because we need that day's closing price to compute the averages, but let's gloss over that.) At the end, we want the overall return.\n",
    "\n",
    "How do we do this?"
   ]
  },
  {
   "cell_type": "markdown",
   "metadata": {
    "slideshow": {
     "slide_type": "slide"
    }
   },
   "source": [
    "* Step 1: Compute the daily return ratio, i.e., the ratio of today's closing price to yesterday's closing price.\n",
    "* Step 2: Create a mask of the days when I hold the share, i.e., the BUY rule has triggered, but the SELL rule has not.\n",
    "* Step 3: Compute the cumulative return ratio over the days of the mask. This is the product of the return ratios on the days I hold the share.\n",
    "\n"
   ]
  },
  {
   "cell_type": "markdown",
   "metadata": {
    "slideshow": {
     "slide_type": "slide"
    }
   },
   "source": [
    "**Step 1: Daily returns**\n",
    "\n",
    "We've already seen this."
   ]
  },
  {
   "cell_type": "code",
   "execution_count": 24,
   "metadata": {
    "collapsed": false,
    "slideshow": {
     "slide_type": "fragment"
    }
   },
   "outputs": [
    {
     "data": {
      "text/plain": [
       "Date\n",
       "2011-01-03         NaN\n",
       "2011-01-04    1.005219\n",
       "2011-01-05    1.008180\n",
       "2011-01-06    0.999192\n",
       "2011-01-07    1.007162\n",
       "2011-01-10    1.018833\n",
       "2011-01-11    0.997635\n",
       "2011-01-12    1.008137\n",
       "2011-01-13    1.003658\n",
       "2011-01-14    1.008100\n",
       "Name: Close, dtype: float64"
      ]
     },
     "execution_count": 24,
     "metadata": {},
     "output_type": "execute_result"
    }
   ],
   "source": [
    "closes = df['Close']\n",
    "daily_return_ratio = closes / closes.shift(1)\n",
    "daily_return_ratio[:10]"
   ]
  },
  {
   "cell_type": "markdown",
   "metadata": {
    "slideshow": {
     "slide_type": "slide"
    }
   },
   "source": [
    "**Step 2: Mask of days when we hold share**\n",
    "\n",
    "How do we do this?"
   ]
  },
  {
   "cell_type": "markdown",
   "metadata": {
    "slideshow": {
     "slide_type": "fragment"
    }
   },
   "source": [
    "* Compute the 30-day and 180-day moving averages"
   ]
  },
  {
   "cell_type": "markdown",
   "metadata": {
    "slideshow": {
     "slide_type": "fragment"
    }
   },
   "source": [
    "* Find the days when the 30-day average is greater than the 180-day average."
   ]
  },
  {
   "cell_type": "markdown",
   "metadata": {
    "slideshow": {
     "slide_type": "fragment"
    }
   },
   "source": [
    "* On which days do I hold the share?"
   ]
  },
  {
   "cell_type": "markdown",
   "metadata": {
    "slideshow": {
     "slide_type": "slide"
    }
   },
   "source": [
    " Consider the following example:\n",
    "\n",
    "* The 30-day average is greater than the 180-day average on 5th Jan, 6th Jan, ..., 11th Jan. It falls below the 180-day average on 12th Jan."
   ]
  },
  {
   "cell_type": "markdown",
   "metadata": {
    "slideshow": {
     "slide_type": "fragment"
    }
   },
   "source": [
    "* So we buy the share at close of 5th Jan, sell at the close of 12th Jan."
   ]
  },
  {
   "cell_type": "markdown",
   "metadata": {
    "slideshow": {
     "slide_type": "fragment"
    }
   },
   "source": [
    "* Hence we _held_ the share (and got its returns) for 6th Jan, 7th Jan, ..., 12th Jan."
   ]
  },
  {
   "cell_type": "markdown",
   "metadata": {
    "slideshow": {
     "slide_type": "fragment"
    }
   },
   "source": [
    "* On which days do I hold the share?\n",
    "    * The days we hold the share is shifted one day from the period the 30-day moving average is higher."
   ]
  },
  {
   "cell_type": "markdown",
   "metadata": {
    "slideshow": {
     "slide_type": "slide"
    }
   },
   "source": [
    "**Step 2: Mask of days when we hold share**\n",
    "\n",
    "1. Compute the 30-day and 180-day moving averages\n",
    "2. Find the days when the 30-day average is greater than the 180-day average.\n",
    "3. The days we hold the share is shifted one day from the periods found in Step 2."
   ]
  },
  {
   "cell_type": "markdown",
   "metadata": {
    "slideshow": {
     "slide_type": "slide"
    }
   },
   "source": [
    "**Step 2.1:** Moving averages"
   ]
  },
  {
   "cell_type": "code",
   "execution_count": 25,
   "metadata": {
    "collapsed": false,
    "slideshow": {
     "slide_type": "fragment"
    }
   },
   "outputs": [
    {
     "data": {
      "image/png": "[encoded data removed]",
      "text/plain": [
       "<matplotlib.figure.Figure at 0x7f504e0>"
      ]
     },
     "metadata": {},
     "output_type": "display_data"
    }
   ],
   "source": [
    "mavg_30 = closes.rolling(window=30, min_periods=10).mean()\n",
    "mavg_180 = closes.rolling(window=180, min_periods=10).mean()\n",
    "\n",
    "closes.plot(label='Daily close')\n",
    "mavg_30.plot(label='30-day average')\n",
    "mavg_180.plot(label='180-day average')\n",
    "ylabel('Stock price')\n",
    "legend(loc='best')\n",
    "figsize(8,6)"
   ]
  },
  {
   "cell_type": "markdown",
   "metadata": {
    "slideshow": {
     "slide_type": "slide"
    }
   },
   "source": [
    "**Step 2.2:** Find the days the 30-day average is greater."
   ]
  },
  {
   "cell_type": "code",
   "execution_count": 26,
   "metadata": {
    "collapsed": false,
    "slideshow": {
     "slide_type": "fragment"
    }
   },
   "outputs": [
    {
     "data": {
      "text/plain": [
       "Date\n",
       "2011-02-08    False\n",
       "2011-02-09    False\n",
       "2011-02-10    False\n",
       "2011-02-11    False\n",
       "2011-02-14    False\n",
       "2011-02-15     True\n",
       "2011-02-16     True\n",
       "2011-02-17     True\n",
       "2011-02-18     True\n",
       "2011-02-22     True\n",
       "Name: Close, dtype: bool"
      ]
     },
     "execution_count": 26,
     "metadata": {},
     "output_type": "execute_result"
    }
   ],
   "source": [
    "mavg_30_is_greater = (mavg_30 > mavg_180)\n",
    "mavg_30_is_greater['2011-02-08':'2011-02-22']"
   ]
  },
  {
   "cell_type": "markdown",
   "metadata": {
    "slideshow": {
     "slide_type": "slide"
    }
   },
   "source": [
    "**Step 2.3:** Hold on the days the 30-day moving average is greater, but shifted by 1."
   ]
  },
  {
   "cell_type": "code",
   "execution_count": 27,
   "metadata": {
    "collapsed": false,
    "slideshow": {
     "slide_type": "fragment"
    }
   },
   "outputs": [
    {
     "data": {
      "text/plain": [
       "Date\n",
       "2011-02-08    False\n",
       "2011-02-09    False\n",
       "2011-02-10    False\n",
       "2011-02-11    False\n",
       "2011-02-14    False\n",
       "2011-02-15    False\n",
       "2011-02-16     True\n",
       "2011-02-17     True\n",
       "2011-02-18     True\n",
       "2011-02-22     True\n",
       "Name: Close, dtype: object"
      ]
     },
     "execution_count": 27,
     "metadata": {},
     "output_type": "execute_result"
    }
   ],
   "source": [
    "hold_days = mavg_30_is_greater.shift(1)\n",
    "hold_days['2011-02-08':'2011-02-22']"
   ]
  },
  {
   "cell_type": "markdown",
   "metadata": {
    "slideshow": {
     "slide_type": "slide"
    }
   },
   "source": [
    "The story so far:\n",
    "\n",
    "* We computed daily returns\n",
    "* We computed the days on which we hold the share\n",
    "\n",
    "What's left?"
   ]
  },
  {
   "cell_type": "markdown",
   "metadata": {
    "slideshow": {
     "slide_type": "fragment"
    }
   },
   "source": [
    "* Compute daily returns just on the days we hold the share\n",
    "    * and take the product of these daily returns"
   ]
  },
  {
   "cell_type": "code",
   "execution_count": 28,
   "metadata": {
    "collapsed": false,
    "slideshow": {
     "slide_type": "slide"
    }
   },
   "outputs": [
    {
     "data": {
      "text/plain": [
       "Date\n",
       "2011-01-03      NaN\n",
       "2011-01-04    False\n",
       "2011-01-05    False\n",
       "Name: Close, dtype: object"
      ]
     },
     "execution_count": 28,
     "metadata": {},
     "output_type": "execute_result"
    }
   ],
   "source": [
    "# One little problem\n",
    "hold_days[0:3]"
   ]
  },
  {
   "cell_type": "markdown",
   "metadata": {},
   "source": [
    "The first date is NaN, because of the shift(). We cannot use hold_days as a mask for daily_return_ratio because the mask must contain only False or True. So let's fix it."
   ]
  },
  {
   "cell_type": "code",
   "execution_count": 29,
   "metadata": {
    "collapsed": false,
    "slideshow": {
     "slide_type": "fragment"
    }
   },
   "outputs": [
    {
     "data": {
      "text/plain": [
       "Date\n",
       "2011-01-03    False\n",
       "2011-01-04    False\n",
       "2011-01-05    False\n",
       "Name: Close, dtype: bool"
      ]
     },
     "execution_count": 29,
     "metadata": {},
     "output_type": "execute_result"
    }
   ],
   "source": [
    "hold_days = hold_days.fillna(False)  # we don't hold shares on the first day\n",
    "hold_days[0:3]"
   ]
  },
  {
   "cell_type": "markdown",
   "metadata": {
    "slideshow": {
     "slide_type": "fragment"
    }
   },
   "source": [
    "Let's see the period when we hold the share"
   ]
  },
  {
   "cell_type": "code",
   "execution_count": 30,
   "metadata": {
    "collapsed": false,
    "slideshow": {
     "slide_type": "slide"
    }
   },
   "outputs": [
    {
     "data": {
      "text/plain": [
       "[]"
      ]
     },
     "execution_count": 30,
     "metadata": {},
     "output_type": "execute_result"
    },
    {
     "data": {
      "image/png": "[encoded data removed]",
      "text/plain": [
       "<matplotlib.figure.Figure at 0x833eba8>"
      ]
     },
     "metadata": {},
     "output_type": "display_data"
    }
   ],
   "source": [
    "fig, (ax1, ax2) = subplots(nrows=2,\n",
    "                           ncols=1,\n",
    "                           sharex=True,\n",
    "                           figsize=(8, 6))\n",
    "\n",
    "closes.plot(ax=ax1, label='Daily close')\n",
    "mavg_30.plot(ax=ax1, label='30-day average')\n",
    "mavg_180.plot(ax=ax1, label='180-day average')\n",
    "ax1.legend(loc='best')\n",
    "ax1.set_ylabel('Stock price')\n",
    "\n",
    "hold_days.plot(ax=ax2, ylim=[0,2], label='Moving average signal')\n",
    "ax2.legend(loc='best')\n",
    "ax2.yaxis.set_ticklabels([])"
   ]
  },
  {
   "cell_type": "markdown",
   "metadata": {
    "slideshow": {
     "slide_type": "slide"
    }
   },
   "source": [
    "**Finally: Compute cumulative return**"
   ]
  },
  {
   "cell_type": "code",
   "execution_count": 31,
   "metadata": {
    "collapsed": false
   },
   "outputs": [
    {
     "data": {
      "text/plain": [
       "Date\n",
       "2011-02-16    1.008975\n",
       "2011-02-17    0.986699\n",
       "2011-02-18    0.978398\n",
       "2011-02-22    0.965912\n",
       "2011-02-23    1.011843\n",
       "Name: Close, dtype: float64"
      ]
     },
     "execution_count": 31,
     "metadata": {},
     "output_type": "execute_result"
    }
   ],
   "source": [
    "# What are the returns on the days we hold the share?\n",
    "s = daily_return_ratio[hold_days]\n",
    "s[:5]"
   ]
  },
  {
   "cell_type": "code",
   "execution_count": 32,
   "metadata": {
    "collapsed": false
   },
   "outputs": [
    {
     "name": "stdout",
     "output_type": "stream",
     "text": [
      "Overall return ratio = 1.39983871441\n"
     ]
    }
   ],
   "source": [
    "# Overall return is the product of the returns on each day we held a share.\n",
    "print 'Overall return ratio =', s.prod()"
   ]
  },
  {
   "cell_type": "markdown",
   "metadata": {
    "slideshow": {
     "slide_type": "fragment"
    }
   },
   "source": [
    "Is this good? Let's compare to a buy-and-hold strategy, where we buy on the first day and sell on the last."
   ]
  },
  {
   "cell_type": "code",
   "execution_count": 33,
   "metadata": {
    "collapsed": false,
    "slideshow": {
     "slide_type": "fragment"
    }
   },
   "outputs": [
    {
     "name": "stdout",
     "output_type": "stream",
     "text": [
      "Return of buy-and-hold = 1.70227871772\n"
     ]
    }
   ],
   "source": [
    "print 'Return of buy-and-hold =', daily_return_ratio.prod()"
   ]
  },
  {
   "cell_type": "markdown",
   "metadata": {
    "slideshow": {
     "slide_type": "slide"
    }
   },
   "source": [
    "Let's see how the cumulative return of the moving average strategy compares to buy-and-hold."
   ]
  },
  {
   "cell_type": "code",
   "execution_count": 34,
   "metadata": {
    "collapsed": false,
    "slideshow": {
     "slide_type": "fragment"
    }
   },
   "outputs": [
    {
     "data": {
      "image/png": "[encoded data removed]",
      "text/plain": [
       "<matplotlib.figure.Figure at 0x8332f60>"
      ]
     },
     "metadata": {},
     "output_type": "display_data"
    }
   ],
   "source": [
    "s.cumprod().plot(label='Moving average strategy')\n",
    "daily_return_ratio.cumprod().plot(label='Buy and hold strategy')\n",
    "ylabel('Return ratio')\n",
    "legend(loc='best')\n",
    "figsize(12,8)"
   ]
  },
  {
   "cell_type": "markdown",
   "metadata": {
    "slideshow": {
     "slide_type": "fragment"
    }
   },
   "source": [
    "* By the time the moving average strategy sells, the downturn has already hit hard.\n",
    "* By the time it buys, prices have already gone up quite a bit."
   ]
  }
 ],
 "metadata": {
  "celltoolbar": "Slideshow",
  "kernelspec": {
   "display_name": "Python 2",
   "language": "python",
   "name": "python2"
  },
  "language_info": {
   "codemirror_mode": {
    "name": "ipython",
    "version": 2
   },
   "file_extension": ".py",
   "mimetype": "text/x-python",
   "name": "python",
   "nbconvert_exporter": "python",
   "pygments_lexer": "ipython2",
   "version": "2.7.11"
  }
 },
 "nbformat": 4,
 "nbformat_minor": 0
}
